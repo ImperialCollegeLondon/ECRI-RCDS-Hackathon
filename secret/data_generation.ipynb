{
 "cells": [
  {
   "cell_type": "markdown",
   "id": "42bf14c2",
   "metadata": {},
   "source": [
    "## Generate graph datasets\n",
    "\n",
    "Using NetworkX to generate graphs.\n",
    "\n",
    "Each graph has up to 50000 vertices.\n",
    "\n",
    "Each dataset is created using a different graph generation recipe. (see https://networkx.org/documentation/stable/reference/generators.html)\n",
    "\n",
    "The task will be to distinguish between graphs of two types.\n"
   ]
  },
  {
   "cell_type": "code",
   "execution_count": 22,
   "id": "d02047d8",
   "metadata": {},
   "outputs": [],
   "source": [
    "import networkx as nx\n",
    "import os\n",
    "import random\n",
    "\n",
    "# number of graphs per generator\n",
    "nG = 20\n"
   ]
  },
  {
   "cell_type": "code",
   "execution_count": 5,
   "id": "d21293e4",
   "metadata": {},
   "outputs": [],
   "source": [
    "# Make a demo graph\n",
    "\n",
    "G = nx.erdos_renyi_graph(1000, 0.0001)\n",
    "nx.write_adjlist(G, \"demo_graph.txt\")"
   ]
  },
  {
   "cell_type": "code",
   "execution_count": 23,
   "id": "8f7d51a8",
   "metadata": {},
   "outputs": [],
   "source": [
    "# Erdos-Renyi random graph dataset\n",
    "\n",
    "dir_ER = \"ER\"\n",
    "if not os.path.exists(dir_ER):\n",
    "    os.makedirs(dir_ER)\n",
    "\n",
    "for gi in range(nG):\n",
    "\n",
    "    # number of vertices\n",
    "    nv = int(5000 * random.random())\n",
    "\n",
    "    # edge probability\n",
    "    p_ER = 0.01 * random.random()\n",
    "\n",
    "    G = nx.erdos_renyi_graph(nv, p_ER)\n",
    "    path = dir_ER + \"/\" + str(gi) + \".txt\"\n",
    "    nx.write_adjlist(G, path)\n"
   ]
  },
  {
   "cell_type": "code",
   "execution_count": 25,
   "id": "5d28b58d",
   "metadata": {},
   "outputs": [],
   "source": [
    "# Geometric random graph dataset\n",
    "\n",
    "dir_GEOM = \"GEOM\"\n",
    "if not os.path.exists(dir_GEOM):\n",
    "    os.makedirs(dir_GEOM)\n",
    "\n",
    "for gi in range(nG):\n",
    "\n",
    "    # number of vertices\n",
    "    nv = int(5000 * random.random())\n",
    "\n",
    "    # edge radius\n",
    "    r_GEOM = 0.1 * random.random()\n",
    "\n",
    "    G = nx.random_geometric_graph(nv, r_GEOM)\n",
    "    path = dir_GEOM + \"/\" + str(gi) + \".txt\"\n",
    "    nx.write_adjlist(G, path)\n"
   ]
  },
  {
   "cell_type": "code",
   "execution_count": 26,
   "id": "82344ecf",
   "metadata": {},
   "outputs": [],
   "source": [
    "# Barabasi-Albert graph dataset\n",
    "\n",
    "dir_BA = \"BA\"\n",
    "if not os.path.exists(dir_BA):\n",
    "    os.makedirs(dir_BA)\n",
    "\n",
    "for gi in range(nG):\n",
    "\n",
    "    # number of vertices\n",
    "    nv = int(5000 * random.random())\n",
    "\n",
    "    # edge number\n",
    "    m = 1\n",
    "\n",
    "    G = nx.barabasi_albert_graph(nv, m)\n",
    "    path = dir_BA + \"/\" + str(gi) + \".txt\"\n",
    "    nx.write_adjlist(G, path)\n"
   ]
  },
  {
   "cell_type": "code",
   "execution_count": 27,
   "id": "828c4c8e",
   "metadata": {},
   "outputs": [],
   "source": [
    "# Newman-Watts-Strogatz graph dataset\n",
    "\n",
    "dir_NWS = \"NWS\"\n",
    "if not os.path.exists(dir_NWS):\n",
    "    os.makedirs(dir_NWS)\n",
    "\n",
    "for gi in range(nG):\n",
    "\n",
    "    # number of vertices\n",
    "    nv = int(5000 * random.random())\n",
    "\n",
    "    # number of neighbouts to join\n",
    "    k = 2\n",
    "\n",
    "    # edge probability\n",
    "    p = 0.5 * random.random()\n",
    "\n",
    "    G = nx.newman_watts_strogatz_graph(nv, k, p)\n",
    "    path = dir_NWS + \"/\" + str(gi) + \".txt\"\n",
    "    nx.write_adjlist(G, path)"
   ]
  },
  {
   "cell_type": "code",
   "execution_count": 19,
   "id": "d9039889",
   "metadata": {},
   "outputs": [],
   "source": [
    "# Grid graph dataset\n",
    "\n",
    "dir_GRID = \"GRID\"\n",
    "if not os.path.exists(dir_GRID):\n",
    "    os.makedirs(dir_GRID)\n",
    "\n",
    "for gi in range(nG):\n",
    "\n",
    "    # dimensions\n",
    "    a = random.randint(1,100)\n",
    "    b = random.randint(1,100)\n",
    "    c = random.randint(1,100)\n",
    "    dim = (\n",
    "        range(0, a),\n",
    "        range(a, a + b),\n",
    "        range(a + b, a + b + c)\n",
    "    )\n",
    "\n",
    "    G = nx.grid_graph(dim)\n",
    "    path = dir_GRID + \"/\" + str(gi) + \".txt\"\n",
    "    nx.write_adjlist(G, path)"
   ]
  },
  {
   "cell_type": "code",
   "execution_count": 28,
   "id": "8f5d5716",
   "metadata": {},
   "outputs": [],
   "source": [
    "# Lobster graph dataset\n",
    "\n",
    "dir_LOBSTER = \"LOBSTER\"\n",
    "if not os.path.exists(dir_LOBSTER):\n",
    "    os.makedirs(dir_LOBSTER)\n",
    "\n",
    "for gi in range(nG):\n",
    "\n",
    "     # number of vertices\n",
    "    nv = int(5000 * random.random())\n",
    "\n",
    "    # edge probability 1\n",
    "    p1 = 0.5 * random.random()\n",
    "\n",
    "    # edge probability 2\n",
    "    p2 = 0.5 * random.random()\n",
    "    \n",
    "    G = nx.random_lobster(nv, p1, p2)\n",
    "    path = dir_LOBSTER + \"/\" + str(gi) + \".txt\"\n",
    "    nx.write_adjlist(G, path)"
   ]
  },
  {
   "cell_type": "code",
   "execution_count": null,
   "id": "d624703a",
   "metadata": {},
   "outputs": [],
   "source": []
  }
 ],
 "metadata": {
  "kernelspec": {
   "display_name": "hack25",
   "language": "python",
   "name": "python3"
  },
  "language_info": {
   "codemirror_mode": {
    "name": "ipython",
    "version": 3
   },
   "file_extension": ".py",
   "mimetype": "text/x-python",
   "name": "python",
   "nbconvert_exporter": "python",
   "pygments_lexer": "ipython3",
   "version": "3.12.11"
  }
 },
 "nbformat": 4,
 "nbformat_minor": 5
}
