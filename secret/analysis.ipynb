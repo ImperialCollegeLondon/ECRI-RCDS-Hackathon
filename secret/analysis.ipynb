{
 "cells": [
  {
   "cell_type": "markdown",
   "id": "4d992847",
   "metadata": {},
   "source": [
    "# Analysis of hackathon results\n",
    "\n",
    "Download the form data to this directory, then:"
   ]
  },
  {
   "cell_type": "code",
   "execution_count": 1,
   "id": "25fc8f3f",
   "metadata": {},
   "outputs": [],
   "source": [
    "import pandas as pd\n",
    "\n",
    "fname = \"RCDS Hackathon 2025 - Sustainable Coding.xlsx\"\n",
    "data = pd.read_excel(fname)\n"
   ]
  },
  {
   "cell_type": "code",
   "execution_count": 2,
   "id": "ea071646",
   "metadata": {},
   "outputs": [
    {
     "data": {
      "text/html": [
       "<div>\n",
       "<style scoped>\n",
       "    .dataframe tbody tr th:only-of-type {\n",
       "        vertical-align: middle;\n",
       "    }\n",
       "\n",
       "    .dataframe tbody tr th {\n",
       "        vertical-align: top;\n",
       "    }\n",
       "\n",
       "    .dataframe thead th {\n",
       "        text-align: right;\n",
       "    }\n",
       "</style>\n",
       "<table border=\"1\" class=\"dataframe\">\n",
       "  <thead>\n",
       "    <tr style=\"text-align: right;\">\n",
       "      <th></th>\n",
       "      <th>Team name</th>\n",
       "      <th>Number of LLM interactions during development</th>\n",
       "      <th>Total CO2 emissions for LLM usage /kgCO2</th>\n",
       "      <th>Total tracked CO2 emissions during development</th>\n",
       "      <th>Emissions for training the final model on the full training dataset /kgCO2</th>\n",
       "      <th>Emissions for testing on the evaluation dataset /kgCO2</th>\n",
       "      <th>Total CO2 emissions /kgCO2</th>\n",
       "      <th>Overall prediction accuracy on the evaluation dataset</th>\n",
       "    </tr>\n",
       "  </thead>\n",
       "  <tbody>\n",
       "    <tr>\n",
       "      <th>0</th>\n",
       "      <td>Example</td>\n",
       "      <td>0</td>\n",
       "      <td>0.0</td>\n",
       "      <td>0.001337</td>\n",
       "      <td>0.000062</td>\n",
       "      <td>0.000083</td>\n",
       "      <td>0.001482</td>\n",
       "      <td>0.87</td>\n",
       "    </tr>\n",
       "  </tbody>\n",
       "</table>\n",
       "</div>"
      ],
      "text/plain": [
       "  Team name  Number of LLM interactions during development  \\\n",
       "0   Example                                              0   \n",
       "\n",
       "   Total CO2 emissions for LLM usage /kgCO2  \\\n",
       "0                                       0.0   \n",
       "\n",
       "   Total tracked CO2 emissions during development  \\\n",
       "0                                        0.001337   \n",
       "\n",
       "   Emissions for training the final model on the full training dataset /kgCO2  \\\n",
       "0                                           0.000062                            \n",
       "\n",
       "   Emissions for testing on the evaluation dataset /kgCO2  \\\n",
       "0                                           0.000083        \n",
       "\n",
       "   Total CO2 emissions /kgCO2  \\\n",
       "0                    0.001482   \n",
       "\n",
       "   Overall prediction accuracy on the evaluation dataset  \n",
       "0                                               0.87      "
      ]
     },
     "execution_count": 2,
     "metadata": {},
     "output_type": "execute_result"
    }
   ],
   "source": [
    "per_query = 0.00432     # estimated 4.32g CO2 per ChatGPT query.\n",
    "leaderboard = data.iloc[:,5:]\n",
    "leaderboard['Total CO2 emissions for LLM usage /kgCO2'] = per_query * leaderboard.iloc[:,1]\n",
    "leaderboard['Total CO2 emissions /kgCO2'] = leaderboard.iloc[:,2] + \\\n",
    "                                        leaderboard.iloc[:,3] + \\\n",
    "                                        leaderboard.iloc[:,4] + \\\n",
    "                                        leaderboard.iloc[:,6]\n",
    "                                     \n",
    "leaderboard = leaderboard.iloc[:,[0,1,6,2,3,4,7,5]]\n",
    "leaderboard"
   ]
  },
  {
   "cell_type": "code",
   "execution_count": 3,
   "id": "6fe57962",
   "metadata": {},
   "outputs": [
    {
     "name": "stderr",
     "output_type": "stream",
     "text": [
      "/opt/homebrew/Caskroom/miniconda/base/envs/hack25_2/lib/python3.13/site-packages/matplotlib/text.py:762: FutureWarning: Calling float on a single element Series is deprecated and will raise a TypeError in the future. Use float(ser.iloc[0]) instead\n",
      "  posx = float(self.convert_xunits(x))\n",
      "/opt/homebrew/Caskroom/miniconda/base/envs/hack25_2/lib/python3.13/site-packages/matplotlib/text.py:763: FutureWarning: Calling float on a single element Series is deprecated and will raise a TypeError in the future. Use float(ser.iloc[0]) instead\n",
      "  posy = float(self.convert_yunits(y))\n",
      "/opt/homebrew/Caskroom/miniconda/base/envs/hack25_2/lib/python3.13/site-packages/matplotlib/text.py:905: FutureWarning: Calling float on a single element Series is deprecated and will raise a TypeError in the future. Use float(ser.iloc[0]) instead\n",
      "  x = float(self.convert_xunits(self._x))\n",
      "/opt/homebrew/Caskroom/miniconda/base/envs/hack25_2/lib/python3.13/site-packages/matplotlib/text.py:906: FutureWarning: Calling float on a single element Series is deprecated and will raise a TypeError in the future. Use float(ser.iloc[0]) instead\n",
      "  y = float(self.convert_yunits(self._y))\n"
     ]
    },
    {
     "data": {
      "image/png": "[encoded data removed]",
      "text/plain": [
       "<Figure size 640x480 with 1 Axes>"
      ]
     },
     "metadata": {},
     "output_type": "display_data"
    }
   ],
   "source": [
    "import matplotlib.pyplot as plt\n",
    "plt.scatter(leaderboard['Total CO2 emissions /kgCO2'], \n",
    "                        leaderboard['Overall prediction accuracy on the evaluation dataset'],\n",
    "                        c='c')\n",
    "for name in leaderboard['Team name']:\n",
    "    plt.text(leaderboard['Total CO2 emissions /kgCO2'], \n",
    "             leaderboard['Overall prediction accuracy on the evaluation dataset'],\n",
    "             name)\n",
    "plt.show()"
   ]
  },
  {
   "cell_type": "markdown",
   "id": "d66bda3a",
   "metadata": {},
   "source": [
    "---"
   ]
  }
 ],
 "metadata": {
  "kernelspec": {
   "display_name": "hack25_2",
   "language": "python",
   "name": "python3"
  },
  "language_info": {
   "codemirror_mode": {
    "name": "ipython",
    "version": 3
   },
   "file_extension": ".py",
   "mimetype": "text/x-python",
   "name": "python",
   "nbconvert_exporter": "python",
   "pygments_lexer": "ipython3",
   "version": "3.13.5"
  }
 },
 "nbformat": 4,
 "nbformat_minor": 5
}
