{
 "cells": [
  {
   "cell_type": "markdown",
   "id": "5ebe7b40",
   "metadata": {},
   "source": []
  },
  {
   "cell_type": "markdown",
   "id": "1f9251b0",
   "metadata": {},
   "source": [
    "# Feature Selection"
   ]
  },
  {
   "cell_type": "markdown",
   "id": "01c116f8",
   "metadata": {},
   "source": [
    "## Why feature selection?"
   ]
  },
  {
   "cell_type": "markdown",
   "id": "5275fe48",
   "metadata": {},
   "source": [
    "Feature selection, or *variable selection*, is an often used technique in machine learning. It is a process of selecting subset of highly relevant data to benefit modelling in many ways. Such as,\n",
    "\n",
    "- Reduce the complexity, that is, improve the efficiency of training [1].\n",
    "\n",
    "- Improve the prediction accuracy [1,2].\n",
    "\n",
    "\n"
   ]
  },
  {
   "cell_type": "markdown",
   "id": "b5907fe4",
   "metadata": {},
   "source": [
    "## Example from Iris data\n"
   ]
  },
  {
   "cell_type": "markdown",
   "id": "4bd7307e",
   "metadata": {},
   "source": [
    "### Data Description\n",
    "\n",
    "https://scikit-learn.org/1.4/auto_examples/datasets/plot_iris_dataset.html\n",
    "\n",
    "This data sets consists of 3 different types of irises’ (Setosa, Versicolour, and Virginica) petal and sepal length, stored in a 150 rows and 4 columns array.\n",
    "\n",
    "The rows being the samples and the columns being: Sepal Length, Sepal Width, Petal Length and Petal Width."
   ]
  },
  {
   "cell_type": "markdown",
   "id": "35d45a27",
   "metadata": {},
   "source": [
    "### Load required libraries"
   ]
  },
  {
   "cell_type": "code",
   "execution_count": 2,
   "id": "483e8cdf",
   "metadata": {},
   "outputs": [],
   "source": [
    "# load libraries\n",
    "import numpy as np\n",
    "import pandas as pd\n",
    "from sklearn.datasets import load_iris\n",
    "from sklearn.linear_model import LogisticRegression\n",
    "from sklearn.model_selection import train_test_split\n",
    "from sklearn.metrics import accuracy_score, confusion_matrix\n",
    "from scipy.stats import pearsonr\n",
    "import seaborn as sns\n",
    "import matplotlib.pyplot as plt"
   ]
  },
  {
   "cell_type": "markdown",
   "id": "b809f2f3",
   "metadata": {},
   "source": [
    "### Load data"
   ]
  },
  {
   "cell_type": "code",
   "execution_count": 3,
   "id": "3f8fbff0",
   "metadata": {},
   "outputs": [
    {
     "data": {
      "text/html": [
       "<div>\n",
       "<style scoped>\n",
       "    .dataframe tbody tr th:only-of-type {\n",
       "        vertical-align: middle;\n",
       "    }\n",
       "\n",
       "    .dataframe tbody tr th {\n",
       "        vertical-align: top;\n",
       "    }\n",
       "\n",
       "    .dataframe thead th {\n",
       "        text-align: right;\n",
       "    }\n",
       "</style>\n",
       "<table border=\"1\" class=\"dataframe\">\n",
       "  <thead>\n",
       "    <tr style=\"text-align: right;\">\n",
       "      <th></th>\n",
       "      <th>sepal length (cm)</th>\n",
       "      <th>sepal width (cm)</th>\n",
       "      <th>petal length (cm)</th>\n",
       "      <th>petal width (cm)</th>\n",
       "    </tr>\n",
       "  </thead>\n",
       "  <tbody>\n",
       "    <tr>\n",
       "      <th>0</th>\n",
       "      <td>5.1</td>\n",
       "      <td>3.5</td>\n",
       "      <td>1.4</td>\n",
       "      <td>0.2</td>\n",
       "    </tr>\n",
       "    <tr>\n",
       "      <th>1</th>\n",
       "      <td>4.9</td>\n",
       "      <td>3.0</td>\n",
       "      <td>1.4</td>\n",
       "      <td>0.2</td>\n",
       "    </tr>\n",
       "    <tr>\n",
       "      <th>2</th>\n",
       "      <td>4.7</td>\n",
       "      <td>3.2</td>\n",
       "      <td>1.3</td>\n",
       "      <td>0.2</td>\n",
       "    </tr>\n",
       "    <tr>\n",
       "      <th>3</th>\n",
       "      <td>4.6</td>\n",
       "      <td>3.1</td>\n",
       "      <td>1.5</td>\n",
       "      <td>0.2</td>\n",
       "    </tr>\n",
       "    <tr>\n",
       "      <th>4</th>\n",
       "      <td>5.0</td>\n",
       "      <td>3.6</td>\n",
       "      <td>1.4</td>\n",
       "      <td>0.2</td>\n",
       "    </tr>\n",
       "  </tbody>\n",
       "</table>\n",
       "</div>"
      ],
      "text/plain": [
       "   sepal length (cm)  sepal width (cm)  petal length (cm)  petal width (cm)\n",
       "0                5.1               3.5                1.4               0.2\n",
       "1                4.9               3.0                1.4               0.2\n",
       "2                4.7               3.2                1.3               0.2\n",
       "3                4.6               3.1                1.5               0.2\n",
       "4                5.0               3.6                1.4               0.2"
      ]
     },
     "execution_count": 3,
     "metadata": {},
     "output_type": "execute_result"
    }
   ],
   "source": [
    "# Load the Iris dataset\n",
    "iris = load_iris()\n",
    "X = pd.DataFrame(iris.data, columns=iris.feature_names)\n",
    "y = pd.Series(iris.target)\n",
    "\n",
    "# Convert to binary classification: Setosa vs. Not Setosa\n",
    "y_binary = (y == 0).astype(int)  # Setosa = 1, others = 0\n",
    "\n",
    "X.head()"
   ]
  },
  {
   "cell_type": "markdown",
   "id": "ddeb6765",
   "metadata": {},
   "source": [
    "### Correlation matrix"
   ]
  },
  {
   "cell_type": "code",
   "execution_count": 4,
   "id": "d65883b9",
   "metadata": {},
   "outputs": [
    {
     "data": {
      "text/plain": [
       "[('petal length (cm)', 0.9227653847036497),\n",
       " ('petal width (cm)', 0.8873436966114582),\n",
       " ('sepal length (cm)', 0.7174156686860961),\n",
       " ('sepal width (cm)', 0.6033478273490609)]"
      ]
     },
     "execution_count": 4,
     "metadata": {},
     "output_type": "execute_result"
    }
   ],
   "source": [
    "# Compute Pearson correlation between each feature and the binary target\n",
    "correlations = {}\n",
    "for col in X.columns:\n",
    "    corr, _ = pearsonr(X[col], y_binary)\n",
    "    correlations[col] = abs(corr)\n",
    "\n",
    "# Sort features by absolute correlation\n",
    "sorted_features = sorted(correlations.items(), key=lambda x: x[1], reverse=True)\n",
    "sorted_features\n"
   ]
  },
  {
   "cell_type": "markdown",
   "id": "469354da",
   "metadata": {},
   "source": [
    "### Select top feature(s)"
   ]
  },
  {
   "cell_type": "code",
   "execution_count": 6,
   "id": "3397b932",
   "metadata": {},
   "outputs": [
    {
     "data": {
      "text/plain": [
       "['petal length (cm)', 'petal width (cm)']"
      ]
     },
     "execution_count": 6,
     "metadata": {},
     "output_type": "execute_result"
    }
   ],
   "source": [
    "\n",
    "# Select top 2 features\n",
    "k = 2\n",
    "top_features = [feature for feature, _ in sorted_features[:k]]\n",
    "top_features\n"
   ]
  },
  {
   "cell_type": "markdown",
   "id": "0a36ec3d",
   "metadata": {},
   "source": [
    "### Prepare data"
   ]
  },
  {
   "cell_type": "code",
   "execution_count": 7,
   "id": "87cee4f7",
   "metadata": {},
   "outputs": [],
   "source": [
    "# Split data into training and test sets\n",
    "X_train_all, X_test_all, y_train, y_test = train_test_split(X, y_binary, test_size=0.3, random_state=42)\n",
    "X_train_sel = X_train_all[top_features]\n",
    "X_test_sel = X_test_all[top_features]"
   ]
  },
  {
   "cell_type": "markdown",
   "id": "aa2bf220",
   "metadata": {},
   "source": [
    "### Regression model"
   ]
  },
  {
   "cell_type": "code",
   "execution_count": 8,
   "id": "b17f98c6",
   "metadata": {},
   "outputs": [],
   "source": [
    "# Train logistic regression on all features\n",
    "model_all = LogisticRegression(max_iter=200)\n",
    "model_all.fit(X_train_all, y_train)\n",
    "y_pred_all = model_all.predict(X_test_all)\n",
    "\n",
    "# Train logistic regression on selected features\n",
    "model_sel = LogisticRegression(max_iter=200)\n",
    "model_sel.fit(X_train_sel, y_train)\n",
    "y_pred_sel = model_sel.predict(X_test_sel)"
   ]
  },
  {
   "cell_type": "markdown",
   "id": "b86d4cfe",
   "metadata": {},
   "source": [
    "### Evaluate the model"
   ]
  },
  {
   "cell_type": "code",
   "execution_count": 10,
   "id": "b4fcf330",
   "metadata": {},
   "outputs": [
    {
     "name": "stdout",
     "output_type": "stream",
     "text": [
      "Accuracy with all features: 1.0000\n",
      "Accuracy with selected features: 1.0000\n"
     ]
    }
   ],
   "source": [
    "# Evaluate accuracy\n",
    "acc_all = accuracy_score(y_test, y_pred_all)\n",
    "acc_sel = accuracy_score(y_test, y_pred_sel)\n",
    "\n",
    "print(f\"Accuracy with all features: {acc_all:.4f}\")\n",
    "print(f\"Accuracy with selected features: {acc_sel:.4f}\")"
   ]
  },
  {
   "cell_type": "markdown",
   "id": "12ef3f55",
   "metadata": {},
   "source": [
    "### Visualize the comparison"
   ]
  },
  {
   "cell_type": "code",
   "execution_count": 11,
   "id": "662805e9",
   "metadata": {},
   "outputs": [
    {
     "data": {
      "image/png": "[encoded data removed]",
      "text/plain": [
       "<Figure size 1000x400 with 4 Axes>"
      ]
     },
     "metadata": {},
     "output_type": "display_data"
    }
   ],
   "source": [
    "# Plot confusion matrices\n",
    "fig, axes = plt.subplots(1, 2, figsize=(10, 4))\n",
    "\n",
    "sns.heatmap(confusion_matrix(y_test, y_pred_all), annot=True, fmt='d', ax=axes[0], cmap='Blues')\n",
    "axes[0].set_title('All Features')\n",
    "axes[0].set_xlabel('Predicted')\n",
    "axes[0].set_ylabel('Actual')\n",
    "\n",
    "sns.heatmap(confusion_matrix(y_test, y_pred_sel), annot=True, fmt='d', ax=axes[1], cmap='Greens')\n",
    "axes[1].set_title('Selected Features')\n",
    "axes[1].set_xlabel('Predicted')\n",
    "axes[1].set_ylabel('Actual')\n",
    "\n",
    "plt.tight_layout()\n",
    "plt.show()\n"
   ]
  },
  {
   "cell_type": "markdown",
   "id": "5806df5c",
   "metadata": {},
   "source": [
    "## Reference\n",
    "\n",
    "1. Gareth James; Daniela Witten; Trevor Hastie; Robert Tibshirani (2013). \"An Introduction to Statistical Learning\". *Springer*. p. 204.\n",
    "2. Kratsios, Anastasis; Hyndman, Cody (2021). \"NEU: A Meta-Algorithm for Universal UAP-Invariant Feature Representation\". *Journal of Machine Learning Research*. 22 (92): 1–51"
   ]
  }
 ],
 "metadata": {
  "kernelspec": {
   "display_name": "Python 3",
   "language": "python",
   "name": "python3"
  },
  "language_info": {
   "codemirror_mode": {
    "name": "ipython",
    "version": 3
   },
   "file_extension": ".py",
   "mimetype": "text/x-python",
   "name": "python",
   "nbconvert_exporter": "python",
   "pygments_lexer": "ipython3",
   "version": "3.12.3"
  }
 },
 "nbformat": 4,
 "nbformat_minor": 5
}
