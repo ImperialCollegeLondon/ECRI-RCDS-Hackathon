{
 "cells": [
  {
   "cell_type": "markdown",
   "id": "1f9251b0",
   "metadata": {},
   "source": [
    "# Basic Profiling\n",
    "\n",
    "A simple way to estimate the environmental impact of our code is to make use of functions from python's `time`, `psutil` and `os` modules. \n",
    "\n",
    "We can easily measure the total runtime. \n",
    "\n",
    "Although memory allocation in python is handled by the garbage collector, we can still get a very rough idea of the memory used for the operation by recording the total memory before and after.\n"
   ]
  },
  {
   "cell_type": "code",
   "execution_count": null,
   "id": "3f8fbff0",
   "metadata": {},
   "outputs": [],
   "source": [
    "import psutil, os, gc, time\n",
    "\n",
    "# Function to get memory usage\n",
    "def get_memory_usage():\n",
    "    process = psutil.Process(os.getpid())\n",
    "    mem_info = process.memory_info()\n",
    "    return mem_info.rss / 1024 / 1024  # Memory in MB\n",
    "\n",
    "def fib(n):\n",
    "    if(n == 0):\n",
    "        return 0\n",
    "    if(n == 1):\n",
    "        return 1\n",
    "    return fib(n - 1) + fib(n - 2)\n",
    "\n",
    "def fibs(n):\n",
    "    return [fib(i) for i in range(n)]\n",
    "\n",
    "# Clear the memory before starting\n",
    "gc.collect() \n",
    "\n",
    "mem_before = get_memory_usage()\n",
    "time_before = time.time()\n",
    "\n",
    "print(fibs(35))\n",
    "\n",
    "mem_after = get_memory_usage()\n",
    "time_after = time.time()\n",
    "\n",
    "print(f\"execution time: {(time_after - time_before):,.4f}s\")\n",
    "print(f\"memory diff: {(mem_after - mem_before):,.4f}M\")\n"
   ]
  },
  {
   "cell_type": "markdown",
   "id": "c087e2c3",
   "metadata": {},
   "source": [
    "## Task 1: Memoization\n",
    "\n",
    "[Memoization](https://en.wikipedia.org/wiki/Memoization) is a simple technique to avoid repeated calculations.\n",
    "\n",
    "A memoised version of the `fib()` function would massively reduce the required runtime.\n",
    "\n",
    "Write one below and see how it changes the runtime and memory usage."
   ]
  },
  {
   "cell_type": "code",
   "execution_count": null,
   "id": "16e0629f",
   "metadata": {},
   "outputs": [],
   "source": []
  },
  {
   "cell_type": "markdown",
   "id": "b9563770",
   "metadata": {},
   "source": [
    "## Task 2: Pathfinding\n",
    "\n",
    "Here we will use a graph theory problem as an example of a task that can be accomplished in different ways.\n",
    "\n",
    "A *[graph](https://en.wikipedia.org/wiki/Graph_(discrete_mathematics)#Undirected_graph)* is a set of *vertices* plus a set of *edges* (vertex pairs) that connect some of the vertices.\n",
    "We will consider only undirected graphs.\n",
    "\n",
    "The file `data/facebook_combined.txt` contains a graph of friends taken from Facebook (4,039 nodes and 88,234 edges). Each person is a vertex, labelled with a number.\n",
    "\n",
    "(You can find more information about this dataset at https://snap.stanford.edu/data/ego-Facebook.html)\n",
    "\n",
    "Find the shortest path from person 0 to person 4038.\n",
    "\n",
    "You will probably find the package [NetworkX](https://networkx.org/documentation/stable/index.html) useful.\n"
   ]
  },
  {
   "cell_type": "code",
   "execution_count": null,
   "id": "1a38e86f",
   "metadata": {},
   "outputs": [],
   "source": [
    "import networkx as nx\n",
    "\n",
    "file_path = \"data/facebook_combined.txt\"\n",
    "G = nx.read_edgelist(file_path, nodetype=int)"
   ]
  },
  {
   "cell_type": "markdown",
   "id": "a1c10836",
   "metadata": {},
   "source": [
    "### (1) Using a brute force method"
   ]
  },
  {
   "cell_type": "code",
   "execution_count": null,
   "id": "e4c5b206",
   "metadata": {},
   "outputs": [],
   "source": []
  },
  {
   "cell_type": "markdown",
   "id": "e7682b52",
   "metadata": {},
   "source": [
    "### (2) Using a more efficient algorithm"
   ]
  },
  {
   "cell_type": "code",
   "execution_count": null,
   "id": "7f06aa91",
   "metadata": {},
   "outputs": [],
   "source": []
  },
  {
   "cell_type": "markdown",
   "id": "638273b1",
   "metadata": {},
   "source": [
    "### Compare the runtime and memory usage of your two versions."
   ]
  },
  {
   "cell_type": "code",
   "execution_count": null,
   "id": "0100f83b",
   "metadata": {},
   "outputs": [],
   "source": []
  },
  {
   "cell_type": "markdown",
   "id": "3b1c92f4",
   "metadata": {},
   "source": [
    "## Task 3: More robust estimates\n",
    "\n",
    "You will have noticed that there can be big variations in both the runtime and the memory usage.\n",
    "\n",
    "Write a wrapper function `report_stats()` that accepts a function (the operation to be profiled) and an integer (the number of times to repeat the profiling). \n",
    "\n",
    "Your function should report the mean and standard deviation for both the runtime and memory usage."
   ]
  },
  {
   "cell_type": "code",
   "execution_count": null,
   "id": "0475868b",
   "metadata": {},
   "outputs": [],
   "source": []
  },
  {
   "cell_type": "markdown",
   "id": "b05ddc4d",
   "metadata": {},
   "source": [
    "## Task 4: More detailed profiling\n",
    "\n",
    "\n",
    "Profiling by function gives us a high-level idea of how often functions are called and how long those calls last. One way to do this is to import the `cProfile` module and run a function using the `cProfile.run()` function, providing a string argument which is the command used to invoke the function. `cProfile` is part of the Python standard library and so is available without installing any additional packages. For example:"
   ]
  },
  {
   "cell_type": "code",
   "execution_count": null,
   "id": "87963dd1",
   "metadata": {},
   "outputs": [],
   "source": [
    "# Import the cProfile module\n",
    "import cProfile\n",
    "\n",
    "# Call the cProfile.run() method with a string argument that is the call to the function you want to profile\n",
    "cProfile.run('fibs(35)', sort='tottime')"
   ]
  },
  {
   "cell_type": "markdown",
   "id": "71547a49",
   "metadata": {},
   "source": [
    "The output shows the total time spent running the code and the total number of function calls. Then, for each function, it shows:\n",
    "* ```ncalls```: the number of times the function was called.\n",
    "* ```tottime```: the total time spent in the function, excluding time spent in functions called by the function.\n",
    "* ```percall```: the time spent in the function per call, excluding time spent in functions called by the function.\n",
    "* ```cumtime```: the total time spent in the function, including time spent in functions called by the function.\n",
    "* ```percall```: the time spent in the function per call, including time spent in functions called by the function.\n",
    "* ```filename:lineno(function)```: the filename, line number and function name.\n",
    "\n",
    "In the output you will see a number of functions which you have neither written nor explicitly called. These are often called as part of how Python internally executes your code. They are normally not very consequential in terms of run-time and can often be ignored."
   ]
  },
  {
   "cell_type": "markdown",
   "id": "58ccdde0",
   "metadata": {},
   "source": [
    "Try using `cProfile.run()` to evaluate your pathfinding code."
   ]
  },
  {
   "cell_type": "code",
   "execution_count": null,
   "id": "d55037bf",
   "metadata": {},
   "outputs": [],
   "source": []
  },
  {
   "cell_type": "markdown",
   "id": "d0c552b9",
   "metadata": {},
   "source": [
    "---"
   ]
  }
 ],
 "metadata": {
  "kernelspec": {
   "display_name": "hack25",
   "language": "python",
   "name": "python3"
  },
  "language_info": {
   "codemirror_mode": {
    "name": "ipython",
    "version": 3
   },
   "file_extension": ".py",
   "mimetype": "text/x-python",
   "name": "python",
   "nbconvert_exporter": "python",
   "pygments_lexer": "ipython3",
   "version": "3.12.11"
  }
 },
 "nbformat": 4,
 "nbformat_minor": 5
}
