{
 "cells": [
  {
   "cell_type": "markdown",
   "id": "1f9251b0",
   "metadata": {},
   "source": [
    "# Basic Profiling\n",
    "\n",
    "A simple way to estimate the environmental impact of our code is to make use of functions from python's `time`, `psutil` and `os` modules. \n",
    "\n",
    "We can easily measure the total runtime. \n",
    "\n",
    "Although memory allocation in python is handled by the garbage collector, we can still get a very rough idea of the memory used for the operation by recording the total memory before and after.\n"
   ]
  },
  {
   "cell_type": "code",
   "execution_count": 62,
   "id": "3f8fbff0",
   "metadata": {},
   "outputs": [
    {
     "name": "stdout",
     "output_type": "stream",
     "text": [
      "[0, 1, 1, 2, 3, 5, 8, 13, 21, 34, 55, 89, 144, 233, 377, 610, 987, 1597, 2584, 4181, 6765, 10946, 17711, 28657, 46368, 75025, 121393, 196418, 317811, 514229, 832040, 1346269, 2178309, 3524578, 5702887]\n",
      "execution time: 1.6275s\n",
      "memory diff: 0.0000M\n"
     ]
    }
   ],
   "source": [
    "import psutil, gc, os, time\n",
    "\n",
    "# Function to get memory usage\n",
    "def get_memory_usage():\n",
    "    process = psutil.Process(os.getpid())\n",
    "    mem_info = process.memory_info()\n",
    "    return mem_info.rss / 1024 / 1024  # Memory in MB\n",
    "\n",
    "def fib(n):\n",
    "    if(n == 0):\n",
    "        return 0\n",
    "    if(n == 1):\n",
    "        return 1\n",
    "    return fib(n - 1) + fib(n - 2)\n",
    "\n",
    "def fibs(n):\n",
    "    return [fib(i) for i in range(n)]\n",
    "\n",
    "# Clear the memory before starting\n",
    "gc.collect() \n",
    "\n",
    "mem_before = get_memory_usage()\n",
    "time_before = time.time()\n",
    "\n",
    "print(fibs(35))\n",
    "\n",
    "mem_after = get_memory_usage()\n",
    "time_after = time.time()\n",
    "\n",
    "print(f\"execution time: {(time_after - time_before):,.4f}s\")\n",
    "print(f\"memory diff: {(mem_after - mem_before):,.4f}M\")\n"
   ]
  },
  {
   "cell_type": "markdown",
   "id": "c087e2c3",
   "metadata": {},
   "source": [
    "## Task 1: Memoization\n",
    "\n",
    "[Memoization](https://en.wikipedia.org/wiki/Memoization) is a simple technique to avoid repeated calculations.\n",
    "\n",
    "A memoised version of the `fib()` function would massively reduce the required runtime.\n",
    "\n",
    "Write one below and see how it changes the runtime and memory usage."
   ]
  },
  {
   "cell_type": "code",
   "execution_count": 60,
   "id": "16e0629f",
   "metadata": {},
   "outputs": [],
   "source": [
    "_fib = {0: 0, 1: 1}\n",
    "\n",
    "def fib_memo(n):\n",
    "    if n in _fib:\n",
    "        return _fib[n]\n",
    "    else:\n",
    "        result = fib_memo(n - 1) + fib_memo(n - 2)\n",
    "        _fib[n] = result\n",
    "        return result\n",
    "    \n",
    "def fibs_memo(n):\n",
    "    return [fib_memo(i) for i in range(n)]\n"
   ]
  },
  {
   "cell_type": "code",
   "execution_count": 61,
   "id": "cbcbe5b1",
   "metadata": {},
   "outputs": [
    {
     "name": "stdout",
     "output_type": "stream",
     "text": [
      "[0, 1, 1, 2, 3, 5, 8, 13, 21, 34, 55, 89, 144, 233, 377, 610, 987, 1597, 2584, 4181, 6765, 10946, 17711, 28657, 46368, 75025, 121393, 196418, 317811, 514229, 832040, 1346269, 2178309, 3524578, 5702887]\n",
      "execution time: 0.0003s\n",
      "memory diff: 0.0000M\n"
     ]
    }
   ],
   "source": [
    "gc.collect() \n",
    "\n",
    "mem_before = get_memory_usage()\n",
    "time_before = time.time()\n",
    "\n",
    "print(fibs_memo(35))\n",
    "\n",
    "mem_after = get_memory_usage()\n",
    "time_after = time.time()\n",
    "\n",
    "print(f\"execution time: {(time_after - time_before):,.4f}s\")\n",
    "print(f\"memory diff: {(mem_after - mem_before):,.4f}M\")"
   ]
  },
  {
   "cell_type": "markdown",
   "id": "b9563770",
   "metadata": {},
   "source": [
    "## Task 2: Pathfinding\n",
    "\n",
    "Here we will use a graph theory problem as an example of a task that can be accomplished in different ways.\n",
    "\n",
    "A *[graph](https://en.wikipedia.org/wiki/Graph_(discrete_mathematics)#Undirected_graph)* is a set of *vertices* plus a set of *edges* (vertex pairs) that connect some of the vertices.\n",
    "We will consider only undirected graphs.\n",
    "\n",
    "The file `data/facebook_combined.txt` contains a graph of friends taken from Facebook (4,039 nodes and 88,234 edges). Each person is a vertex, labelled with a number.\n",
    "\n",
    "(You can find more information about this dataset at https://snap.stanford.edu/data/ego-Facebook.html)\n",
    "\n",
    "Find the shortest path from person 0 to person 4038.\n",
    "\n",
    "You will probably find the package [NetworkX](https://networkx.org/documentation/stable/index.html) useful.\n",
    "\n"
   ]
  },
  {
   "cell_type": "code",
   "execution_count": 2,
   "id": "1a38e86f",
   "metadata": {},
   "outputs": [],
   "source": [
    "import networkx as nx\n",
    "\n",
    "file_path = \"data/facebook_combined.txt\"\n",
    "G = nx.read_edgelist(file_path, nodetype=int)"
   ]
  },
  {
   "cell_type": "markdown",
   "id": "a1c10836",
   "metadata": {},
   "source": [
    "### (1) Using a brute force method"
   ]
  },
  {
   "cell_type": "code",
   "execution_count": null,
   "id": "622072c3",
   "metadata": {},
   "outputs": [
    {
     "data": {
      "text/plain": [
       "[0, 34, 414, 594, 3980, 4038]"
      ]
     },
     "execution_count": 7,
     "metadata": {},
     "output_type": "execute_result"
    }
   ],
   "source": [
    "# function to find all the possible extensions of a path\n",
    "def extend(G, path):\n",
    "    ex = []\n",
    "    for v in G.neighbors(path[-1]):\n",
    "        if v not in path:\n",
    "            ex.append( path + [v] )\n",
    "    return ex\n",
    "\n",
    "# brute force pathfinding\n",
    "def path_brute(G, start, end):\n",
    "\n",
    "    # initialise paths\n",
    "    P = [ [start] ]   # stores all paths originating at `start`\n",
    "\n",
    "    # loop\n",
    "    finished = False\n",
    "    while(not finished):\n",
    "        finished = True\n",
    "        P_next = []\n",
    "        for p in P:\n",
    "            ex = extend(G, p)\n",
    "            for p2 in ex:\n",
    "                \n",
    "                if p2[-1] == end:\n",
    "                    return p2                  # we have a solution!\n",
    "                else:\n",
    "                    finished = False           # this path needs to be processed further\n",
    "                    P_next.append(p2)\n",
    "        P = P_next\n",
    "\n",
    "\n",
    "path_brute(G, 0, 4038)"
   ]
  },
  {
   "cell_type": "markdown",
   "id": "e7682b52",
   "metadata": {},
   "source": [
    "### (2) Using a more efficient algorithm"
   ]
  },
  {
   "cell_type": "code",
   "execution_count": null,
   "id": "6a7b1e72",
   "metadata": {},
   "outputs": [
    {
     "data": {
      "text/plain": [
       "[0, 34, 414, 594, 3980, 4038]"
      ]
     },
     "execution_count": 5,
     "metadata": {},
     "output_type": "execute_result"
    }
   ],
   "source": [
    "# Using the Dijkstra algorithm implemented in NetworkX\n",
    "nx.shortest_path(G, 0, 4038)  "
   ]
  },
  {
   "cell_type": "markdown",
   "id": "638273b1",
   "metadata": {},
   "source": [
    "### Compare the runtime and memory usage of your two versions."
   ]
  },
  {
   "cell_type": "code",
   "execution_count": 54,
   "id": "0100f83b",
   "metadata": {},
   "outputs": [],
   "source": [
    "def task_brute():\n",
    "    return path_brute(G, 0, 4038)\n",
    "\n",
    "def task_alg():\n",
    "    return nx.shortest_path(G, 0, 4038)\n",
    "\n",
    "def report(desc, task):\n",
    "\n",
    "    print(desc)\n",
    "\n",
    "    gc.collect() \n",
    "\n",
    "    mem_before = get_memory_usage()\n",
    "    time_before = time.time()\n",
    "\n",
    "    print(task())\n",
    "\n",
    "    mem_after = get_memory_usage()\n",
    "    time_after = time.time()\n",
    "\n",
    "    print(f\"execution time: {(time_after - time_before):,.4f}s\")\n",
    "    print(f\"memory diff: {(mem_after - mem_before):,.4f}M\")\n",
    "    print()\n"
   ]
  },
  {
   "cell_type": "code",
   "execution_count": 55,
   "id": "b1d2dad1",
   "metadata": {},
   "outputs": [
    {
     "name": "stdout",
     "output_type": "stream",
     "text": [
      "brute force\n",
      "[0, 34, 414, 594, 3980, 4038]\n",
      "execution time: 21.3086s\n",
      "memory diff: -30.4688M\n",
      "\n"
     ]
    }
   ],
   "source": [
    "report(\"brute force\", task_brute)"
   ]
  },
  {
   "cell_type": "code",
   "execution_count": 56,
   "id": "cebd50b9",
   "metadata": {},
   "outputs": [
    {
     "name": "stdout",
     "output_type": "stream",
     "text": [
      "dijkstra algorithm\n",
      "[0, 34, 414, 594, 3980, 4038]\n",
      "execution time: 0.0001s\n",
      "memory diff: 0.0000M\n",
      "\n"
     ]
    }
   ],
   "source": [
    "report(\"dijkstra algorithm\", task_alg)"
   ]
  },
  {
   "cell_type": "markdown",
   "id": "3b1c92f4",
   "metadata": {},
   "source": [
    "## Task 3: More robust estimates\n",
    "\n",
    "You will have noticed that there can be big variations in both the runtime and the memory usage.\n",
    "\n",
    "Write a wrapper function `report_stats()` that accepts a function (the operation to be profiled) and an integer (the number of times to repeat the profiling). \n",
    "\n",
    "Your function should report the mean and standard deviation for both the runtime and memory usage."
   ]
  },
  {
   "cell_type": "code",
   "execution_count": 19,
   "id": "0475868b",
   "metadata": {},
   "outputs": [],
   "source": [
    "import numpy as np\n",
    "\n",
    "def report_stats(desc, task, n_iter):\n",
    "\n",
    "    print(desc)\n",
    "\n",
    "    results = []\n",
    "    runtimes = []\n",
    "    mem_usages = []\n",
    "\n",
    "    for i in range(n_iter):\n",
    "\n",
    "        gc.collect() \n",
    "\n",
    "        mem_before = get_memory_usage()\n",
    "        time_before = time.time()\n",
    "\n",
    "        results.append(task())\n",
    "\n",
    "        mem_after = get_memory_usage()\n",
    "        time_after = time.time()\n",
    "\n",
    "        runtimes.append(time_after - time_before)\n",
    "        mem_usages.append(mem_after - mem_before)\n",
    "\n",
    "    print(f\"mean execution time: {np.mean(runtimes):,.4f}s\")\n",
    "    print(f\"std execution time: {np.std(runtimes):,.4f}s\")\n",
    "    print(f\"mean memory usage: {np.mean(mem_usages):,.4f}M\")\n",
    "    print(f\"std memory usage: {np.std(mem_usages):,.4f}M\")\n",
    "    print()\n",
    "\n",
    "    return results\n"
   ]
  },
  {
   "cell_type": "code",
   "execution_count": 21,
   "id": "84e5536a",
   "metadata": {},
   "outputs": [
    {
     "name": "stdout",
     "output_type": "stream",
     "text": [
      "brute force\n",
      "mean execution time: 19.6116s\n",
      "std execution time: 1.8628s\n",
      "mean memory usage: -62.3000M\n",
      "std memory usage: 6.5450M\n",
      "\n"
     ]
    },
    {
     "data": {
      "text/plain": [
       "[[0, 34, 414, 594, 3980, 4038],\n",
       " [0, 34, 414, 594, 3980, 4038],\n",
       " [0, 34, 414, 594, 3980, 4038],\n",
       " [0, 34, 414, 594, 3980, 4038],\n",
       " [0, 34, 414, 594, 3980, 4038],\n",
       " [0, 34, 414, 594, 3980, 4038],\n",
       " [0, 34, 414, 594, 3980, 4038],\n",
       " [0, 34, 414, 594, 3980, 4038],\n",
       " [0, 34, 414, 594, 3980, 4038],\n",
       " [0, 34, 414, 594, 3980, 4038]]"
      ]
     },
     "execution_count": 21,
     "metadata": {},
     "output_type": "execute_result"
    }
   ],
   "source": [
    "report_stats(\"brute force\", task_brute, 10)"
   ]
  },
  {
   "cell_type": "code",
   "execution_count": 20,
   "id": "63f69517",
   "metadata": {},
   "outputs": [
    {
     "name": "stdout",
     "output_type": "stream",
     "text": [
      "dijkstra algorithm\n",
      "mean execution time: 0.0001s\n",
      "std execution time: 0.0000s\n",
      "mean memory usage: 0.0063M\n",
      "std memory usage: 0.0143M\n",
      "\n"
     ]
    },
    {
     "data": {
      "text/plain": [
       "[[0, 34, 414, 594, 3980, 4038],\n",
       " [0, 34, 414, 594, 3980, 4038],\n",
       " [0, 34, 414, 594, 3980, 4038],\n",
       " [0, 34, 414, 594, 3980, 4038],\n",
       " [0, 34, 414, 594, 3980, 4038],\n",
       " [0, 34, 414, 594, 3980, 4038],\n",
       " [0, 34, 414, 594, 3980, 4038],\n",
       " [0, 34, 414, 594, 3980, 4038],\n",
       " [0, 34, 414, 594, 3980, 4038],\n",
       " [0, 34, 414, 594, 3980, 4038]]"
      ]
     },
     "execution_count": 20,
     "metadata": {},
     "output_type": "execute_result"
    }
   ],
   "source": [
    "report_stats(\"dijkstra algorithm\", task_alg, 10)"
   ]
  },
  {
   "cell_type": "markdown",
   "id": "b05ddc4d",
   "metadata": {},
   "source": [
    "## Task 4: More detailed profiling\n",
    "\n",
    "\n",
    "Profiling by function gives us a high-level idea of how often functions are called and how long those calls last. One way to do this is to import the `cProfile` module and run a function using the `cProfile.run()` function, providing a string argument which is the command used to invoke the function. `cProfile` is part of the Python standard library and so is available without installing any additional packages. For example:"
   ]
  },
  {
   "cell_type": "code",
   "execution_count": 63,
   "id": "b0b0f08d",
   "metadata": {},
   "outputs": [
    {
     "name": "stdout",
     "output_type": "stream",
     "text": [
      "         48316336 function calls (758 primitive calls) in 5.379 seconds\n",
      "\n",
      "   Ordered by: internal time\n",
      "\n",
      "   ncalls  tottime  percall  cumtime  percall filename:lineno(function)\n",
      "48315597/35    5.378    0.000    5.438    0.155 419126109.py:9(fib)\n",
      "      7/3    0.000    0.000    0.002    0.001 events.py:87(_run)\n",
      "        5    0.000    0.000    0.000    0.000 attrsettr.py:66(_get_attr_opt)\n",
      "       14    0.000    0.000    0.000    0.000 socket.py:623(send)\n",
      "       66    0.000    0.000    0.000    0.000 enum.py:1589(_get_value)\n",
      "        1    0.000    0.000    0.000    0.000 {method 'disable' of '_lsprof.Profiler' objects}\n",
      "        2    0.000    0.000    0.000    0.000 socket.py:771(recv_multipart)\n",
      "       15    0.000    0.000    0.000    0.000 enum.py:1596(__or__)\n",
      "        6    0.000    0.000    0.000    0.000 typing.py:426(inner)\n",
      "        5    0.000    0.000    0.000    0.000 attrsettr.py:43(__getattr__)\n",
      "  143/139    0.000    0.000    0.000    0.000 {built-in method builtins.isinstance}\n",
      "        1    0.000    0.000    5.379    5.379 <string>:1(<module>)\n",
      "        7    0.000    0.000    0.000    0.000 enum.py:1607(__and__)\n",
      "        1    0.000    0.000    0.000    0.000 inspect.py:3148(_bind)\n",
      "        2    0.000    0.000    0.000    0.000 {method 'recv' of '_socket.socket' objects}\n",
      "       29    0.000    0.000    0.000    0.000 enum.py:695(__call__)\n",
      "        5    0.000    0.000    0.014    0.003 base_events.py:1962(_run_once)\n",
      "      4/1    0.000    0.000    0.000    0.000 {method 'control' of 'select.kqueue' objects}\n",
      "        1    0.000    0.000    0.000    0.000 {method 'execute' of 'sqlite3.Connection' objects}\n",
      "        8    0.000    0.000    0.000    0.000 {built-in method builtins.next}\n",
      "      4/1    0.000    0.000    0.000    0.000 selectors.py:540(select)\n",
      "       29    0.000    0.000    0.000    0.000 enum.py:1156(__new__)\n",
      "        1    0.000    0.000    5.379    5.379 419126109.py:16(fibs)\n",
      "        1    0.000    0.000    0.000    0.000 threading.py:428(notify_all)\n",
      "        1    0.000    0.000    0.000    0.000 decorator.py:200(fix)\n",
      "      6/4    0.000    0.000    0.001    0.000 {method 'run' of '_contextvars.Context' objects}\n",
      "        3    0.000    0.000    0.000    0.000 zmqstream.py:653(_rebuild_io_state)\n",
      "        1    0.000    0.000    0.000    0.000 inspect.py:3290(bind)\n",
      "        4    0.000    0.000    0.000    0.000 base_events.py:852(_call_soon)\n",
      "        1    0.000    0.000    0.000    0.000 selector_events.py:141(_write_to_self)\n",
      "        3    0.000    0.000    0.000    0.000 queue.py:115(empty)\n",
      "        4    0.000    0.000    0.000    0.000 traitlets.py:676(__get__)\n",
      "        1    0.000    0.000    0.000    0.000 {method '_is_owned' of '_thread.RLock' objects}\n",
      "        1    0.000    0.000    0.000    0.000 inspect.py:2962(apply_defaults)\n",
      "        5    0.000    0.000    0.000    0.000 <frozen importlib._bootstrap>:1390(_handle_fromlist)\n",
      "        1    0.000    0.000    0.000    0.000 {method 'send' of '_socket.socket' objects}\n",
      "        1    0.000    0.000    0.000    0.000 history.py:1024(writeout_cache)\n",
      "        2    0.000    0.000    0.000    0.000 {method '__exit__' of 'sqlite3.Connection' objects}\n",
      "        1    0.000    0.000    0.000    0.000 selector_events.py:129(_read_from_self)\n",
      "        1    0.000    0.000    0.000    0.000 iostream.py:127(_event_pipe_gc)\n",
      "        1    0.000    0.000    0.000    0.000 queues.py:225(get)\n",
      "       10    0.000    0.000    0.000    0.000 {method 'popleft' of 'collections.deque' objects}\n",
      "        5    0.000    0.000    0.000    0.000 events.py:36(__init__)\n",
      "        1    0.000    0.000    0.000    0.000 traitlets.py:1527(_notify_observers)\n",
      "        1    0.000    0.000    0.000    0.000 queues.py:209(put_nowait)\n",
      "        2    0.000    0.000    0.000    0.000 traitlets.py:3631(set)\n",
      "        1    0.000    0.000    0.000    0.000 queues.py:186(put)\n",
      "        2    0.000    0.000    0.000    0.000 iostream.py:278(_really_send)\n",
      "        8    0.000    0.000    0.000    0.000 base_events.py:772(time)\n",
      "        3    0.000    0.000    0.000    0.000 zmqstream.py:676(_update_handler)\n",
      "        1    0.000    0.000    0.000    0.000 contextlib.py:303(helper)\n",
      "        4    0.000    0.000    0.000    0.000 typing.py:1443(__hash__)\n",
      "       10    0.000    0.000    0.000    0.000 {built-in method builtins.hasattr}\n",
      "        1    0.000    0.000    0.000    0.000 futures.py:391(_call_set_state)\n",
      "        6    0.000    0.000    0.000    0.000 {built-in method builtins.getattr}\n",
      "        1    0.000    0.000    0.000    0.000 inspect.py:2909(args)\n",
      "        3    0.000    0.000    0.000    0.000 threading.py:303(__enter__)\n",
      "        2    0.000    0.000    0.000    0.000 traitlets.py:689(set)\n",
      "        2    0.000    0.000    0.000    0.000 tasks.py:703(sleep)\n",
      "        1    0.000    0.000    0.000    0.000 asyncio.py:231(add_callback)\n",
      "        2    0.000    0.000    0.000    0.000 zmqstream.py:573(_handle_events)\n",
      "        1    0.000    0.000    0.000    0.000 threading.py:315(_acquire_restore)\n",
      "        1    0.000    0.000    0.000    0.000 contextlib.py:108(__init__)\n",
      "        2    0.000    0.000    0.000    0.000 queues.py:322(_consume_expired)\n",
      "        2    0.000    0.000    0.000    0.000 traitlets.py:727(_cross_validate)\n",
      "        3    0.000    0.000    0.000    0.000 base_events.py:823(call_soon)\n",
      "        2    0.000    0.000    0.000    0.000 traitlets.py:718(_validate)\n",
      "        3    0.000    0.000    0.000    0.000 {method 'set_result' of '_asyncio.Future' objects}\n",
      "       20    0.000    0.000    0.000    0.000 {built-in method builtins.len}\n",
      "        1    0.000    0.000    0.000    0.000 iostream.py:118(_run_event_pipe_gc)\n",
      "        4    0.000    0.000    0.000    0.000 traitlets.py:629(get)\n",
      "        2    0.000    0.000    0.000    0.000 typing.py:1665(__subclasscheck__)\n",
      "        9    0.000    0.000    0.000    0.000 {method 'append' of 'collections.deque' objects}\n",
      "        2    0.000    0.000    0.000    0.000 traitlets.py:3474(validate)\n",
      "        1    0.000    0.000    0.000    0.000 traitlets.py:1512(_notify_trait)\n",
      "        1    0.000    0.000    0.000    0.000 {method 'values' of 'mappingproxy' objects}\n",
      "        2    0.000    0.000    0.000    0.000 zmqstream.py:546(_run_callback)\n",
      "        1    0.000    0.000    0.001    0.001 kernelbase.py:302(poll_control_queue)\n",
      "        5    0.000    0.000    0.000    0.000 selector_events.py:740(_process_events)\n",
      "        3    0.000    0.000    0.000    0.000 threading.py:306(__exit__)\n",
      "        2    0.000    0.000    0.000    0.000 iostream.py:213(_is_master_process)\n",
      "        2    0.000    0.000    0.000    0.000 traitlets.py:3624(validate_elements)\n",
      "        1    0.000    0.000    0.000    0.000 concurrent.py:185(future_set_result_unless_cancelled)\n",
      "        1    0.000    0.000    0.000    0.000 contextlib.py:136(__enter__)\n",
      "        1    0.000    0.000    0.000    0.000 base_events.py:1947(_add_callback)\n",
      "        1    0.000    0.000    0.000    0.000 threading.py:398(notify)\n",
      "        1    0.000    0.000    0.000    0.000 traitlets.py:1523(notify_change)\n",
      "        2    0.000    0.000    0.000    0.000 zmqstream.py:614(_handle_recv)\n",
      "        1    0.000    0.000    0.000    0.000 queues.py:256(get_nowait)\n",
      "        1    0.000    0.000    0.000    0.000 events.py:157(cancel)\n",
      "        2    0.000    0.000    0.000    0.000 traitlets.py:2304(validate)\n",
      "        3    0.000    0.000    0.000    0.000 threading.py:1136(is_alive)\n",
      "        8    0.000    0.000    0.000    0.000 {built-in method time.monotonic}\n",
      "        1    0.000    0.000    0.000    0.000 inspect.py:2932(kwargs)\n",
      "        3    0.000    0.000    0.000    0.000 zmqstream.py:532(sending)\n",
      "        1    0.000    0.000    0.000    0.000 contextlib.py:145(__exit__)\n",
      "        2    0.000    0.000    0.000    0.000 {built-in method _abc._abc_subclasscheck}\n",
      "        1    0.000    0.000    0.000    0.000 queues.py:317(__put_internal)\n",
      "        2    0.000    0.000    0.000    0.000 typing.py:1374(__instancecheck__)\n",
      "        5    0.000    0.000    0.000    0.000 {method 'append' of 'list' objects}\n",
      "        5    0.000    0.000    0.000    0.000 {method 'upper' of 'str' objects}\n",
      "        2    0.000    0.000    0.000    0.000 traitlets.py:708(__set__)\n",
      "        1    0.000    0.000    0.000    0.000 threading.py:631(clear)\n",
      "        1    0.000    0.000    0.000    0.000 base_events.py:781(call_later)\n",
      "        5    0.000    0.000    0.000    0.000 {built-in method builtins.max}\n",
      "       20    0.000    0.000    0.000    0.000 typing.py:2371(cast)\n",
      "       10    0.000    0.000    0.000    0.000 inspect.py:2819(kind)\n",
      "        2    0.000    0.000    0.000    0.000 history.py:1065(hold)\n",
      "        1    0.000    0.000    0.000    0.000 base_events.py:457(create_future)\n",
      "        8    0.000    0.000    0.000    0.000 {method '__exit__' of '_thread.lock' objects}\n",
      "        2    0.000    0.000    0.000    0.000 iostream.py:216(_check_mp_mode)\n",
      "        1    0.000    0.000    0.000    0.000 base_events.py:805(call_at)\n",
      "        5    0.000    0.000    0.000    0.000 {method 'get' of 'dict' objects}\n",
      "        1    0.000    0.000    0.000    0.000 base_events.py:876(call_soon_threadsafe)\n",
      "        1    0.000    0.000    0.000    0.000 history.py:1016(_writeout_output_cache)\n",
      "        2    0.000    0.000    0.000    0.000 iostream.py:276(<lambda>)\n",
      "        3    0.000    0.000    0.000    0.000 queue.py:267(_qsize)\n",
      "        2    0.000    0.000    0.000    0.000 {built-in method builtins.issubclass}\n",
      "        3    0.000    0.000    0.000    0.000 {method 'acquire' of '_thread.lock' objects}\n",
      "        2    0.000    0.000    0.000    0.000 socket.py:700(send_multipart)\n",
      "        1    0.000    0.000    0.000    0.000 threading.py:312(_release_save)\n",
      "        2    0.000    0.000    0.000    0.000 traitlets.py:3486(validate_elements)\n",
      "        2    0.000    0.000    0.000    0.000 iostream.py:157(_handle_event)\n",
      "        3    0.000    0.000    0.000    0.000 {built-in method _contextvars.copy_context}\n",
      "        2    0.000    0.000    0.000    0.000 <frozen abc>:121(__subclasscheck__)\n",
      "        1    0.000    0.000    0.000    0.000 queues.py:177(empty)\n",
      "        1    0.000    0.000    0.000    0.000 unix_events.py:83(_process_self_data)\n",
      "        3    0.000    0.000    0.000    0.000 {method 'items' of 'mappingproxy' objects}\n",
      "        1    0.000    0.000    0.000    0.000 {method '__enter__' of '_thread.RLock' objects}\n",
      "        1    0.000    0.000    0.000    0.000 futures.py:310(_set_result_unless_cancelled)\n",
      "        5    0.000    0.000    0.000    0.000 zmqstream.py:528(receiving)\n",
      "        1    0.000    0.000    0.000    0.000 queues.py:173(qsize)\n",
      "        2    0.000    0.000    0.000    0.000 {built-in method builtins.iter}\n",
      "        4    0.000    0.000    0.000    0.000 {built-in method builtins.hash}\n",
      "        2    0.000    0.000    0.000    0.000 {built-in method posix.getpid}\n",
      "        1    0.000    0.000    0.000    0.000 ioloop.py:750(_run_callback)\n",
      "        2    0.000    0.000    0.000    0.000 {method '__enter__' of '_thread.lock' objects}\n",
      "        3    0.000    0.000    0.000    0.000 {method 'cancelled' of '_asyncio.Future' objects}\n",
      "        1    0.000    0.000    0.000    0.000 {built-in method math.isnan}\n",
      "        4    0.000    0.000    0.000    0.000 inspect.py:2807(name)\n",
      "        9    0.000    0.000    0.000    0.000 base_events.py:2060(get_debug)\n",
      "        4    0.000    0.000    0.000    0.000 inspect.py:3102(parameters)\n",
      "        1    0.000    0.000    0.000    0.000 history.py:1008(_writeout_input_cache)\n",
      "        1    0.000    0.000    0.000    0.000 queues.py:309(_get)\n",
      "        1    0.000    0.000    0.000    0.000 queues.py:312(_put)\n",
      "        5    0.000    0.000    0.000    0.000 base_events.py:554(_check_closed)\n",
      "        1    0.000    0.000    0.000    0.000 history.py:92(only_when_enabled)\n",
      "        2    0.000    0.000    0.000    0.000 {built-in method _asyncio.get_running_loop}\n",
      "        1    0.000    0.000    0.000    0.000 events.py:113(__init__)\n",
      "        1    0.000    0.000    0.000    0.000 {built-in method _heapq.heappop}\n",
      "        1    0.000    0.000    0.000    0.000 {built-in method _thread.allocate_lock}\n",
      "        1    0.000    0.000    0.000    0.000 _base.py:337(_invoke_callbacks)\n",
      "        1    0.000    0.000    0.001    0.001 _base.py:537(set_result)\n",
      "        1    0.000    0.000    0.000    0.000 {method 'done' of '_asyncio.Future' objects}\n",
      "        2    0.000    0.000    0.000    0.000 {method 'extend' of 'list' objects}\n",
      "        1    0.000    0.000    0.001    0.001 asyncio.py:206(_handle_events)\n",
      "        1    0.000    0.000    0.000    0.000 threading.py:318(_is_owned)\n",
      "        1    0.000    0.000    0.000    0.000 {built-in method _heapq.heappush}\n",
      "        1    0.000    0.000    0.000    0.000 events.py:73(cancel)\n",
      "        1    0.000    0.000    0.000    0.000 decorator.py:232(fun)\n",
      "        1    0.000    0.000    0.000    0.000 {method '__exit__' of '_thread.RLock' objects}\n",
      "        3    0.000    0.000    0.000    0.000 {method 'is_done' of '_thread._ThreadHandle' objects}\n",
      "        1    0.000    0.000    0.000    0.000 zmqstream.py:684(<lambda>)\n",
      "        2    0.000    0.000    0.000    0.000 iostream.py:255(closed)\n",
      "        1    0.000    0.000    0.000    0.000 locks.py:224(clear)\n",
      "        1    0.000    0.000    0.000    0.000 {method 'items' of 'dict' objects}\n",
      "        1    0.000    0.000    0.000    0.000 inspect.py:2901(__init__)\n",
      "        3    0.000    0.000    0.000    0.000 threading.py:605(is_set)\n",
      "        1    0.000    0.000    0.000    0.000 {method 'release' of '_thread.lock' objects}\n",
      "        1    0.000    0.000    0.000    0.000 queues.py:59(_set_timeout)\n",
      "        1    0.000    0.000    0.000    0.000 base_events.py:1957(_timer_handle_cancelled)\n",
      "        1    0.000    0.000    0.000    0.000 base_events.py:758(is_closed)\n",
      "\n",
      "\n"
     ]
    }
   ],
   "source": [
    "import cProfile\n",
    "\n",
    "# Call the cProfile.run() method with a string argument that is the call to the function you want to profile\n",
    "cProfile.run('fibs(35)', sort='tottime')"
   ]
  },
  {
   "cell_type": "markdown",
   "id": "71547a49",
   "metadata": {},
   "source": [
    "The output shows the total time spent running the code and the total number of function calls. Then, for each function, it shows:\n",
    "* ```ncalls```: the number of times the function was called.\n",
    "* ```tottime```: the total time spent in the function, excluding time spent in functions called by the function.\n",
    "* ```percall```: the time spent in the function per call, excluding time spent in functions called by the function.\n",
    "* ```cumtime```: the total time spent in the function, including time spent in functions called by the function.\n",
    "* ```percall```: the time spent in the function per call, including time spent in functions called by the function.\n",
    "* ```filename:lineno(function)```: the filename, line number and function name.\n",
    "\n",
    "In the output you will see a number of functions which you have neither written nor explicitly called. These are often called as part of how Python internally executes your code. They are normally not very consequential in terms of run-time and can often be ignored."
   ]
  },
  {
   "cell_type": "markdown",
   "id": "58ccdde0",
   "metadata": {},
   "source": [
    "Try using `cProfile.run()` to evaluate your pathfinding code."
   ]
  },
  {
   "cell_type": "code",
   "execution_count": 64,
   "id": "ccd95d2c",
   "metadata": {},
   "outputs": [
    {
     "name": "stdout",
     "output_type": "stream",
     "text": [
      "         71643636 function calls (71643611 primitive calls) in 26.039 seconds\n",
      "\n",
      "   Ordered by: internal time\n",
      "\n",
      "   ncalls  tottime  percall  cumtime  percall filename:lineno(function)\n",
      "   802603   14.081    0.000   16.213    0.000 442339266.py:2(extend)\n",
      "      6/1    5.327    0.888    0.000    0.000 {method 'control' of 'select.kqueue' objects}\n",
      " 68908812    3.815    0.000    3.815    0.000 {method 'append' of 'list' objects}\n",
      "      6/1    1.027    0.171    0.006    0.006 selectors.py:540(select)\n",
      "        1    0.984    0.984    3.617    3.617 3970698551.py:1(task_brute)\n",
      "        1    0.559    0.559    2.633    2.633 442339266.py:10(path_brute)\n",
      "   802603    0.115    0.000    0.156    0.000 graph.py:1333(neighbors)\n",
      "    34338    0.044    0.000    0.082    0.000 ipkernel.py:775(_clean_thread_parent_frames)\n",
      "   802605    0.040    0.000    0.040    0.000 {built-in method builtins.iter}\n",
      "    17169    0.013    0.000    0.018    0.000 threading.py:1479(enumerate)\n",
      "   120183    0.012    0.000    0.012    0.000 threading.py:1112(ident)\n",
      "    68676    0.006    0.000    0.006    0.000 {method 'keys' of 'dict' objects}\n",
      "      8/6    0.004    0.000    0.019    0.003 {method 'run' of '_contextvars.Context' objects}\n",
      "    34338    0.003    0.000    0.003    0.000 {method 'values' of 'dict' objects}\n",
      "34481/34477    0.002    0.000    0.002    0.000 {built-in method builtins.isinstance}\n",
      "    17170    0.002    0.000    0.002    0.000 {method '__exit__' of '_thread.RLock' objects}\n",
      "        1    0.002    0.002    0.006    0.006 history.py:1008(_writeout_input_cache)\n",
      "      6/3    0.001    0.000    0.024    0.008 base_events.py:1962(_run_once)\n",
      "        2    0.000    0.000    0.001    0.001 iostream.py:118(_run_event_pipe_gc)\n",
      "        4    0.000    0.000    0.001    0.000 tasks.py:703(sleep)\n",
      "      9/3    0.000    0.000    0.007    0.002 events.py:87(_run)\n",
      "        6    0.000    0.000    0.000    0.000 {method 'is_done' of '_thread._ThreadHandle' objects}\n",
      "        2    0.000    0.000    0.000    0.000 base_events.py:805(call_at)\n",
      "       14    0.000    0.000    0.000    0.000 socket.py:623(send)\n",
      "        1    0.000    0.000    0.000    0.000 {method 'disable' of '_lsprof.Profiler' objects}\n",
      "        5    0.000    0.000    0.000    0.000 attrsettr.py:66(_get_attr_opt)\n",
      "        2    0.000    0.000    0.000    0.000 {method '__exit__' of 'sqlite3.Connection' objects}\n",
      "        2    0.000    0.000    0.000    0.000 {method 'recv' of '_socket.socket' objects}\n",
      "       66    0.000    0.000    0.000    0.000 enum.py:1589(_get_value)\n",
      "        2    0.000    0.000    0.000    0.000 socket.py:771(recv_multipart)\n",
      "       15    0.000    0.000    0.000    0.000 enum.py:1596(__or__)\n",
      "        5    0.000    0.000    0.000    0.000 attrsettr.py:43(__getattr__)\n",
      "        2    0.000    0.000    0.000    0.000 iostream.py:127(_event_pipe_gc)\n",
      "        2    0.000    0.000    0.000    0.000 events.py:157(cancel)\n",
      "        6    0.000    0.000    0.000    0.000 threading.py:1136(is_alive)\n",
      "        1    0.000    0.000    0.000    0.000 asyncio.py:206(_handle_events)\n",
      "        7    0.000    0.000    0.000    0.000 events.py:36(__init__)\n",
      "        2    0.000    0.000    0.000    0.000 zmqstream.py:614(_handle_recv)\n",
      "       29    0.000    0.000    0.000    0.000 enum.py:695(__call__)\n",
      "        5    0.000    0.000    0.000    0.000 base_events.py:852(_call_soon)\n",
      "        6    0.000    0.000    0.000    0.000 typing.py:426(inner)\n",
      "        2    0.000    0.000    0.000    0.000 zmqstream.py:546(_run_callback)\n",
      "        2    0.000    0.000    0.000    0.000 base_events.py:781(call_later)\n",
      "       12    0.000    0.000    0.000    0.000 base_events.py:772(time)\n",
      "        1    0.000    0.000    0.000    0.000 inspect.py:3148(_bind)\n",
      "        1    0.000    0.000    0.014    0.014 futures.py:391(_call_set_state)\n",
      "        7    0.000    0.000    0.000    0.000 enum.py:1607(__and__)\n",
      "        2    0.000    0.000    0.000    0.000 socket.py:700(send_multipart)\n",
      "        1    0.000    0.000    0.000    0.000 selector_events.py:129(_read_from_self)\n",
      "       29    0.000    0.000    0.000    0.000 enum.py:1156(__new__)\n",
      "        2    0.000    0.000    0.000    0.000 base_events.py:457(create_future)\n",
      "        4    0.000    0.000    0.000    0.000 {method 'set_result' of '_asyncio.Future' objects}\n",
      "        3    0.000    0.000    0.000    0.000 zmqstream.py:653(_rebuild_io_state)\n",
      "        3    0.000    0.000    0.000    0.000 threading.py:303(__enter__)\n",
      "        2    0.000    0.000    0.000    0.000 {built-in method math.isnan}\n",
      "        2    0.000    0.000    0.000    0.000 zmqstream.py:573(_handle_events)\n",
      "        2    0.000    0.000    0.000    0.000 futures.py:310(_set_result_unless_cancelled)\n",
      "        3    0.000    0.000    0.000    0.000 zmqstream.py:676(_update_handler)\n",
      "        3    0.000    0.000    0.000    0.000 queue.py:115(empty)\n",
      "        1    0.000    0.000   17.361   17.361 <string>:1(<module>)\n",
      "        1    0.000    0.000    0.000    0.000 {method 'execute' of 'sqlite3.Connection' objects}\n",
      "        4    0.000    0.000    0.000    0.000 base_events.py:823(call_soon)\n",
      "        1    0.000    0.000    0.013    0.013 decorator.py:232(fun)\n",
      "        5    0.000    0.000    0.000    0.000 <frozen importlib._bootstrap>:1390(_handle_fromlist)\n",
      "        1    0.000    0.000    0.014    0.014 kernelbase.py:302(poll_control_queue)\n",
      "        2    0.000    0.000    0.000    0.000 iostream.py:276(<lambda>)\n",
      "        1    0.000    0.000    0.000    0.000 queues.py:209(put_nowait)\n",
      "        1    0.000    0.000    0.006    0.006 history.py:1024(writeout_cache)\n",
      "        1    0.000    0.000    0.000    0.000 asyncio.py:231(add_callback)\n",
      "       24    0.000    0.000    0.000    0.000 {built-in method builtins.len}\n",
      "        2    0.000    0.000    0.000    0.000 events.py:73(cancel)\n",
      "       11    0.000    0.000    0.000    0.000 {method 'append' of 'collections.deque' objects}\n",
      "        8    0.000    0.000    0.000    0.000 {built-in method builtins.next}\n",
      "        6    0.000    0.000    0.000    0.000 {built-in method builtins.getattr}\n",
      "        1    0.000    0.000    0.000    0.000 queues.py:225(get)\n",
      "       10    0.000    0.000    0.000    0.000 {built-in method builtins.hasattr}\n",
      "        1    0.000    0.000    0.000    0.000 {method 'send' of '_socket.socket' objects}\n",
      "        1    0.000    0.000    0.000    0.000 traitlets.py:1527(_notify_observers)\n",
      "        1    0.000    0.000    0.000    0.000 queues.py:186(put)\n",
      "        1    0.000    0.000    0.013    0.013 history.py:92(only_when_enabled)\n",
      "        2    0.000    0.000    0.000    0.000 iostream.py:278(_really_send)\n",
      "        1    0.000    0.000    0.014    0.014 _base.py:337(_invoke_callbacks)\n",
      "        4    0.000    0.000    0.000    0.000 traitlets.py:676(__get__)\n",
      "        2    0.000    0.000    0.000    0.000 traitlets.py:3631(set)\n",
      "        7    0.000    0.000    0.000    0.000 selector_events.py:740(_process_events)\n",
      "        4    0.000    0.000    0.000    0.000 {built-in method _contextvars.copy_context}\n",
      "        1    0.000    0.000    0.000    0.000 decorator.py:200(fix)\n",
      "        2    0.000    0.000    0.000    0.000 queues.py:322(_consume_expired)\n",
      "        1    0.000    0.000    0.000    0.000 inspect.py:2962(apply_defaults)\n",
      "        2    0.000    0.000    0.000    0.000 {built-in method _heapq.heappush}\n",
      "        2    0.000    0.000    0.000    0.000 events.py:113(__init__)\n",
      "       12    0.000    0.000    0.000    0.000 {built-in method time.monotonic}\n",
      "        4    0.000    0.000    0.000    0.000 {method 'cancelled' of '_asyncio.Future' objects}\n",
      "        2    0.000    0.000    0.000    0.000 traitlets.py:689(set)\n",
      "        2    0.000    0.000    0.000    0.000 traitlets.py:727(_cross_validate)\n",
      "        1    0.000    0.000    0.000    0.000 base_events.py:1947(_add_callback)\n",
      "        1    0.000    0.000    0.000    0.000 selector_events.py:141(_write_to_self)\n",
      "        2    0.000    0.000    0.000    0.000 traitlets.py:718(_validate)\n",
      "        2    0.000    0.000    0.000    0.000 {built-in method _heapq.heappop}\n",
      "        1    0.000    0.000    0.000    0.000 concurrent.py:185(future_set_result_unless_cancelled)\n",
      "        4    0.000    0.000    0.000    0.000 typing.py:1443(__hash__)\n",
      "        2    0.000    0.000    0.000    0.000 {built-in method _abc._abc_subclasscheck}\n",
      "        2    0.000    0.000    0.000    0.000 traitlets.py:3474(validate)\n",
      "        2    0.000    0.000    0.000    0.000 typing.py:1665(__subclasscheck__)\n",
      "       12    0.000    0.000    0.000    0.000 {method 'popleft' of 'collections.deque' objects}\n",
      "        1    0.000    0.000    0.000    0.000 traitlets.py:1512(_notify_trait)\n",
      "        2    0.000    0.000    0.000    0.000 typing.py:1374(__instancecheck__)\n",
      "        1    0.000    0.000    0.000    0.000 inspect.py:2909(args)\n",
      "        4    0.000    0.000    0.000    0.000 traitlets.py:629(get)\n",
      "        1    0.000    0.000    0.000    0.000 contextlib.py:303(helper)\n",
      "        3    0.000    0.000    0.000    0.000 zmqstream.py:532(sending)\n",
      "        1    0.000    0.000    0.000    0.000 queues.py:317(__put_internal)\n",
      "        1    0.000    0.000    0.000    0.000 threading.py:428(notify_all)\n",
      "        2    0.000    0.000    0.000    0.000 traitlets.py:3624(validate_elements)\n",
      "        2    0.000    0.000    0.000    0.000 iostream.py:213(_is_master_process)\n",
      "        7    0.000    0.000    0.000    0.000 {built-in method builtins.max}\n",
      "        2    0.000    0.000    0.000    0.000 iostream.py:157(_handle_event)\n",
      "        1    0.000    0.000    0.000    0.000 traitlets.py:1523(notify_change)\n",
      "        1    0.000    0.000    0.000    0.000 contextlib.py:108(__init__)\n",
      "        9    0.000    0.000    0.000    0.000 {method '__exit__' of '_thread.lock' objects}\n",
      "        2    0.000    0.000    0.000    0.000 traitlets.py:708(__set__)\n",
      "        1    0.000    0.000    0.000    0.000 threading.py:315(_acquire_restore)\n",
      "        2    0.000    0.000    0.000    0.000 traitlets.py:2304(validate)\n",
      "        1    0.000    0.000    0.000    0.000 queues.py:256(get_nowait)\n",
      "        2    0.000    0.000    0.000    0.000 <frozen abc>:121(__subclasscheck__)\n",
      "        5    0.000    0.000    0.000    0.000 {method 'get' of 'dict' objects}\n",
      "        1    0.000    0.000    0.000    0.000 inspect.py:3290(bind)\n",
      "        1    0.000    0.000    0.014    0.014 _base.py:537(set_result)\n",
      "        3    0.000    0.000    0.000    0.000 threading.py:306(__exit__)\n",
      "       20    0.000    0.000    0.000    0.000 typing.py:2371(cast)\n",
      "        5    0.000    0.000    0.000    0.000 {method 'upper' of 'str' objects}\n",
      "        2    0.000    0.000    0.000    0.000 {built-in method builtins.issubclass}\n",
      "        1    0.000    0.000    0.000    0.000 contextlib.py:136(__enter__)\n",
      "        1    0.000    0.000    0.000    0.000 inspect.py:2932(kwargs)\n",
      "        5    0.000    0.000    0.000    0.000 zmqstream.py:528(receiving)\n",
      "        1    0.000    0.000    0.000    0.000 threading.py:398(notify)\n",
      "        1    0.000    0.000    0.000    0.000 contextlib.py:145(__exit__)\n",
      "        3    0.000    0.000    0.000    0.000 {built-in method _asyncio.get_running_loop}\n",
      "        2    0.000    0.000    0.000    0.000 iostream.py:216(_check_mp_mode)\n",
      "        1    0.000    0.000    0.000    0.000 base_events.py:876(call_soon_threadsafe)\n",
      "       10    0.000    0.000    0.000    0.000 inspect.py:2819(kind)\n",
      "        1    0.000    0.000    0.000    0.000 history.py:1016(_writeout_output_cache)\n",
      "        1    0.000    0.000    0.000    0.000 queues.py:177(empty)\n",
      "        3    0.000    0.000    0.000    0.000 {method 'acquire' of '_thread.lock' objects}\n",
      "        1    0.000    0.000    0.000    0.000 ioloop.py:750(_run_callback)\n",
      "        1    0.000    0.000    0.000    0.000 {method 'values' of 'mappingproxy' objects}\n",
      "        1    0.000    0.000    0.000    0.000 threading.py:631(clear)\n",
      "        3    0.000    0.000    0.000    0.000 queue.py:267(_qsize)\n",
      "        1    0.000    0.000    0.000    0.000 unix_events.py:83(_process_self_data)\n",
      "        1    0.000    0.000    0.000    0.000 threading.py:312(_release_save)\n",
      "       13    0.000    0.000    0.000    0.000 base_events.py:2060(get_debug)\n",
      "        2    0.000    0.000    0.000    0.000 traitlets.py:3486(validate_elements)\n",
      "        2    0.000    0.000    0.000    0.000 history.py:1065(hold)\n",
      "        4    0.000    0.000    0.000    0.000 {built-in method builtins.hash}\n",
      "        7    0.000    0.000    0.000    0.000 base_events.py:554(_check_closed)\n",
      "        3    0.000    0.000    0.000    0.000 {method 'items' of 'mappingproxy' objects}\n",
      "        2    0.000    0.000    0.000    0.000 {built-in method posix.getpid}\n",
      "        1    0.000    0.000    0.000    0.000 {method '__enter__' of '_thread.RLock' objects}\n",
      "        1    0.000    0.000    0.000    0.000 queues.py:312(_put)\n",
      "        4    0.000    0.000    0.000    0.000 inspect.py:3102(parameters)\n",
      "        4    0.000    0.000    0.000    0.000 inspect.py:2807(name)\n",
      "        1    0.000    0.000    0.000    0.000 queues.py:309(_get)\n",
      "        2    0.000    0.000    0.000    0.000 {method 'extend' of 'list' objects}\n",
      "        1    0.000    0.000    0.000    0.000 zmqstream.py:684(<lambda>)\n",
      "        2    0.000    0.000    0.000    0.000 {method '__enter__' of '_thread.lock' objects}\n",
      "        2    0.000    0.000    0.000    0.000 iostream.py:255(closed)\n",
      "        1    0.000    0.000    0.000    0.000 queues.py:173(qsize)\n",
      "        1    0.000    0.000    0.000    0.000 {method 'done' of '_asyncio.Future' objects}\n",
      "        6    0.000    0.000    0.000    0.000 threading.py:605(is_set)\n",
      "        1    0.000    0.000    0.000    0.000 threading.py:318(_is_owned)\n",
      "        2    0.000    0.000    0.000    0.000 {method 'items' of 'dict' objects}\n",
      "        1    0.000    0.000    0.000    0.000 {method '_is_owned' of '_thread.RLock' objects}\n",
      "        1    0.000    0.000    0.000    0.000 locks.py:224(clear)\n",
      "        2    0.000    0.000    0.000    0.000 base_events.py:1957(_timer_handle_cancelled)\n",
      "        1    0.000    0.000    0.000    0.000 inspect.py:2901(__init__)\n",
      "        1    0.000    0.000    0.000    0.000 {built-in method _thread.allocate_lock}\n",
      "        1    0.000    0.000    0.000    0.000 {method 'release' of '_thread.lock' objects}\n",
      "        1    0.000    0.000    0.000    0.000 queues.py:59(_set_timeout)\n",
      "        1    0.000    0.000    0.000    0.000 base_events.py:758(is_closed)\n",
      "\n",
      "\n"
     ]
    }
   ],
   "source": [
    "cProfile.run('task_brute()', sort='tottime')"
   ]
  },
  {
   "cell_type": "code",
   "execution_count": 33,
   "id": "626249ad",
   "metadata": {},
   "outputs": [
    {
     "name": "stdout",
     "output_type": "stream",
     "text": [
      "         690 function calls (689 primitive calls) in 0.001 seconds\n",
      "\n",
      "   Ordered by: internal time\n",
      "\n",
      "   ncalls  tottime  percall  cumtime  percall filename:lineno(function)\n",
      "        1    0.000    0.000    0.001    0.001 unweighted.py:269(_bidirectional_pred_succ)\n",
      "        1    0.000    0.000    0.000    0.000 {method 'disable' of '_lsprof.Profiler' objects}\n",
      "       62    0.000    0.000    0.000    0.000 coreviews.py:81(__getitem__)\n",
      "        1    0.000    0.000    0.001    0.001 <class 'networkx.utils.decorators.argmap'> compilation 26:1(argmap_bidirectional_shortest_path_23)\n",
      "      417    0.000    0.000    0.000    0.000 {method 'append' of 'list' objects}\n",
      "        1    0.000    0.000    0.001    0.001 <class 'networkx.utils.decorators.argmap'> compilation 22:1(argmap_shortest_path_19)\n",
      "        1    0.000    0.000    0.001    0.001 3970698551.py:4(task_alg)\n",
      "      2/1    0.000    0.000    0.001    0.001 backends.py:959(__call__)\n",
      "       62    0.000    0.000    0.000    0.000 coreviews.py:50(__iter__)\n",
      "        1    0.000    0.000    0.001    0.001 {built-in method builtins.exec}\n",
      "        1    0.000    0.000    0.001    0.001 unweighted.py:203(bidirectional_shortest_path)\n",
      "        2    0.000    0.000    0.000    0.000 graph.py:462(__contains__)\n",
      "        1    0.000    0.000    0.001    0.001 generic.py:44(shortest_path)\n",
      "       62    0.000    0.000    0.000    0.000 {built-in method builtins.iter}\n",
      "       62    0.000    0.000    0.000    0.000 coreviews.py:44(__init__)\n",
      "       10    0.000    0.000    0.000    0.000 {built-in method builtins.len}\n",
      "        1    0.000    0.000    0.001    0.001 <string>:1(<module>)\n",
      "        1    0.000    0.000    0.000    0.000 {method 'reverse' of 'list' objects}\n",
      "        1    0.000    0.000    0.000    0.000 graph.py:1577(is_directed)\n",
      "\n",
      "\n"
     ]
    }
   ],
   "source": [
    "cProfile.run('task_alg()', sort='tottime')"
   ]
  },
  {
   "cell_type": "markdown",
   "id": "0f648095",
   "metadata": {},
   "source": [
    "---"
   ]
  }
 ],
 "metadata": {
  "kernelspec": {
   "display_name": "hack25_2",
   "language": "python",
   "name": "python3"
  },
  "language_info": {
   "codemirror_mode": {
    "name": "ipython",
    "version": 3
   },
   "file_extension": ".py",
   "mimetype": "text/x-python",
   "name": "python",
   "nbconvert_exporter": "python",
   "pygments_lexer": "ipython3",
   "version": "3.13.5"
  }
 },
 "nbformat": 4,
 "nbformat_minor": 5
}
