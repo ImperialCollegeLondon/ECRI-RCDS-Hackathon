{
 "cells": [
  {
   "cell_type": "markdown",
   "id": "8e739eab",
   "metadata": {},
   "source": [
    "# Visualising Emissions\n",
    "\n",
    "It is often useful to be able to produce visualisations of profiling data, including CO~2~ estimates.\n",
    "\n",
    "Here we will use the [Weights & Biases](https://wandb.ai) platform to construct a simple profiling dashboard for our code."
   ]
  },
  {
   "cell_type": "markdown",
   "id": "f6678b15",
   "metadata": {},
   "source": [
    "### Step 1: \n",
    "Visit https://wandb.ai/authorize\n",
    "\n",
    "### Step 2: \n",
    "Log in with your GitHub account or with Google\n",
    "\n",
    "### Step 3: \n",
    "Copy API key (under the profile dropdown on the right-hand side)\n",
    "\n",
    "### Step 4: \n",
    "Log in to W&B \n",
    "\n",
    "- In VSCode Terminal, run python3 (or python)\n",
    "\n",
    "- `import wandb`\n",
    "\n",
    "- `wandb.login()`\n",
    "\n",
    "- Enter your choice: 2\n",
    "\n",
    "- Paste the copied API key\n",
    "\n",
    "\n",
    "### Step 5: \n",
    "Exit python environment from terminal\n",
    "\n",
    "### Step 6: \n",
    "Run your script with `wandb.init()` and then `wandb.log`, and `wandb.finish()` to end the wandb run."
   ]
  },
  {
   "cell_type": "code",
   "execution_count": null,
   "id": "1899432d",
   "metadata": {},
   "outputs": [],
   "source": [
    "from codecarbon import EmissionsTracker\n",
    "import pandas as pd\n",
    "import wandb\n",
    "\n",
    "\n",
    "# Function to retrieve desired stats from file emissions.csv\n",
    "def get_stats():\n",
    "    data = pd.read_csv('emissions.csv').iloc[-1,:] # get the last CSV row as a Series\n",
    "    return {\n",
    "        \"duration\": data['duration'],\n",
    "        \"emissions\": data['emissions'],\n",
    "        \"cpu_power\": data['cpu_power'],\n",
    "        \"gpu_power\": data['gpu_power'],\n",
    "        \"ram_power\": data['ram_power']\n",
    "    }\n",
    "\n",
    "# Function to get run multiple iterations and log the stats\n",
    "def run_and_log(project_name, analysis_func, num_runs):\n",
    "    results = []\n",
    "    \n",
    "    # Initialize wandb run\n",
    "    wandb.init(project=project_name, reinit=True)\n",
    "\n",
    "    try:\n",
    "        for run_idx in range(num_runs):\n",
    "\n",
    "            tracker = EmissionsTracker()\n",
    "            tracker.start()\n",
    "            \n",
    "            try:            \n",
    "                result = analysis_func()\n",
    "\n",
    "            except Exception as e:\n",
    "                print(f\"An error occurred: {e}\")\n",
    "\n",
    "            finally:\n",
    "                emissions: float = tracker.stop()\n",
    "\n",
    "            results.append(result)\n",
    "\n",
    "            # Log per-run metrics to wandb\n",
    "            wandb.log(get_stats())\n",
    "\n",
    "            # Print result\n",
    "            print(result)\n",
    "\n",
    "    except Exception as e:\n",
    "        print(f\"An error occurred: {e}\")\n",
    "\n",
    "    finally:\n",
    "        # End wandb run\n",
    "        wandb.finish()  \n",
    "    \n",
    "    return (results)"
   ]
  },
  {
   "cell_type": "code",
   "execution_count": null,
   "id": "3d02955d",
   "metadata": {},
   "outputs": [],
   "source": [
    "def fib(n):\n",
    "    if(n == 0):\n",
    "        return 0\n",
    "    if(n == 1):\n",
    "        return 1\n",
    "    return fib(n - 1) + fib(n - 2)\n",
    "\n",
    "def fibs(n):\n",
    "    return [fib(i) for i in range(n)]\n",
    "\n",
    "def fib_task():\n",
    "    return fibs(35)\n"
   ]
  },
  {
   "cell_type": "code",
   "execution_count": null,
   "id": "097e5657",
   "metadata": {},
   "outputs": [],
   "source": [
    "\n",
    "results = run_and_log(\"fib\", fib_task, 10)\n",
    "\n",
    "print(results[0])\n"
   ]
  },
  {
   "cell_type": "markdown",
   "id": "cf8c7ea7",
   "metadata": {},
   "source": [
    "## Task: C0~2~ visualisation\n",
    "\n",
    "Try making a W&B dashboard for your pathfinding code."
   ]
  },
  {
   "cell_type": "code",
   "execution_count": null,
   "id": "1d48cb75",
   "metadata": {},
   "outputs": [],
   "source": []
  },
  {
   "cell_type": "markdown",
   "id": "a0644f69",
   "metadata": {},
   "source": [
    "---"
   ]
  }
 ],
 "metadata": {
  "kernelspec": {
   "display_name": "hack25_2",
   "language": "python",
   "name": "python3"
  },
  "language_info": {
   "codemirror_mode": {
    "name": "ipython",
    "version": 3
   },
   "file_extension": ".py",
   "mimetype": "text/x-python",
   "name": "python",
   "nbconvert_exporter": "python",
   "pygments_lexer": "ipython3",
   "version": "3.13.5"
  }
 },
 "nbformat": 4,
 "nbformat_minor": 5
}
