{
 "cells": [
  {
   "cell_type": "markdown",
   "id": "1f9251b0",
   "metadata": {},
   "source": [
    "# Estimating Carbon Emissions\n",
    "\n",
    "In this notebooK, we will use [CodeCarbon](https://codecarbon.io) to track CO~2~ emissions during the execution of the code.\n",
    "\n",
    "*CodeCarbon is a lightweight software package that seamlessly integrates into your Python codebase. It estimates the amount of carbon dioxide (CO~2~) produced by the cloud or personal computing resources used to execute the code.*"
   ]
  },
  {
   "cell_type": "markdown",
   "id": "77a8aa39",
   "metadata": {},
   "source": [
    "A brief description of how CodeCarbon estimates CO~2~ emissions is given in [this article](https://medium.com/bcggamma/ai-computing-emits-co₂-we-started-measuring-how-much-807dec8c35e3), with a fuller explanation available [here](https://arxiv.org/abs/1911.08354)."
   ]
  },
  {
   "cell_type": "markdown",
   "id": "a8f44fd2",
   "metadata": {},
   "source": [
    "### Example:"
   ]
  },
  {
   "cell_type": "code",
   "execution_count": null,
   "id": "48329bb2",
   "metadata": {},
   "outputs": [],
   "source": [
    "from codecarbon import EmissionsTracker\n",
    "import psutil, os, time\n",
    "\n",
    "def fib(n):\n",
    "    if(n == 0):\n",
    "        return 0\n",
    "    if(n == 1):\n",
    "        return 1\n",
    "    return fib(n - 1) + fib(n - 2)\n",
    "\n",
    "def fibs(n):\n",
    "    return [fib(i) for i in range(n)]\n",
    "\n",
    "\n",
    "# Initialize the EmissionsTracker\n",
    "tracker = EmissionsTracker()\n",
    "\n",
    "# Start tracking emissions\n",
    "tracker.start()\n",
    "\n",
    "# Do the task\n",
    "print(fibs(35))\n",
    "\n",
    "# Stop tracking and get emissions (in kgCO2)\n",
    "emissions = tracker.stop()\n",
    "\n",
    "# Print results\n",
    "print(f\"Emissions: {emissions:,.6f} kgCO2\")\n",
    "\n"
   ]
  },
  {
   "cell_type": "markdown",
   "id": "2d630a3f",
   "metadata": {},
   "source": [
    "Note that the CodeCarbon tracker reports a lot of information about the system on which the code is running, as well as an estimate of the carbon mix at the machine's geographical location."
   ]
  },
  {
   "cell_type": "markdown",
   "id": "e4f789f1",
   "metadata": {},
   "source": [
    "## Task: C0~2~ estimates\n",
    "\n",
    "Try using the CodeCarbon tracker on your pathfinding code."
   ]
  },
  {
   "cell_type": "code",
   "execution_count": null,
   "id": "7479b68b",
   "metadata": {},
   "outputs": [],
   "source": []
  }
 ],
 "metadata": {
  "kernelspec": {
   "display_name": "hack25",
   "language": "python",
   "name": "python3"
  },
  "language_info": {
   "codemirror_mode": {
    "name": "ipython",
    "version": 3
   },
   "file_extension": ".py",
   "mimetype": "text/x-python",
   "name": "python",
   "nbconvert_exporter": "python",
   "pygments_lexer": "ipython3",
   "version": "3.12.11"
  }
 },
 "nbformat": 4,
 "nbformat_minor": 5
}
