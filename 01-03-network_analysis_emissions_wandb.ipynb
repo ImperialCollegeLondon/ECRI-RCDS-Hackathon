{
 "cells": [
  {
   "cell_type": "markdown",
   "id": "ee5212c8",
   "metadata": {},
   "source": [
    "## Visualize your performance metrics on Wandb\n",
    "\n",
    "### Required libraries: wandb, nbformat"
   ]
  },
  {
   "cell_type": "markdown",
   "id": "f6678b15",
   "metadata": {},
   "source": [
    "### Step 1: Visit https://wandb.ai/authorize\n",
    "\n",
    "### Step 2: login with your account or with Google\n",
    "\n",
    "### Step 3: Copy API key\n",
    "\n",
    "### Step 4: login Wandb \n",
    "\n",
    "- In VSCode Terminal, run python3 (or python)\n",
    "\n",
    "- import wandb\n",
    "\n",
    "- wandb.login()\n",
    "\n",
    "- Enter your choice: 2\n",
    "\n",
    "- paste the copied API key\n",
    "\n",
    "\n",
    "### Step 5: exit pyhton environment from Terminal\n",
    "\n",
    "### Step 6: run your script with wandb.init() and then wandb.log, and wandb.finish() to end wandb run at the end.\n"
   ]
  },
  {
   "cell_type": "code",
   "execution_count": 1,
   "id": "c52b7ce7",
   "metadata": {},
   "outputs": [],
   "source": [
    "\n",
    "import networkx as nx\n",
    "import scipy.sparse as sp\n",
    "import psutil, time, os, gc, statistics, warnings\n",
    "import numpy as np\n",
    "import pandas as pd\n",
    "from codecarbon import EmissionsTracker\n",
    "from collections import defaultdict\n",
    "import wandb\n",
    "\n",
    "warnings.filterwarnings('ignore')\n"
   ]
  },
  {
   "cell_type": "code",
   "execution_count": 2,
   "id": "babacc8f",
   "metadata": {},
   "outputs": [],
   "source": [
    "\n",
    "# Function to get memory usage\n",
    "def get_memory_usage():\n",
    "    process = psutil.Process(os.getpid())\n",
    "    mem_info = process.memory_info()\n",
    "    return mem_info.rss / 1024 / 1024  # Memory in MB\n",
    "\n",
    "# Function to get CPU usage\n",
    "def get_cpu_usage():\n",
    "    return psutil.cpu_percent(interval=1)\n",
    "\n",
    "# Function to run analysis with multiple iterations\n",
    "def run_analysis_with_repeats(analysis_func, file_path, method_name, num_runs=5):\n",
    "    results = []\n",
    "    emissions = []\n",
    "    cpu_usages = []\n",
    "    \n",
    "    # Initialize wandb run for this method\n",
    "    wandb.init(project=\"network_analysis\", name=f\"{method_name}_run\", reinit=True)\n",
    "    \n",
    "    for run_idx in range(num_runs):\n",
    "        gc.collect()  # Clear memory before each run\n",
    "        tracker = EmissionsTracker()\n",
    "        tracker.start()\n",
    "        start_cpu = get_cpu_usage()\n",
    "        \n",
    "        result = analysis_func(file_path)\n",
    "        \n",
    "        end_cpu = get_cpu_usage()\n",
    "        emission = tracker.stop()\n",
    "        emissions.append(emission)\n",
    "        results.append(result)\n",
    "        cpu_usages.append((start_cpu + end_cpu) / 2)  # Average CPU usage during run\n",
    "        \n",
    "        # Log per-run metrics to wandb\n",
    "        wandb.log({\n",
    "            \"Run\": run_idx + 1,\n",
    "            \"Time (s)\": result[\"Time (s)\"],\n",
    "            \"Memory (MB)\": result[\"Memory (MB)\"],\n",
    "            \"Emissions (kgCO2)\": emission,\n",
    "            \"CPU Usage (%)\": cpu_usages[-1],\n",
    "            \"Nodes\": result[\"Nodes\"],\n",
    "            \"Edges\": result[\"Edges\"],\n",
    "            \"Avg Degree\": result[\"Avg Degree\"],\n",
    "            \"Density\": result[\"Density\"],\n",
    "            \"Longest Path\": result[\"Longest Path\"],\n",
    "            \"Shortest Path\": result[\"Shortest Path\"]\n",
    "        })\n",
    "    \n",
    "    # Compute statistics\n",
    "    metrics = {\n",
    "        \"Method\": results[0][\"Method\"],\n",
    "        \"Nodes\": results[0][\"Nodes\"],\n",
    "        \"Edges\": results[0][\"Edges\"],\n",
    "        \"Avg Degree\": results[0][\"Avg Degree\"],\n",
    "        \"Density\": results[0][\"Density\"],\n",
    "        \"Longest Path\": results[0][\"Longest Path\"],\n",
    "        \"Longest Path Nodes\": results[0][\"Longest Path Nodes\"],\n",
    "        \"Shortest Path\": results[0][\"Shortest Path\"],\n",
    "        \"Shortest Path Nodes\": results[0][\"Shortest Path Nodes\"],\n",
    "        \"Time (s)\": statistics.mean([r[\"Time (s)\"] for r in results]),\n",
    "        \"Time Std (s)\": statistics.stdev([r[\"Time (s)\"] for r in results]) if num_runs > 1 else 0,\n",
    "        \"Memory (MB)\": statistics.mean([r[\"Memory (MB)\"] for r in results]),\n",
    "        \"Memory Std (MB)\": statistics.stdev([r[\"Memory (MB)\"] for r in results]) if num_runs > 1 else 0,\n",
    "        \"Emissions (kgCO2)\": statistics.mean(emissions),\n",
    "        \"Emissions Std (kgCO2)\": statistics.stdev(emissions) if num_runs > 1 else 0,\n",
    "        \"CPU Usage (%)\": statistics.mean(cpu_usages),\n",
    "        \"CPU Usage Std (%)\": statistics.stdev(cpu_usages) if num_runs > 1 else 0\n",
    "    }\n",
    "    \n",
    "    # Log aggregated metrics to wandb\n",
    "    wandb.log({\n",
    "        \"Avg Time (s)\": metrics[\"Time (s)\"],\n",
    "        \"Time Std (s)\": metrics[\"Time Std (s)\"],\n",
    "        \"Avg Memory (MB)\": metrics[\"Memory (MB)\"],\n",
    "        \"Memory Std (MB)\": metrics[\"Memory Std (MB)\"],\n",
    "        \"Avg Emissions (kgCO2)\": metrics[\"Emissions (kgCO2)\"],\n",
    "        \"Emissions Std (kgCO2)\": metrics[\"Emissions Std (kgCO2)\"],\n",
    "        \"Avg CPU Usage (%)\": metrics[\"CPU Usage (%)\"],\n",
    "        \"CPU Usage Std (%)\": metrics[\"CPU Usage Std (%)\"]\n",
    "    })\n",
    "    \n",
    "    # Log top 20 nodes as a table\n",
    "    top_nodes_df = pd.DataFrame(results[0][\"Top 20 Nodes\"])\n",
    "    wandb.log({\"Top 20 Nodes\": wandb.Table(dataframe=top_nodes_df)})\n",
    "    \n",
    "    wandb.finish()  # End the wandb run\n",
    "    return metrics, results[0][\"Top 20 Nodes\"]\n",
    "\n",
    "# Naive implementation using adjacency list\n",
    "def analyze_naive(file_path):\n",
    "    start_time = time.time()\n",
    "    start_memory = get_memory_usage()\n",
    "    \n",
    "    # Build adjacency list\n",
    "    graph = defaultdict(set)\n",
    "    with open(file_path, 'r') as f:\n",
    "        for line in f:\n",
    "            n1, n2 = map(int, line.strip().split())\n",
    "            graph[n1].add(n2)\n",
    "            graph[n2].add(n1)\n",
    "    \n",
    "    num_nodes = len(graph)\n",
    "    num_edges = sum(len(neighbors) for neighbors in graph.values()) // 2\n",
    "    avg_degree = sum(len(neighbors) for neighbors in graph.values()) / num_nodes if num_nodes > 0 else 0\n",
    "    density = (2 * num_edges) / (num_nodes * (num_nodes - 1)) if num_nodes > 1 else 0\n",
    "    \n",
    "    # Simple BFS for shortest path and tracking nodes\n",
    "    def bfs_shortest_path(start, end):\n",
    "        if start == end:\n",
    "            return 0, [start]\n",
    "        visited = {start}\n",
    "        queue = [(start, [start])]\n",
    "        while queue:\n",
    "            node, path = queue.pop(0)\n",
    "            for neighbor in graph[node]:\n",
    "                if neighbor not in visited:\n",
    "                    new_path = path + [neighbor]\n",
    "                    if neighbor == end:\n",
    "                        return len(new_path) - 1, new_path\n",
    "                    visited.add(neighbor)\n",
    "                    queue.append((neighbor, new_path))\n",
    "        return float('inf'), []\n",
    "    \n",
    "    # Find approximate longest and shortest paths\n",
    "    max_path = 0\n",
    "    min_path = float('inf')\n",
    "    max_path_nodes = []\n",
    "    min_path_nodes = []\n",
    "    sample_nodes = list(graph.keys())[:min(1000, num_nodes)]  # Sample for efficiency\n",
    "    for i, start in enumerate(sample_nodes):\n",
    "        for end in sample_nodes[i+1:]:\n",
    "            path_len, path_nodes = bfs_shortest_path(start, end)\n",
    "            if path_len != float('inf'):\n",
    "                if path_len > max_path:\n",
    "                    max_path = path_len\n",
    "                    max_path_nodes = path_nodes\n",
    "                if path_len > 0 and path_len < min_path:\n",
    "                    min_path = path_len\n",
    "                    min_path_nodes = path_nodes\n",
    "    \n",
    "    # Find top 20 nodes by degree\n",
    "    degrees = [(node, len(neighbors)) for node, neighbors in graph.items()]\n",
    "    top_nodes = sorted(degrees, key=lambda x: x[1], reverse=True)[:20]\n",
    "    top_nodes_dict = [{\"Node\": node, \"Degree\": degree} for node, degree in top_nodes]\n",
    "    \n",
    "    exec_time = time.time() - start_time\n",
    "    memory_used = get_memory_usage() - start_memory\n",
    "    \n",
    "    print(f\"Nodes: {num_nodes}\")\n",
    "    print(f\"Edges: {num_edges}\")\n",
    "    print(f\"Average Degree: {avg_degree:,.2f}\")\n",
    "    print(f\"Density: {density:,.6f}\")\n",
    "    print(f\"Longest Path: {max_path}\")\n",
    "    print(f\"Longest Path Nodes: {max_path_nodes}\")\n",
    "    print(f\"Shortest Path: {min_path if min_path != float('inf') else 'N/A'}\")\n",
    "    print(f\"Shortest Path Nodes: {min_path_nodes if min_path != float('inf') else 'N/A'}\")\n",
    "    print(f\"Execution Time: {exec_time:,.2f} seconds\")\n",
    "    print(f\"Memory Used: {memory_used:,.2f} MB\")\n",
    "    print(\"Top 20 Most Connected Nodes:\")\n",
    "    for node in top_nodes_dict:\n",
    "        print(f\"  Node {node['Node']}: Degree {node['Degree']}\")\n",
    "    \n",
    "    return {\n",
    "        \"Method\": \"Naive (Adjacency List)\",\n",
    "        \"Nodes\": num_nodes,\n",
    "        \"Edges\": num_edges,\n",
    "        \"Avg Degree\": avg_degree,\n",
    "        \"Density\": density,\n",
    "        \"Longest Path\": max_path,\n",
    "        \"Longest Path Nodes\": max_path_nodes,\n",
    "        \"Shortest Path\": min_path if min_path != float('inf') else 0,\n",
    "        \"Shortest Path Nodes\": min_path_nodes if min_path != float('inf') else [],\n",
    "        \"Time (s)\": exec_time,\n",
    "        \"Memory (MB)\": memory_used,\n",
    "        \"Top 20 Nodes\": top_nodes_dict\n",
    "    }\n",
    "\n",
    "# Function to analyze full graph with NetworkX\n",
    "def analyze_networkx(file_path):\n",
    "    start_time = time.time() \n",
    "    start_memory = get_memory_usage()\n",
    "    \n",
    "    G = nx.read_edgelist(file_path, nodetype=int, create_using=nx.Graph())\n",
    "    \n",
    "    num_nodes = G.number_of_nodes()\n",
    "    num_edges = G.number_of_edges()\n",
    "    avg_degree = sum(dict(G.degree()).values()) / num_nodes\n",
    "    density = (2 * num_edges) / (num_nodes * (num_nodes - 1)) if num_nodes > 1 else 0\n",
    "    \n",
    "    # Find longest and shortest paths with nodes\n",
    "    longest_path = 0\n",
    "    shortest_path = float('inf')\n",
    "    longest_path_nodes = []\n",
    "    shortest_path_nodes = []\n",
    "    if num_nodes > 1:\n",
    "        for path in nx.all_pairs_shortest_path(G):\n",
    "            path_len = len(path[1][list(path[1].keys())[-1]]) - 1\n",
    "            if path_len > longest_path:\n",
    "                longest_path = path_len\n",
    "                longest_path_nodes = path[1][list(path[1].keys())[-1]]\n",
    "            if path_len > 0 and path_len < shortest_path:\n",
    "                shortest_path = path_len\n",
    "                shortest_path_nodes = path[1][list(path[1].keys())[-1]]\n",
    "    \n",
    "    # Find top 20 nodes by degree\n",
    "    degrees = G.degree()\n",
    "    top_nodes = sorted(degrees, key=lambda x: x[1], reverse=True)[:20]\n",
    "    top_nodes_dict = [{\"Node\": node, \"Degree\": degree} for node, degree in top_nodes]\n",
    "    \n",
    "    exec_time = time.time() - start_time\n",
    "    memory_used = get_memory_usage() - start_memory\n",
    "    \n",
    "    print(f\"Nodes: {num_nodes}\")\n",
    "    print(f\"Edges: {num_edges}\")\n",
    "    print(f\"Average Degree: {avg_degree:,.2f}\")\n",
    "    print(f\"Density: {density:,.6f}\")\n",
    "    print(f\"Longest Path: {longest_path}\")\n",
    "    print(f\"Longest Path Nodes: {longest_path_nodes}\")\n",
    "    print(f\"Shortest Path: {shortest_path if shortest_path != float('inf') else 'N/A'}\")\n",
    "    print(f\"Shortest Path Nodes: {shortest_path_nodes if shortest_path != float('inf') else 'N/A'}\")\n",
    "    print(f\"Execution Time: {exec_time:,.2f} seconds\")\n",
    "    print(f\"Memory Used: {memory_used:,.2f} MB\")\n",
    "    print(\"Top 20 Most Connected Nodes:\")\n",
    "    for node in top_nodes_dict:\n",
    "        print(f\"  Node {node['Node']}: Degree {node['Degree']}\")\n",
    "    \n",
    "    return {\n",
    "        \"Method\": \"NetworkX (Full)\",\n",
    "        \"Nodes\": num_nodes,\n",
    "        \"Edges\": num_edges,\n",
    "        \"Avg Degree\": avg_degree,\n",
    "        \"Density\": density,\n",
    "        \"Longest Path\": longest_path,\n",
    "        \"Longest Path Nodes\": longest_path_nodes,\n",
    "        \"Shortest Path\": shortest_path,\n",
    "        \"Shortest Path Nodes\": shortest_path_nodes,\n",
    "        \"Time (s)\": exec_time,\n",
    "        \"Memory (MB)\": memory_used,\n",
    "        \"Top 20 Nodes\": top_nodes_dict\n",
    "    }\n",
    "\n",
    "# SciPy sparse matrix analysis\n",
    "def analyze_scipy_sparse(file_path):\n",
    "    start_time = time.time()   \n",
    "    start_memory = get_memory_usage()\n",
    "    \n",
    "    # Load edge list with pandas for better performance\n",
    "    edges_df = pd.read_csv(file_path, sep=' ', header=None, dtype=np.int32, engine='c')\n",
    "    edges = edges_df.to_numpy()\n",
    "    \n",
    "    # Vectorized node mapping\n",
    "    nodes, inverse_indices = np.unique(edges, return_inverse=True)\n",
    "    num_nodes = len(nodes)\n",
    "    edge_indices = inverse_indices.reshape(edges.shape)  # Shape: (m, 2)\n",
    "    \n",
    "    # Create row and column arrays for symmetric adjacency matrix\n",
    "    rows = np.concatenate([edge_indices[:, 0], edge_indices[:, 1]])\n",
    "    cols = np.concatenate([edge_indices[:, 1], edge_indices[:, 0]])\n",
    "    data = np.ones(len(rows), dtype=np.int32)\n",
    "    \n",
    "    adj_matrix = sp.csr_matrix((data, (rows, cols)), shape=(num_nodes, num_nodes))\n",
    "    \n",
    "    num_edges = adj_matrix.nnz // 2\n",
    "    degrees = np.array(adj_matrix.sum(axis=1)).flatten()\n",
    "    avg_degree = degrees.mean()\n",
    "    density = (2 * num_edges) / (num_nodes * (num_nodes - 1)) if num_nodes > 1 else 0\n",
    "    \n",
    "    # Convert to NetworkX for path calculations\n",
    "    G = nx.from_scipy_sparse_array(adj_matrix)\n",
    "    longest_path = 0\n",
    "    shortest_path = float('inf')\n",
    "    longest_path_nodes = []\n",
    "    shortest_path_nodes = []\n",
    "    if num_nodes > 1:\n",
    "        for path in nx.all_pairs_shortest_path(G):\n",
    "            path_len = len(path[1][list(path[1].keys())[-1]]) - 1\n",
    "            if path_len > longest_path:\n",
    "                longest_path = path_len\n",
    "                longest_path_nodes = path[1][list(path[1].keys())[-1]]\n",
    "            if path_len > 0 and path_len < shortest_path:\n",
    "                shortest_path = path_len\n",
    "                shortest_path_nodes = path[1][list(path[1].keys())[-1]]\n",
    "    \n",
    "    # Find top 20 nodes by degree\n",
    "    top_indices = np.argpartition(degrees, -20)[-20:]\n",
    "    top_degrees = degrees[top_indices]\n",
    "    top_nodes = [(nodes[i], degrees[i]) for i in top_indices]\n",
    "    top_nodes = sorted(top_nodes, key=lambda x: x[1], reverse=True)[:20]\n",
    "    top_nodes_dict = [{\"Node\": node, \"Degree\": degree} for node, degree in top_nodes]\n",
    "    \n",
    "    exec_time = time.time() - start_time\n",
    "    memory_used = get_memory_usage() - start_memory\n",
    "    \n",
    "    print(f\"Nodes: {num_nodes}\")\n",
    "    print(f\"Edges: {num_edges}\")\n",
    "    print(f\"Average Degree: {avg_degree:,.2f}\")\n",
    "    print(f\"Density: {density:,.6f}\")\n",
    "    print(f\"Longest Path: {longest_path}\")\n",
    "    print(f\"Longest Path Nodes: {longest_path_nodes}\")\n",
    "    print(f\"Shortest Path: {shortest_path if shortest_path != float('inf') else 'N/A'}\")\n",
    "    print(f\"Shortest Path Nodes: {shortest_path_nodes if shortest_path != float('inf') else 'N/A'}\")\n",
    "    print(f\"Execution Time: {exec_time:,.2f} seconds\")\n",
    "    print(f\"Memory Used: {memory_used:,.2f} MB\")\n",
    "    print(\"Top 20 Most Connected Nodes:\")\n",
    "    for node in top_nodes_dict:\n",
    "        print(f\"  Node {node['Node']}: Degree {node['Degree']}\")\n",
    "    \n",
    "    return {\n",
    "        \"Method\": \"SciPy Sparse (Full)\",\n",
    "        \"Nodes\": num_nodes,\n",
    "        \"Edges\": num_edges,\n",
    "        \"Avg Degree\": avg_degree,\n",
    "        \"Density\": density,\n",
    "        \"Longest Path\": longest_path,\n",
    "        \"Longest Path Nodes\": longest_path_nodes,\n",
    "        \"Shortest Path\": shortest_path,\n",
    "        \"Shortest Path Nodes\": shortest_path_nodes,\n",
    "        \"Time (s)\": exec_time,\n",
    "        \"Memory (MB)\": memory_used,\n",
    "        \"Top 20 Nodes\": top_nodes_dict\n",
    "    }\n",
    "\n",
    "# Function to run all analyses\n",
    "def run_all_analyses(file_path, num_runs):\n",
    "    methods = [\n",
    "        (\"Naive\", analyze_naive),\n",
    "        (\"NetworkX\", analyze_networkx),\n",
    "        (\"SciPy Sparse\", analyze_scipy_sparse)\n",
    "    ]\n",
    "    results = []\n",
    "    top_nodes_dfs = []\n",
    "    \n",
    "    for method_name, method_func in methods:\n",
    "        print(f\"\\nRunning {method_name} analysis ({num_runs} runs)\")\n",
    "        metrics, top_nodes = run_analysis_with_repeats(method_func, file_path, method_name, num_runs)\n",
    "        results.append(metrics)\n",
    "        top_nodes_df = pd.DataFrame(top_nodes)\n",
    "        top_nodes_df['Method'] = f\"{method_name} (Full)\"\n",
    "        top_nodes_dfs.append(top_nodes_df)\n",
    "    \n",
    "    return results, top_nodes_dfs\n"
   ]
  },
  {
   "cell_type": "code",
   "execution_count": 3,
   "id": "48af1d38",
   "metadata": {},
   "outputs": [
    {
     "name": "stdout",
     "output_type": "stream",
     "text": [
      "\n",
      "Running Naive analysis (5 runs)\n"
     ]
    },
    {
     "name": "stderr",
     "output_type": "stream",
     "text": [
      "\u001b[34m\u001b[1mwandb\u001b[0m: Currently logged in as: \u001b[33mjl-liam-gao\u001b[0m to \u001b[32mhttps://api.wandb.ai\u001b[0m. Use \u001b[1m`wandb login --relogin`\u001b[0m to force relogin\n",
      "\u001b[34m\u001b[1mwandb\u001b[0m: \u001b[33mWARNING\u001b[0m Using a boolean value for 'reinit' is deprecated. Use 'return_previous' or 'finish_previous' instead.\n"
     ]
    },
    {
     "data": {
      "text/html": [
       "Tracking run with wandb version 0.21.0"
      ],
      "text/plain": [
       "<IPython.core.display.HTML object>"
      ]
     },
     "metadata": {},
     "output_type": "display_data"
    },
    {
     "data": {
      "text/html": [
       "Run data is saved locally in <code>/Users/jgao/github/ECRI-RCDS-Hackathon/wandb/run-20250704_193904-yhgvb83s</code>"
      ],
      "text/plain": [
       "<IPython.core.display.HTML object>"
      ]
     },
     "metadata": {},
     "output_type": "display_data"
    },
    {
     "data": {
      "text/html": [
       "Syncing run <strong><a href='https://wandb.ai/jl-liam-gao/network_analysis/runs/yhgvb83s' target=\"_blank\">Naive_run</a></strong> to <a href='https://wandb.ai/jl-liam-gao/network_analysis' target=\"_blank\">Weights & Biases</a> (<a href='https://wandb.me/developer-guide' target=\"_blank\">docs</a>)<br>"
      ],
      "text/plain": [
       "<IPython.core.display.HTML object>"
      ]
     },
     "metadata": {},
     "output_type": "display_data"
    },
    {
     "data": {
      "text/html": [
       " View project at <a href='https://wandb.ai/jl-liam-gao/network_analysis' target=\"_blank\">https://wandb.ai/jl-liam-gao/network_analysis</a>"
      ],
      "text/plain": [
       "<IPython.core.display.HTML object>"
      ]
     },
     "metadata": {},
     "output_type": "display_data"
    },
    {
     "data": {
      "text/html": [
       " View run at <a href='https://wandb.ai/jl-liam-gao/network_analysis/runs/yhgvb83s' target=\"_blank\">https://wandb.ai/jl-liam-gao/network_analysis/runs/yhgvb83s</a>"
      ],
      "text/plain": [
       "<IPython.core.display.HTML object>"
      ]
     },
     "metadata": {},
     "output_type": "display_data"
    },
    {
     "name": "stderr",
     "output_type": "stream",
     "text": [
      "[codecarbon WARNING @ 19:39:05] Multiple instances of codecarbon are allowed to run at the same time.\n",
      "[codecarbon WARNING @ 19:39:05] Error while trying to count physical CPUs: [Errno 2] No such file or directory: 'lscpu'. Defaulting to 1.\n",
      "[codecarbon INFO @ 19:39:05] [setup] RAM Tracking...\n",
      "[codecarbon INFO @ 19:39:05] [setup] CPU Tracking...\n",
      "[codecarbon WARNING @ 19:39:05] We saw that you have a Apple M4 but we don't know it. Please contact us.\n",
      "[codecarbon WARNING @ 19:39:05] No CPU tracking mode found. Falling back on estimation based on TDP for CPU. \n",
      " Mac OS detected: Please install Intel Power Gadget or enable PowerMetrics sudo to measure CPU\n",
      "\n",
      "[codecarbon INFO @ 19:39:05] CPU Model on constant consumption mode: Apple M4\n",
      "[codecarbon WARNING @ 19:39:05] No CPU tracking mode found. Falling back on CPU constant mode.\n",
      "[codecarbon INFO @ 19:39:05] [setup] GPU Tracking...\n",
      "[codecarbon INFO @ 19:39:05] No GPU found.\n",
      "[codecarbon INFO @ 19:39:05] The below tracking methods have been set up:\n",
      "                RAM Tracking Method: RAM power estimation model\n",
      "                CPU Tracking Method: global constant\n",
      "                GPU Tracking Method: Unspecified\n",
      "            \n",
      "[codecarbon INFO @ 19:39:05] >>> Tracker's metadata:\n",
      "[codecarbon INFO @ 19:39:05]   Platform system: macOS-15.5-arm64-arm-64bit-Mach-O\n",
      "[codecarbon INFO @ 19:39:05]   Python version: 3.13.5\n",
      "[codecarbon INFO @ 19:39:05]   CodeCarbon version: 3.0.2\n",
      "[codecarbon INFO @ 19:39:05]   Available RAM : 16.000 GB\n",
      "[codecarbon INFO @ 19:39:05]   CPU count: 10 thread(s) in 1 physical CPU(s)\n",
      "[codecarbon INFO @ 19:39:05]   CPU model: Apple M4\n",
      "[codecarbon INFO @ 19:39:05]   GPU count: None\n",
      "[codecarbon INFO @ 19:39:05]   GPU model: None\n",
      "[codecarbon INFO @ 19:39:05] Emissions data (if any) will be saved to file /Users/jgao/github/ECRI-RCDS-Hackathon/emissions.csv\n",
      "[codecarbon INFO @ 19:39:20] Energy consumed for RAM : 0.000013 kWh. RAM Power : 3.0 W\n",
      "[codecarbon INFO @ 19:39:20] Delta energy consumed for CPU with constant : 0.000178 kWh, power : 42.5 W\n",
      "[codecarbon INFO @ 19:39:20] Energy consumed for All CPU : 0.000178 kWh\n",
      "[codecarbon INFO @ 19:39:20] 0.000191 kWh of electricity used since the beginning.\n",
      "[codecarbon INFO @ 19:39:35] Energy consumed for RAM : 0.000025 kWh. RAM Power : 3.0 W\n",
      "[codecarbon INFO @ 19:39:35] Delta energy consumed for CPU with constant : 0.000175 kWh, power : 42.5 W\n",
      "[codecarbon INFO @ 19:39:35] Energy consumed for All CPU : 0.000353 kWh\n",
      "[codecarbon INFO @ 19:39:35] 0.000378 kWh of electricity used since the beginning.\n",
      "[codecarbon INFO @ 19:39:50] Energy consumed for RAM : 0.000037 kWh. RAM Power : 3.0 W\n",
      "[codecarbon INFO @ 19:39:50] Delta energy consumed for CPU with constant : 0.000175 kWh, power : 42.5 W\n",
      "[codecarbon INFO @ 19:39:50] Energy consumed for All CPU : 0.000528 kWh\n",
      "[codecarbon INFO @ 19:39:50] 0.000566 kWh of electricity used since the beginning.\n"
     ]
    },
    {
     "name": "stdout",
     "output_type": "stream",
     "text": [
      "Nodes: 4039\n",
      "Edges: 88234\n",
      "Average Degree: 43.69\n",
      "Density: 0.010820\n",
      "Longest Path: 3\n",
      "Longest Path Nodes: [1, 0, 34, 348]\n",
      "Shortest Path: 1\n",
      "Shortest Path Nodes: [0, 1]\n",
      "Execution Time: 43.88 seconds\n",
      "Memory Used: -34.48 MB\n",
      "Top 20 Most Connected Nodes:\n",
      "  Node 107: Degree 1045\n",
      "  Node 1684: Degree 792\n",
      "  Node 1912: Degree 755\n",
      "  Node 3437: Degree 547\n",
      "  Node 0: Degree 347\n",
      "  Node 2543: Degree 294\n",
      "  Node 2347: Degree 291\n",
      "  Node 1888: Degree 254\n",
      "  Node 1800: Degree 245\n",
      "  Node 1663: Degree 235\n",
      "  Node 1352: Degree 234\n",
      "  Node 2266: Degree 234\n",
      "  Node 483: Degree 231\n",
      "  Node 348: Degree 229\n",
      "  Node 1730: Degree 226\n",
      "  Node 1985: Degree 224\n",
      "  Node 1941: Degree 223\n",
      "  Node 2233: Degree 222\n",
      "  Node 2142: Degree 221\n",
      "  Node 1431: Degree 220\n"
     ]
    },
    {
     "name": "stderr",
     "output_type": "stream",
     "text": [
      "[codecarbon INFO @ 19:39:51] Energy consumed for RAM : 0.000038 kWh. RAM Power : 3.0 W\n",
      "[codecarbon INFO @ 19:39:51] Delta energy consumed for CPU with constant : 0.000010 kWh, power : 42.5 W\n",
      "[codecarbon INFO @ 19:39:51] Energy consumed for All CPU : 0.000538 kWh\n",
      "[codecarbon INFO @ 19:39:51] 0.000576 kWh of electricity used since the beginning.\n",
      "[codecarbon WARNING @ 19:39:51] Multiple instances of codecarbon are allowed to run at the same time.\n",
      "[codecarbon WARNING @ 19:39:51] Error while trying to count physical CPUs: [Errno 2] No such file or directory: 'lscpu'. Defaulting to 1.\n",
      "[codecarbon INFO @ 19:39:51] [setup] RAM Tracking...\n",
      "[codecarbon INFO @ 19:39:51] [setup] CPU Tracking...\n",
      "[codecarbon WARNING @ 19:39:51] We saw that you have a Apple M4 but we don't know it. Please contact us.\n",
      "[codecarbon WARNING @ 19:39:51] No CPU tracking mode found. Falling back on estimation based on TDP for CPU. \n",
      " Mac OS detected: Please install Intel Power Gadget or enable PowerMetrics sudo to measure CPU\n",
      "\n",
      "[codecarbon INFO @ 19:39:51] CPU Model on constant consumption mode: Apple M4\n",
      "[codecarbon WARNING @ 19:39:51] No CPU tracking mode found. Falling back on CPU constant mode.\n",
      "[codecarbon INFO @ 19:39:51] [setup] GPU Tracking...\n",
      "[codecarbon INFO @ 19:39:51] No GPU found.\n",
      "[codecarbon INFO @ 19:39:51] The below tracking methods have been set up:\n",
      "                RAM Tracking Method: RAM power estimation model\n",
      "                CPU Tracking Method: global constant\n",
      "                GPU Tracking Method: Unspecified\n",
      "            \n",
      "[codecarbon INFO @ 19:39:51] >>> Tracker's metadata:\n",
      "[codecarbon INFO @ 19:39:51]   Platform system: macOS-15.5-arm64-arm-64bit-Mach-O\n",
      "[codecarbon INFO @ 19:39:51]   Python version: 3.13.5\n",
      "[codecarbon INFO @ 19:39:51]   CodeCarbon version: 3.0.2\n",
      "[codecarbon INFO @ 19:39:51]   Available RAM : 16.000 GB\n",
      "[codecarbon INFO @ 19:39:51]   CPU count: 10 thread(s) in 1 physical CPU(s)\n",
      "[codecarbon INFO @ 19:39:51]   CPU model: Apple M4\n",
      "[codecarbon INFO @ 19:39:51]   GPU count: None\n",
      "[codecarbon INFO @ 19:39:51]   GPU model: None\n",
      "[codecarbon INFO @ 19:39:55] Emissions data (if any) will be saved to file /Users/jgao/github/ECRI-RCDS-Hackathon/emissions.csv\n",
      "[codecarbon INFO @ 19:40:10] Energy consumed for RAM : 0.000013 kWh. RAM Power : 3.0 W\n",
      "[codecarbon INFO @ 19:40:10] Delta energy consumed for CPU with constant : 0.000178 kWh, power : 42.5 W\n",
      "[codecarbon INFO @ 19:40:10] Energy consumed for All CPU : 0.000178 kWh\n",
      "[codecarbon INFO @ 19:40:10] 0.000190 kWh of electricity used since the beginning.\n",
      "[codecarbon INFO @ 19:40:25] Energy consumed for RAM : 0.000025 kWh. RAM Power : 3.0 W\n",
      "[codecarbon INFO @ 19:40:25] Delta energy consumed for CPU with constant : 0.000176 kWh, power : 42.5 W\n",
      "[codecarbon INFO @ 19:40:25] Energy consumed for All CPU : 0.000353 kWh\n",
      "[codecarbon INFO @ 19:40:25] 0.000378 kWh of electricity used since the beginning.\n",
      "[codecarbon INFO @ 19:40:40] Energy consumed for RAM : 0.000037 kWh. RAM Power : 3.0 W\n",
      "[codecarbon INFO @ 19:40:40] Delta energy consumed for CPU with constant : 0.000176 kWh, power : 42.5 W\n",
      "[codecarbon INFO @ 19:40:40] Energy consumed for All CPU : 0.000530 kWh\n",
      "[codecarbon INFO @ 19:40:40] 0.000567 kWh of electricity used since the beginning.\n"
     ]
    },
    {
     "name": "stdout",
     "output_type": "stream",
     "text": [
      "Nodes: 4039\n",
      "Edges: 88234\n",
      "Average Degree: 43.69\n",
      "Density: 0.010820\n",
      "Longest Path: 3\n",
      "Longest Path Nodes: [1, 0, 34, 348]\n",
      "Shortest Path: 1\n",
      "Shortest Path Nodes: [0, 1]\n",
      "Execution Time: 45.02 seconds\n",
      "Memory Used: -120.22 MB\n",
      "Top 20 Most Connected Nodes:\n",
      "  Node 107: Degree 1045\n",
      "  Node 1684: Degree 792\n",
      "  Node 1912: Degree 755\n",
      "  Node 3437: Degree 547\n",
      "  Node 0: Degree 347\n",
      "  Node 2543: Degree 294\n",
      "  Node 2347: Degree 291\n",
      "  Node 1888: Degree 254\n",
      "  Node 1800: Degree 245\n",
      "  Node 1663: Degree 235\n",
      "  Node 1352: Degree 234\n",
      "  Node 2266: Degree 234\n",
      "  Node 483: Degree 231\n",
      "  Node 348: Degree 229\n",
      "  Node 1730: Degree 226\n",
      "  Node 1985: Degree 224\n",
      "  Node 1941: Degree 223\n",
      "  Node 2233: Degree 222\n",
      "  Node 2142: Degree 221\n",
      "  Node 1431: Degree 220\n"
     ]
    },
    {
     "name": "stderr",
     "output_type": "stream",
     "text": [
      "[codecarbon INFO @ 19:40:42] Energy consumed for RAM : 0.000039 kWh. RAM Power : 3.0 W\n",
      "[codecarbon INFO @ 19:40:42] Delta energy consumed for CPU with constant : 0.000020 kWh, power : 42.5 W\n",
      "[codecarbon INFO @ 19:40:42] Energy consumed for All CPU : 0.000550 kWh\n",
      "[codecarbon INFO @ 19:40:42] 0.000589 kWh of electricity used since the beginning.\n",
      "[codecarbon WARNING @ 19:40:42] Multiple instances of codecarbon are allowed to run at the same time.\n",
      "[codecarbon WARNING @ 19:40:42] Error while trying to count physical CPUs: [Errno 2] No such file or directory: 'lscpu'. Defaulting to 1.\n",
      "[codecarbon INFO @ 19:40:42] [setup] RAM Tracking...\n",
      "[codecarbon INFO @ 19:40:42] [setup] CPU Tracking...\n",
      "[codecarbon WARNING @ 19:40:42] We saw that you have a Apple M4 but we don't know it. Please contact us.\n",
      "[codecarbon WARNING @ 19:40:42] No CPU tracking mode found. Falling back on estimation based on TDP for CPU. \n",
      " Mac OS detected: Please install Intel Power Gadget or enable PowerMetrics sudo to measure CPU\n",
      "\n",
      "[codecarbon INFO @ 19:40:42] CPU Model on constant consumption mode: Apple M4\n",
      "[codecarbon WARNING @ 19:40:42] No CPU tracking mode found. Falling back on CPU constant mode.\n",
      "[codecarbon INFO @ 19:40:42] [setup] GPU Tracking...\n",
      "[codecarbon INFO @ 19:40:42] No GPU found.\n",
      "[codecarbon INFO @ 19:40:42] The below tracking methods have been set up:\n",
      "                RAM Tracking Method: RAM power estimation model\n",
      "                CPU Tracking Method: global constant\n",
      "                GPU Tracking Method: Unspecified\n",
      "            \n",
      "[codecarbon INFO @ 19:40:42] >>> Tracker's metadata:\n",
      "[codecarbon INFO @ 19:40:42]   Platform system: macOS-15.5-arm64-arm-64bit-Mach-O\n",
      "[codecarbon INFO @ 19:40:42]   Python version: 3.13.5\n",
      "[codecarbon INFO @ 19:40:42]   CodeCarbon version: 3.0.2\n",
      "[codecarbon INFO @ 19:40:42]   Available RAM : 16.000 GB\n",
      "[codecarbon INFO @ 19:40:42]   CPU count: 10 thread(s) in 1 physical CPU(s)\n",
      "[codecarbon INFO @ 19:40:42]   CPU model: Apple M4\n",
      "[codecarbon INFO @ 19:40:42]   GPU count: None\n",
      "[codecarbon INFO @ 19:40:42]   GPU model: None\n",
      "[codecarbon INFO @ 19:40:43] Emissions data (if any) will be saved to file /Users/jgao/github/ECRI-RCDS-Hackathon/emissions.csv\n",
      "[codecarbon INFO @ 19:40:58] Energy consumed for RAM : 0.000013 kWh. RAM Power : 3.0 W\n",
      "[codecarbon INFO @ 19:40:58] Delta energy consumed for CPU with constant : 0.000178 kWh, power : 42.5 W\n",
      "[codecarbon INFO @ 19:40:59] Energy consumed for All CPU : 0.000178 kWh\n",
      "[codecarbon INFO @ 19:40:59] 0.000190 kWh of electricity used since the beginning.\n",
      "[codecarbon INFO @ 19:41:13] Energy consumed for RAM : 0.000025 kWh. RAM Power : 3.0 W\n",
      "[codecarbon INFO @ 19:41:13] Delta energy consumed for CPU with constant : 0.000175 kWh, power : 42.5 W\n",
      "[codecarbon INFO @ 19:41:14] Energy consumed for All CPU : 0.000353 kWh\n",
      "[codecarbon INFO @ 19:41:14] 0.000378 kWh of electricity used since the beginning.\n",
      "[codecarbon INFO @ 19:41:28] Energy consumed for RAM : 0.000037 kWh. RAM Power : 3.0 W\n",
      "[codecarbon INFO @ 19:41:28] Delta energy consumed for CPU with constant : 0.000175 kWh, power : 42.5 W\n",
      "[codecarbon INFO @ 19:41:28] Energy consumed for All CPU : 0.000528 kWh\n",
      "[codecarbon INFO @ 19:41:29] 0.000565 kWh of electricity used since the beginning.\n"
     ]
    },
    {
     "name": "stdout",
     "output_type": "stream",
     "text": [
      "Nodes: 4039\n",
      "Edges: 88234\n",
      "Average Degree: 43.69\n",
      "Density: 0.010820\n",
      "Longest Path: 3\n",
      "Longest Path Nodes: [1, 0, 34, 348]\n",
      "Shortest Path: 1\n",
      "Shortest Path Nodes: [0, 1]\n",
      "Execution Time: 45.21 seconds\n",
      "Memory Used: -114.66 MB\n",
      "Top 20 Most Connected Nodes:\n",
      "  Node 107: Degree 1045\n",
      "  Node 1684: Degree 792\n",
      "  Node 1912: Degree 755\n",
      "  Node 3437: Degree 547\n",
      "  Node 0: Degree 347\n",
      "  Node 2543: Degree 294\n",
      "  Node 2347: Degree 291\n",
      "  Node 1888: Degree 254\n",
      "  Node 1800: Degree 245\n",
      "  Node 1663: Degree 235\n",
      "  Node 1352: Degree 234\n",
      "  Node 2266: Degree 234\n",
      "  Node 483: Degree 231\n",
      "  Node 348: Degree 229\n",
      "  Node 1730: Degree 226\n",
      "  Node 1985: Degree 224\n",
      "  Node 1941: Degree 223\n",
      "  Node 2233: Degree 222\n",
      "  Node 2142: Degree 221\n",
      "  Node 1431: Degree 220\n"
     ]
    },
    {
     "name": "stderr",
     "output_type": "stream",
     "text": [
      "[codecarbon INFO @ 19:41:31] Energy consumed for RAM : 0.000039 kWh. RAM Power : 3.0 W\n",
      "[codecarbon INFO @ 19:41:31] Delta energy consumed for CPU with constant : 0.000024 kWh, power : 42.5 W\n",
      "[codecarbon INFO @ 19:41:31] Energy consumed for All CPU : 0.000551 kWh\n",
      "[codecarbon INFO @ 19:41:31] 0.000590 kWh of electricity used since the beginning.\n",
      "[codecarbon WARNING @ 19:41:31] Multiple instances of codecarbon are allowed to run at the same time.\n",
      "[codecarbon WARNING @ 19:41:31] Error while trying to count physical CPUs: [Errno 2] No such file or directory: 'lscpu'. Defaulting to 1.\n",
      "[codecarbon INFO @ 19:41:31] [setup] RAM Tracking...\n",
      "[codecarbon INFO @ 19:41:31] [setup] CPU Tracking...\n",
      "[codecarbon WARNING @ 19:41:31] We saw that you have a Apple M4 but we don't know it. Please contact us.\n",
      "[codecarbon WARNING @ 19:41:31] No CPU tracking mode found. Falling back on estimation based on TDP for CPU. \n",
      " Mac OS detected: Please install Intel Power Gadget or enable PowerMetrics sudo to measure CPU\n",
      "\n",
      "[codecarbon INFO @ 19:41:31] CPU Model on constant consumption mode: Apple M4\n",
      "[codecarbon WARNING @ 19:41:31] No CPU tracking mode found. Falling back on CPU constant mode.\n",
      "[codecarbon INFO @ 19:41:31] [setup] GPU Tracking...\n",
      "[codecarbon INFO @ 19:41:31] No GPU found.\n",
      "[codecarbon INFO @ 19:41:31] The below tracking methods have been set up:\n",
      "                RAM Tracking Method: RAM power estimation model\n",
      "                CPU Tracking Method: global constant\n",
      "                GPU Tracking Method: Unspecified\n",
      "            \n",
      "[codecarbon INFO @ 19:41:31] >>> Tracker's metadata:\n",
      "[codecarbon INFO @ 19:41:31]   Platform system: macOS-15.5-arm64-arm-64bit-Mach-O\n",
      "[codecarbon INFO @ 19:41:31]   Python version: 3.13.5\n",
      "[codecarbon INFO @ 19:41:31]   CodeCarbon version: 3.0.2\n",
      "[codecarbon INFO @ 19:41:31]   Available RAM : 16.000 GB\n",
      "[codecarbon INFO @ 19:41:31]   CPU count: 10 thread(s) in 1 physical CPU(s)\n",
      "[codecarbon INFO @ 19:41:31]   CPU model: Apple M4\n",
      "[codecarbon INFO @ 19:41:31]   GPU count: None\n",
      "[codecarbon INFO @ 19:41:31]   GPU model: None\n",
      "[codecarbon INFO @ 19:41:34] Emissions data (if any) will be saved to file /Users/jgao/github/ECRI-RCDS-Hackathon/emissions.csv\n",
      "[codecarbon INFO @ 19:41:49] Energy consumed for RAM : 0.000013 kWh. RAM Power : 3.0 W\n",
      "[codecarbon INFO @ 19:41:49] Delta energy consumed for CPU with constant : 0.000178 kWh, power : 42.5 W\n",
      "[codecarbon INFO @ 19:41:49] Energy consumed for All CPU : 0.000178 kWh\n",
      "[codecarbon INFO @ 19:41:49] 0.000191 kWh of electricity used since the beginning.\n",
      "[codecarbon INFO @ 19:42:04] Energy consumed for RAM : 0.000025 kWh. RAM Power : 3.0 W\n",
      "[codecarbon INFO @ 19:42:04] Delta energy consumed for CPU with constant : 0.000175 kWh, power : 42.5 W\n",
      "[codecarbon INFO @ 19:42:04] Energy consumed for All CPU : 0.000354 kWh\n",
      "[codecarbon INFO @ 19:42:04] 0.000378 kWh of electricity used since the beginning.\n",
      "[codecarbon INFO @ 19:42:19] Energy consumed for RAM : 0.000037 kWh. RAM Power : 3.0 W\n",
      "[codecarbon INFO @ 19:42:19] Delta energy consumed for CPU with constant : 0.000176 kWh, power : 42.5 W\n",
      "[codecarbon INFO @ 19:42:19] Energy consumed for All CPU : 0.000529 kWh\n",
      "[codecarbon INFO @ 19:42:19] 0.000566 kWh of electricity used since the beginning.\n"
     ]
    },
    {
     "name": "stdout",
     "output_type": "stream",
     "text": [
      "Nodes: 4039\n",
      "Edges: 88234\n",
      "Average Degree: 43.69\n",
      "Density: 0.010820\n",
      "Longest Path: 3\n",
      "Longest Path Nodes: [1, 0, 34, 348]\n",
      "Shortest Path: 1\n",
      "Shortest Path Nodes: [0, 1]\n",
      "Execution Time: 44.77 seconds\n",
      "Memory Used: 7.45 MB\n",
      "Top 20 Most Connected Nodes:\n",
      "  Node 107: Degree 1045\n",
      "  Node 1684: Degree 792\n",
      "  Node 1912: Degree 755\n",
      "  Node 3437: Degree 547\n",
      "  Node 0: Degree 347\n",
      "  Node 2543: Degree 294\n",
      "  Node 2347: Degree 291\n",
      "  Node 1888: Degree 254\n",
      "  Node 1800: Degree 245\n",
      "  Node 1663: Degree 235\n",
      "  Node 1352: Degree 234\n",
      "  Node 2266: Degree 234\n",
      "  Node 483: Degree 231\n",
      "  Node 348: Degree 229\n",
      "  Node 1730: Degree 226\n",
      "  Node 1985: Degree 224\n",
      "  Node 1941: Degree 223\n",
      "  Node 2233: Degree 222\n",
      "  Node 2142: Degree 221\n",
      "  Node 1431: Degree 220\n"
     ]
    },
    {
     "name": "stderr",
     "output_type": "stream",
     "text": [
      "[codecarbon INFO @ 19:42:21] Energy consumed for RAM : 0.000038 kWh. RAM Power : 3.0 W\n",
      "[codecarbon INFO @ 19:42:21] Delta energy consumed for CPU with constant : 0.000018 kWh, power : 42.5 W\n",
      "[codecarbon INFO @ 19:42:21] Energy consumed for All CPU : 0.000547 kWh\n",
      "[codecarbon INFO @ 19:42:21] 0.000586 kWh of electricity used since the beginning.\n",
      "[codecarbon WARNING @ 19:42:21] Multiple instances of codecarbon are allowed to run at the same time.\n",
      "[codecarbon WARNING @ 19:42:21] Error while trying to count physical CPUs: [Errno 2] No such file or directory: 'lscpu'. Defaulting to 1.\n",
      "[codecarbon INFO @ 19:42:21] [setup] RAM Tracking...\n",
      "[codecarbon INFO @ 19:42:21] [setup] CPU Tracking...\n",
      "[codecarbon WARNING @ 19:42:21] We saw that you have a Apple M4 but we don't know it. Please contact us.\n",
      "[codecarbon WARNING @ 19:42:21] No CPU tracking mode found. Falling back on estimation based on TDP for CPU. \n",
      " Mac OS detected: Please install Intel Power Gadget or enable PowerMetrics sudo to measure CPU\n",
      "\n",
      "[codecarbon INFO @ 19:42:21] CPU Model on constant consumption mode: Apple M4\n",
      "[codecarbon WARNING @ 19:42:21] No CPU tracking mode found. Falling back on CPU constant mode.\n",
      "[codecarbon INFO @ 19:42:21] [setup] GPU Tracking...\n",
      "[codecarbon INFO @ 19:42:21] No GPU found.\n",
      "[codecarbon INFO @ 19:42:21] The below tracking methods have been set up:\n",
      "                RAM Tracking Method: RAM power estimation model\n",
      "                CPU Tracking Method: global constant\n",
      "                GPU Tracking Method: Unspecified\n",
      "            \n",
      "[codecarbon INFO @ 19:42:21] >>> Tracker's metadata:\n",
      "[codecarbon INFO @ 19:42:21]   Platform system: macOS-15.5-arm64-arm-64bit-Mach-O\n",
      "[codecarbon INFO @ 19:42:21]   Python version: 3.13.5\n",
      "[codecarbon INFO @ 19:42:21]   CodeCarbon version: 3.0.2\n",
      "[codecarbon INFO @ 19:42:21]   Available RAM : 16.000 GB\n",
      "[codecarbon INFO @ 19:42:21]   CPU count: 10 thread(s) in 1 physical CPU(s)\n",
      "[codecarbon INFO @ 19:42:21]   CPU model: Apple M4\n",
      "[codecarbon INFO @ 19:42:21]   GPU count: None\n",
      "[codecarbon INFO @ 19:42:21]   GPU model: None\n",
      "[codecarbon INFO @ 19:42:22] Emissions data (if any) will be saved to file /Users/jgao/github/ECRI-RCDS-Hackathon/emissions.csv\n",
      "[codecarbon INFO @ 19:42:38] Energy consumed for RAM : 0.000013 kWh. RAM Power : 3.0 W\n",
      "[codecarbon INFO @ 19:42:38] Delta energy consumed for CPU with constant : 0.000178 kWh, power : 42.5 W\n",
      "[codecarbon INFO @ 19:42:38] Energy consumed for All CPU : 0.000178 kWh\n",
      "[codecarbon INFO @ 19:42:38] 0.000190 kWh of electricity used since the beginning.\n",
      "[codecarbon INFO @ 19:42:53] Energy consumed for RAM : 0.000025 kWh. RAM Power : 3.0 W\n",
      "[codecarbon INFO @ 19:42:53] Delta energy consumed for CPU with constant : 0.000175 kWh, power : 42.5 W\n",
      "[codecarbon INFO @ 19:42:53] Energy consumed for All CPU : 0.000353 kWh\n",
      "[codecarbon INFO @ 19:42:53] 0.000378 kWh of electricity used since the beginning.\n",
      "[codecarbon INFO @ 19:43:08] Energy consumed for RAM : 0.000037 kWh. RAM Power : 3.0 W\n",
      "[codecarbon INFO @ 19:43:08] Delta energy consumed for CPU with constant : 0.000175 kWh, power : 42.5 W\n",
      "[codecarbon INFO @ 19:43:08] Energy consumed for All CPU : 0.000528 kWh\n",
      "[codecarbon INFO @ 19:43:08] 0.000565 kWh of electricity used since the beginning.\n"
     ]
    },
    {
     "name": "stdout",
     "output_type": "stream",
     "text": [
      "Nodes: 4039\n",
      "Edges: 88234\n",
      "Average Degree: 43.69\n",
      "Density: 0.010820\n",
      "Longest Path: 3\n",
      "Longest Path Nodes: [1, 0, 34, 348]\n",
      "Shortest Path: 1\n",
      "Shortest Path Nodes: [0, 1]\n",
      "Execution Time: 44.86 seconds\n",
      "Memory Used: -119.47 MB\n",
      "Top 20 Most Connected Nodes:\n",
      "  Node 107: Degree 1045\n",
      "  Node 1684: Degree 792\n",
      "  Node 1912: Degree 755\n",
      "  Node 3437: Degree 547\n",
      "  Node 0: Degree 347\n",
      "  Node 2543: Degree 294\n",
      "  Node 2347: Degree 291\n",
      "  Node 1888: Degree 254\n",
      "  Node 1800: Degree 245\n",
      "  Node 1663: Degree 235\n",
      "  Node 1352: Degree 234\n",
      "  Node 2266: Degree 234\n",
      "  Node 483: Degree 231\n",
      "  Node 348: Degree 229\n",
      "  Node 1730: Degree 226\n",
      "  Node 1985: Degree 224\n",
      "  Node 1941: Degree 223\n",
      "  Node 2233: Degree 222\n",
      "  Node 2142: Degree 221\n",
      "  Node 1431: Degree 220\n"
     ]
    },
    {
     "name": "stderr",
     "output_type": "stream",
     "text": [
      "[codecarbon INFO @ 19:43:09] Energy consumed for RAM : 0.000039 kWh. RAM Power : 3.0 W\n",
      "[codecarbon INFO @ 19:43:09] Delta energy consumed for CPU with constant : 0.000019 kWh, power : 42.5 W\n",
      "[codecarbon INFO @ 19:43:09] Energy consumed for All CPU : 0.000547 kWh\n",
      "[codecarbon INFO @ 19:43:09] 0.000585 kWh of electricity used since the beginning.\n"
     ]
    },
    {
     "data": {
      "text/html": [],
      "text/plain": [
       "<IPython.core.display.HTML object>"
      ]
     },
     "metadata": {},
     "output_type": "display_data"
    },
    {
     "data": {
      "text/html": [
       "<br>    <style><br>        .wandb-row {<br>            display: flex;<br>            flex-direction: row;<br>            flex-wrap: wrap;<br>            justify-content: flex-start;<br>            width: 100%;<br>        }<br>        .wandb-col {<br>            display: flex;<br>            flex-direction: column;<br>            flex-basis: 100%;<br>            flex: 1;<br>            padding: 10px;<br>        }<br>    </style><br><div class=\"wandb-row\"><div class=\"wandb-col\"><h3>Run history:</h3><br/><table class=\"wandb\"><tr><td>Avg CPU Usage (%)</td><td>▁</td></tr><tr><td>Avg Degree</td><td>▁▁▁▁▁</td></tr><tr><td>Avg Emissions (kgCO2)</td><td>▁</td></tr><tr><td>Avg Memory (MB)</td><td>▁</td></tr><tr><td>Avg Time (s)</td><td>▁</td></tr><tr><td>CPU Usage (%)</td><td>▁█▇▁▁</td></tr><tr><td>CPU Usage Std (%)</td><td>▁</td></tr><tr><td>Density</td><td>▁▁▁▁▁</td></tr><tr><td>Edges</td><td>▁▁▁▁▁</td></tr><tr><td>Emissions (kgCO2)</td><td>▁▇█▆▆</td></tr><tr><td>Emissions Std (kgCO2)</td><td>▁</td></tr><tr><td>Longest Path</td><td>▁▁▁▁▁</td></tr><tr><td>Memory (MB)</td><td>▆▁▁█▁</td></tr><tr><td>Memory Std (MB)</td><td>▁</td></tr><tr><td>Nodes</td><td>▁▁▁▁▁</td></tr><tr><td>Run</td><td>▁▃▅▆█</td></tr><tr><td>Shortest Path</td><td>▁▁▁▁▁</td></tr><tr><td>Time (s)</td><td>▁▇█▆▆</td></tr><tr><td>Time Std (s)</td><td>▁</td></tr></table><br/></div><div class=\"wandb-col\"><h3>Run summary:</h3><br/><table class=\"wandb\"><tr><td>Avg CPU Usage (%)</td><td>17.87</td></tr><tr><td>Avg Degree</td><td>43.69101</td></tr><tr><td>Avg Emissions (kgCO2)</td><td>0.00014</td></tr><tr><td>Avg Memory (MB)</td><td>-76.275</td></tr><tr><td>Avg Time (s)</td><td>44.74577</td></tr><tr><td>CPU Usage (%)</td><td>11.1</td></tr><tr><td>CPU Usage Std (%)</td><td>9.68405</td></tr><tr><td>Density</td><td>0.01082</td></tr><tr><td>Edges</td><td>88234</td></tr><tr><td>Emissions (kgCO2)</td><td>0.00014</td></tr><tr><td>Emissions Std (kgCO2)</td><td>0.0</td></tr><tr><td>Longest Path</td><td>3</td></tr><tr><td>Memory (MB)</td><td>-119.46875</td></tr><tr><td>Memory Std (MB)</td><td>59.21725</td></tr><tr><td>Nodes</td><td>4039</td></tr><tr><td>Run</td><td>5</td></tr><tr><td>Shortest Path</td><td>1</td></tr><tr><td>Time (s)</td><td>44.85952</td></tr><tr><td>Time Std (s)</td><td>0.5146</td></tr></table><br/></div></div>"
      ],
      "text/plain": [
       "<IPython.core.display.HTML object>"
      ]
     },
     "metadata": {},
     "output_type": "display_data"
    },
    {
     "data": {
      "text/html": [
       " View run <strong style=\"color:#cdcd00\">Naive_run</strong> at: <a href='https://wandb.ai/jl-liam-gao/network_analysis/runs/yhgvb83s' target=\"_blank\">https://wandb.ai/jl-liam-gao/network_analysis/runs/yhgvb83s</a><br> View project at: <a href='https://wandb.ai/jl-liam-gao/network_analysis' target=\"_blank\">https://wandb.ai/jl-liam-gao/network_analysis</a><br>Synced 5 W&B file(s), 1 media file(s), 2 artifact file(s) and 0 other file(s)"
      ],
      "text/plain": [
       "<IPython.core.display.HTML object>"
      ]
     },
     "metadata": {},
     "output_type": "display_data"
    },
    {
     "data": {
      "text/html": [
       "Find logs at: <code>./wandb/run-20250704_193904-yhgvb83s/logs</code>"
      ],
      "text/plain": [
       "<IPython.core.display.HTML object>"
      ]
     },
     "metadata": {},
     "output_type": "display_data"
    },
    {
     "name": "stdout",
     "output_type": "stream",
     "text": [
      "\n",
      "Running NetworkX analysis (5 runs)\n"
     ]
    },
    {
     "data": {
      "text/html": [
       "Tracking run with wandb version 0.21.0"
      ],
      "text/plain": [
       "<IPython.core.display.HTML object>"
      ]
     },
     "metadata": {},
     "output_type": "display_data"
    },
    {
     "data": {
      "text/html": [
       "Run data is saved locally in <code>/Users/jgao/github/ECRI-RCDS-Hackathon/wandb/run-20250704_194312-kzk2nh3x</code>"
      ],
      "text/plain": [
       "<IPython.core.display.HTML object>"
      ]
     },
     "metadata": {},
     "output_type": "display_data"
    },
    {
     "data": {
      "text/html": [
       "Syncing run <strong><a href='https://wandb.ai/jl-liam-gao/network_analysis/runs/kzk2nh3x' target=\"_blank\">NetworkX_run</a></strong> to <a href='https://wandb.ai/jl-liam-gao/network_analysis' target=\"_blank\">Weights & Biases</a> (<a href='https://wandb.me/developer-guide' target=\"_blank\">docs</a>)<br>"
      ],
      "text/plain": [
       "<IPython.core.display.HTML object>"
      ]
     },
     "metadata": {},
     "output_type": "display_data"
    },
    {
     "data": {
      "text/html": [
       " View project at <a href='https://wandb.ai/jl-liam-gao/network_analysis' target=\"_blank\">https://wandb.ai/jl-liam-gao/network_analysis</a>"
      ],
      "text/plain": [
       "<IPython.core.display.HTML object>"
      ]
     },
     "metadata": {},
     "output_type": "display_data"
    },
    {
     "data": {
      "text/html": [
       " View run at <a href='https://wandb.ai/jl-liam-gao/network_analysis/runs/kzk2nh3x' target=\"_blank\">https://wandb.ai/jl-liam-gao/network_analysis/runs/kzk2nh3x</a>"
      ],
      "text/plain": [
       "<IPython.core.display.HTML object>"
      ]
     },
     "metadata": {},
     "output_type": "display_data"
    },
    {
     "name": "stderr",
     "output_type": "stream",
     "text": [
      "[codecarbon WARNING @ 19:43:12] Multiple instances of codecarbon are allowed to run at the same time.\n",
      "[codecarbon WARNING @ 19:43:12] Error while trying to count physical CPUs: [Errno 2] No such file or directory: 'lscpu'. Defaulting to 1.\n",
      "[codecarbon INFO @ 19:43:12] [setup] RAM Tracking...\n",
      "[codecarbon INFO @ 19:43:12] [setup] CPU Tracking...\n",
      "[codecarbon WARNING @ 19:43:12] We saw that you have a Apple M4 but we don't know it. Please contact us.\n",
      "[codecarbon WARNING @ 19:43:13] No CPU tracking mode found. Falling back on estimation based on TDP for CPU. \n",
      " Mac OS detected: Please install Intel Power Gadget or enable PowerMetrics sudo to measure CPU\n",
      "\n",
      "[codecarbon INFO @ 19:43:13] CPU Model on constant consumption mode: Apple M4\n",
      "[codecarbon WARNING @ 19:43:13] No CPU tracking mode found. Falling back on CPU constant mode.\n",
      "[codecarbon INFO @ 19:43:13] [setup] GPU Tracking...\n",
      "[codecarbon INFO @ 19:43:13] No GPU found.\n",
      "[codecarbon INFO @ 19:43:13] The below tracking methods have been set up:\n",
      "                RAM Tracking Method: RAM power estimation model\n",
      "                CPU Tracking Method: global constant\n",
      "                GPU Tracking Method: Unspecified\n",
      "            \n",
      "[codecarbon INFO @ 19:43:13] >>> Tracker's metadata:\n",
      "[codecarbon INFO @ 19:43:13]   Platform system: macOS-15.5-arm64-arm-64bit-Mach-O\n",
      "[codecarbon INFO @ 19:43:13]   Python version: 3.13.5\n",
      "[codecarbon INFO @ 19:43:13]   CodeCarbon version: 3.0.2\n",
      "[codecarbon INFO @ 19:43:13]   Available RAM : 16.000 GB\n",
      "[codecarbon INFO @ 19:43:13]   CPU count: 10 thread(s) in 1 physical CPU(s)\n",
      "[codecarbon INFO @ 19:43:13]   CPU model: Apple M4\n",
      "[codecarbon INFO @ 19:43:13]   GPU count: None\n",
      "[codecarbon INFO @ 19:43:13]   GPU model: None\n",
      "[codecarbon INFO @ 19:43:16] Emissions data (if any) will be saved to file /Users/jgao/github/ECRI-RCDS-Hackathon/emissions.csv\n",
      "[codecarbon INFO @ 19:43:31] Energy consumed for RAM : 0.000013 kWh. RAM Power : 3.0 W\n",
      "[codecarbon INFO @ 19:43:31] Delta energy consumed for CPU with constant : 0.000178 kWh, power : 42.5 W\n",
      "[codecarbon INFO @ 19:43:31] Energy consumed for All CPU : 0.000178 kWh\n",
      "[codecarbon INFO @ 19:43:31] 0.000191 kWh of electricity used since the beginning.\n"
     ]
    },
    {
     "name": "stdout",
     "output_type": "stream",
     "text": [
      "Nodes: 4039\n",
      "Edges: 88234\n",
      "Average Degree: 43.69\n",
      "Density: 0.010820\n",
      "Longest Path: 8\n",
      "Longest Path Nodes: [687, 686, 698, 3437, 567, 414, 594, 3980, 4038]\n",
      "Shortest Path: 4\n",
      "Shortest Path Nodes: [567, 3437, 698, 686, 855]\n",
      "Execution Time: 18.16 seconds\n",
      "Memory Used: 3.75 MB\n",
      "Top 20 Most Connected Nodes:\n",
      "  Node 107: Degree 1045\n",
      "  Node 1684: Degree 792\n",
      "  Node 1912: Degree 755\n",
      "  Node 3437: Degree 547\n",
      "  Node 0: Degree 347\n",
      "  Node 2543: Degree 294\n",
      "  Node 2347: Degree 291\n",
      "  Node 1888: Degree 254\n",
      "  Node 1800: Degree 245\n",
      "  Node 1663: Degree 235\n",
      "  Node 1352: Degree 234\n",
      "  Node 2266: Degree 234\n",
      "  Node 483: Degree 231\n",
      "  Node 348: Degree 229\n",
      "  Node 1730: Degree 226\n",
      "  Node 1985: Degree 224\n",
      "  Node 1941: Degree 223\n",
      "  Node 2233: Degree 222\n",
      "  Node 2142: Degree 221\n",
      "  Node 1431: Degree 220\n"
     ]
    },
    {
     "name": "stderr",
     "output_type": "stream",
     "text": [
      "[codecarbon INFO @ 19:43:36] Energy consumed for RAM : 0.000017 kWh. RAM Power : 3.0 W\n",
      "[codecarbon INFO @ 19:43:36] Delta energy consumed for CPU with constant : 0.000058 kWh, power : 42.5 W\n",
      "[codecarbon INFO @ 19:43:36] Energy consumed for All CPU : 0.000236 kWh\n",
      "[codecarbon INFO @ 19:43:36] 0.000252 kWh of electricity used since the beginning.\n",
      "[codecarbon WARNING @ 19:43:36] Multiple instances of codecarbon are allowed to run at the same time.\n",
      "[codecarbon WARNING @ 19:43:36] Error while trying to count physical CPUs: [Errno 2] No such file or directory: 'lscpu'. Defaulting to 1.\n",
      "[codecarbon INFO @ 19:43:36] [setup] RAM Tracking...\n",
      "[codecarbon INFO @ 19:43:36] [setup] CPU Tracking...\n",
      "[codecarbon WARNING @ 19:43:36] We saw that you have a Apple M4 but we don't know it. Please contact us.\n",
      "[codecarbon WARNING @ 19:43:36] No CPU tracking mode found. Falling back on estimation based on TDP for CPU. \n",
      " Mac OS detected: Please install Intel Power Gadget or enable PowerMetrics sudo to measure CPU\n",
      "\n",
      "[codecarbon INFO @ 19:43:36] CPU Model on constant consumption mode: Apple M4\n",
      "[codecarbon WARNING @ 19:43:36] No CPU tracking mode found. Falling back on CPU constant mode.\n",
      "[codecarbon INFO @ 19:43:36] [setup] GPU Tracking...\n",
      "[codecarbon INFO @ 19:43:36] No GPU found.\n",
      "[codecarbon INFO @ 19:43:36] The below tracking methods have been set up:\n",
      "                RAM Tracking Method: RAM power estimation model\n",
      "                CPU Tracking Method: global constant\n",
      "                GPU Tracking Method: Unspecified\n",
      "            \n",
      "[codecarbon INFO @ 19:43:36] >>> Tracker's metadata:\n",
      "[codecarbon INFO @ 19:43:36]   Platform system: macOS-15.5-arm64-arm-64bit-Mach-O\n",
      "[codecarbon INFO @ 19:43:36]   Python version: 3.13.5\n",
      "[codecarbon INFO @ 19:43:36]   CodeCarbon version: 3.0.2\n",
      "[codecarbon INFO @ 19:43:36]   Available RAM : 16.000 GB\n",
      "[codecarbon INFO @ 19:43:36]   CPU count: 10 thread(s) in 1 physical CPU(s)\n",
      "[codecarbon INFO @ 19:43:36]   CPU model: Apple M4\n",
      "[codecarbon INFO @ 19:43:36]   GPU count: None\n",
      "[codecarbon INFO @ 19:43:36]   GPU model: None\n",
      "[codecarbon INFO @ 19:43:37] Emissions data (if any) will be saved to file /Users/jgao/github/ECRI-RCDS-Hackathon/emissions.csv\n",
      "[codecarbon INFO @ 19:43:52] Energy consumed for RAM : 0.000013 kWh. RAM Power : 3.0 W\n",
      "[codecarbon INFO @ 19:43:52] Delta energy consumed for CPU with constant : 0.000178 kWh, power : 42.5 W\n",
      "[codecarbon INFO @ 19:43:53] Energy consumed for All CPU : 0.000178 kWh\n",
      "[codecarbon INFO @ 19:43:53] 0.000191 kWh of electricity used since the beginning.\n"
     ]
    },
    {
     "name": "stdout",
     "output_type": "stream",
     "text": [
      "Nodes: 4039\n",
      "Edges: 88234\n",
      "Average Degree: 43.69\n",
      "Density: 0.010820\n",
      "Longest Path: 8\n",
      "Longest Path Nodes: [687, 686, 698, 3437, 567, 414, 594, 3980, 4038]\n",
      "Shortest Path: 4\n",
      "Shortest Path Nodes: [567, 3437, 698, 686, 855]\n",
      "Execution Time: 17.42 seconds\n",
      "Memory Used: -1.20 MB\n",
      "Top 20 Most Connected Nodes:\n",
      "  Node 107: Degree 1045\n",
      "  Node 1684: Degree 792\n",
      "  Node 1912: Degree 755\n",
      "  Node 3437: Degree 547\n",
      "  Node 0: Degree 347\n",
      "  Node 2543: Degree 294\n",
      "  Node 2347: Degree 291\n",
      "  Node 1888: Degree 254\n",
      "  Node 1800: Degree 245\n",
      "  Node 1663: Degree 235\n",
      "  Node 1352: Degree 234\n",
      "  Node 2266: Degree 234\n",
      "  Node 483: Degree 231\n",
      "  Node 348: Degree 229\n",
      "  Node 1730: Degree 226\n",
      "  Node 1985: Degree 224\n",
      "  Node 1941: Degree 223\n",
      "  Node 2233: Degree 222\n",
      "  Node 2142: Degree 221\n",
      "  Node 1431: Degree 220\n"
     ]
    },
    {
     "name": "stderr",
     "output_type": "stream",
     "text": [
      "[codecarbon INFO @ 19:43:57] Energy consumed for RAM : 0.000016 kWh. RAM Power : 3.0 W\n",
      "[codecarbon INFO @ 19:43:57] Delta energy consumed for CPU with constant : 0.000049 kWh, power : 42.5 W\n",
      "[codecarbon INFO @ 19:43:57] Energy consumed for All CPU : 0.000227 kWh\n",
      "[codecarbon INFO @ 19:43:57] 0.000243 kWh of electricity used since the beginning.\n",
      "[codecarbon WARNING @ 19:43:57] Multiple instances of codecarbon are allowed to run at the same time.\n",
      "[codecarbon WARNING @ 19:43:57] Error while trying to count physical CPUs: [Errno 2] No such file or directory: 'lscpu'. Defaulting to 1.\n",
      "[codecarbon INFO @ 19:43:57] [setup] RAM Tracking...\n",
      "[codecarbon INFO @ 19:43:57] [setup] CPU Tracking...\n",
      "[codecarbon WARNING @ 19:43:57] We saw that you have a Apple M4 but we don't know it. Please contact us.\n",
      "[codecarbon WARNING @ 19:43:57] No CPU tracking mode found. Falling back on estimation based on TDP for CPU. \n",
      " Mac OS detected: Please install Intel Power Gadget or enable PowerMetrics sudo to measure CPU\n",
      "\n",
      "[codecarbon INFO @ 19:43:57] CPU Model on constant consumption mode: Apple M4\n",
      "[codecarbon WARNING @ 19:43:57] No CPU tracking mode found. Falling back on CPU constant mode.\n",
      "[codecarbon INFO @ 19:43:57] [setup] GPU Tracking...\n",
      "[codecarbon INFO @ 19:43:57] No GPU found.\n",
      "[codecarbon INFO @ 19:43:57] The below tracking methods have been set up:\n",
      "                RAM Tracking Method: RAM power estimation model\n",
      "                CPU Tracking Method: global constant\n",
      "                GPU Tracking Method: Unspecified\n",
      "            \n",
      "[codecarbon INFO @ 19:43:57] >>> Tracker's metadata:\n",
      "[codecarbon INFO @ 19:43:57]   Platform system: macOS-15.5-arm64-arm-64bit-Mach-O\n",
      "[codecarbon INFO @ 19:43:57]   Python version: 3.13.5\n",
      "[codecarbon INFO @ 19:43:57]   CodeCarbon version: 3.0.2\n",
      "[codecarbon INFO @ 19:43:57]   Available RAM : 16.000 GB\n",
      "[codecarbon INFO @ 19:43:57]   CPU count: 10 thread(s) in 1 physical CPU(s)\n",
      "[codecarbon INFO @ 19:43:57]   CPU model: Apple M4\n",
      "[codecarbon INFO @ 19:43:57]   GPU count: None\n",
      "[codecarbon INFO @ 19:43:57]   GPU model: None\n",
      "[codecarbon INFO @ 19:44:00] Emissions data (if any) will be saved to file /Users/jgao/github/ECRI-RCDS-Hackathon/emissions.csv\n",
      "[codecarbon INFO @ 19:44:15] Energy consumed for RAM : 0.000013 kWh. RAM Power : 3.0 W\n",
      "[codecarbon INFO @ 19:44:15] Delta energy consumed for CPU with constant : 0.000178 kWh, power : 42.5 W\n",
      "[codecarbon INFO @ 19:44:15] Energy consumed for All CPU : 0.000178 kWh\n",
      "[codecarbon INFO @ 19:44:15] 0.000190 kWh of electricity used since the beginning.\n"
     ]
    },
    {
     "name": "stdout",
     "output_type": "stream",
     "text": [
      "Nodes: 4039\n",
      "Edges: 88234\n",
      "Average Degree: 43.69\n",
      "Density: 0.010820\n",
      "Longest Path: 8\n",
      "Longest Path Nodes: [687, 686, 698, 3437, 567, 414, 594, 3980, 4038]\n",
      "Shortest Path: 4\n",
      "Shortest Path Nodes: [567, 3437, 698, 686, 855]\n",
      "Execution Time: 17.45 seconds\n",
      "Memory Used: 4.12 MB\n",
      "Top 20 Most Connected Nodes:\n",
      "  Node 107: Degree 1045\n",
      "  Node 1684: Degree 792\n",
      "  Node 1912: Degree 755\n",
      "  Node 3437: Degree 547\n",
      "  Node 0: Degree 347\n",
      "  Node 2543: Degree 294\n",
      "  Node 2347: Degree 291\n",
      "  Node 1888: Degree 254\n",
      "  Node 1800: Degree 245\n",
      "  Node 1663: Degree 235\n",
      "  Node 1352: Degree 234\n",
      "  Node 2266: Degree 234\n",
      "  Node 483: Degree 231\n",
      "  Node 348: Degree 229\n",
      "  Node 1730: Degree 226\n",
      "  Node 1985: Degree 224\n",
      "  Node 1941: Degree 223\n",
      "  Node 2233: Degree 222\n",
      "  Node 2142: Degree 221\n",
      "  Node 1431: Degree 220\n"
     ]
    },
    {
     "name": "stderr",
     "output_type": "stream",
     "text": [
      "[codecarbon INFO @ 19:44:20] Energy consumed for RAM : 0.000016 kWh. RAM Power : 3.0 W\n",
      "[codecarbon INFO @ 19:44:20] Delta energy consumed for CPU with constant : 0.000051 kWh, power : 42.5 W\n",
      "[codecarbon INFO @ 19:44:20] Energy consumed for All CPU : 0.000229 kWh\n",
      "[codecarbon INFO @ 19:44:20] 0.000245 kWh of electricity used since the beginning.\n",
      "[codecarbon WARNING @ 19:44:20] Multiple instances of codecarbon are allowed to run at the same time.\n",
      "[codecarbon WARNING @ 19:44:20] Error while trying to count physical CPUs: [Errno 2] No such file or directory: 'lscpu'. Defaulting to 1.\n",
      "[codecarbon INFO @ 19:44:20] [setup] RAM Tracking...\n",
      "[codecarbon INFO @ 19:44:20] [setup] CPU Tracking...\n",
      "[codecarbon WARNING @ 19:44:20] We saw that you have a Apple M4 but we don't know it. Please contact us.\n",
      "[codecarbon WARNING @ 19:44:20] No CPU tracking mode found. Falling back on estimation based on TDP for CPU. \n",
      " Mac OS detected: Please install Intel Power Gadget or enable PowerMetrics sudo to measure CPU\n",
      "\n",
      "[codecarbon INFO @ 19:44:20] CPU Model on constant consumption mode: Apple M4\n",
      "[codecarbon WARNING @ 19:44:20] No CPU tracking mode found. Falling back on CPU constant mode.\n",
      "[codecarbon INFO @ 19:44:20] [setup] GPU Tracking...\n",
      "[codecarbon INFO @ 19:44:20] No GPU found.\n",
      "[codecarbon INFO @ 19:44:20] The below tracking methods have been set up:\n",
      "                RAM Tracking Method: RAM power estimation model\n",
      "                CPU Tracking Method: global constant\n",
      "                GPU Tracking Method: Unspecified\n",
      "            \n",
      "[codecarbon INFO @ 19:44:20] >>> Tracker's metadata:\n",
      "[codecarbon INFO @ 19:44:20]   Platform system: macOS-15.5-arm64-arm-64bit-Mach-O\n",
      "[codecarbon INFO @ 19:44:20]   Python version: 3.13.5\n",
      "[codecarbon INFO @ 19:44:20]   CodeCarbon version: 3.0.2\n",
      "[codecarbon INFO @ 19:44:20]   Available RAM : 16.000 GB\n",
      "[codecarbon INFO @ 19:44:20]   CPU count: 10 thread(s) in 1 physical CPU(s)\n",
      "[codecarbon INFO @ 19:44:20]   CPU model: Apple M4\n",
      "[codecarbon INFO @ 19:44:20]   GPU count: None\n",
      "[codecarbon INFO @ 19:44:20]   GPU model: None\n",
      "[codecarbon INFO @ 19:44:21] Emissions data (if any) will be saved to file /Users/jgao/github/ECRI-RCDS-Hackathon/emissions.csv\n",
      "[codecarbon INFO @ 19:44:36] Energy consumed for RAM : 0.000013 kWh. RAM Power : 3.0 W\n",
      "[codecarbon INFO @ 19:44:36] Delta energy consumed for CPU with constant : 0.000179 kWh, power : 42.5 W\n",
      "[codecarbon INFO @ 19:44:36] Energy consumed for All CPU : 0.000179 kWh\n",
      "[codecarbon INFO @ 19:44:37] 0.000191 kWh of electricity used since the beginning.\n"
     ]
    },
    {
     "name": "stdout",
     "output_type": "stream",
     "text": [
      "Nodes: 4039\n",
      "Edges: 88234\n",
      "Average Degree: 43.69\n",
      "Density: 0.010820\n",
      "Longest Path: 8\n",
      "Longest Path Nodes: [687, 686, 698, 3437, 567, 414, 594, 3980, 4038]\n",
      "Shortest Path: 4\n",
      "Shortest Path Nodes: [567, 3437, 698, 686, 855]\n",
      "Execution Time: 17.91 seconds\n",
      "Memory Used: 1.95 MB\n",
      "Top 20 Most Connected Nodes:\n",
      "  Node 107: Degree 1045\n",
      "  Node 1684: Degree 792\n",
      "  Node 1912: Degree 755\n",
      "  Node 3437: Degree 547\n",
      "  Node 0: Degree 347\n",
      "  Node 2543: Degree 294\n",
      "  Node 2347: Degree 291\n",
      "  Node 1888: Degree 254\n",
      "  Node 1800: Degree 245\n",
      "  Node 1663: Degree 235\n",
      "  Node 1352: Degree 234\n",
      "  Node 2266: Degree 234\n",
      "  Node 483: Degree 231\n",
      "  Node 348: Degree 229\n",
      "  Node 1730: Degree 226\n",
      "  Node 1985: Degree 224\n",
      "  Node 1941: Degree 223\n",
      "  Node 2233: Degree 222\n",
      "  Node 2142: Degree 221\n",
      "  Node 1431: Degree 220\n"
     ]
    },
    {
     "name": "stderr",
     "output_type": "stream",
     "text": [
      "[codecarbon INFO @ 19:44:41] Energy consumed for RAM : 0.000016 kWh. RAM Power : 3.0 W\n",
      "[codecarbon INFO @ 19:44:41] Delta energy consumed for CPU with constant : 0.000055 kWh, power : 42.5 W\n",
      "[codecarbon INFO @ 19:44:41] Energy consumed for All CPU : 0.000233 kWh\n",
      "[codecarbon INFO @ 19:44:41] 0.000250 kWh of electricity used since the beginning.\n",
      "[codecarbon WARNING @ 19:44:41] Multiple instances of codecarbon are allowed to run at the same time.\n",
      "[codecarbon WARNING @ 19:44:41] Error while trying to count physical CPUs: [Errno 2] No such file or directory: 'lscpu'. Defaulting to 1.\n",
      "[codecarbon INFO @ 19:44:41] [setup] RAM Tracking...\n",
      "[codecarbon INFO @ 19:44:41] [setup] CPU Tracking...\n",
      "[codecarbon WARNING @ 19:44:41] We saw that you have a Apple M4 but we don't know it. Please contact us.\n",
      "[codecarbon WARNING @ 19:44:42] No CPU tracking mode found. Falling back on estimation based on TDP for CPU. \n",
      " Mac OS detected: Please install Intel Power Gadget or enable PowerMetrics sudo to measure CPU\n",
      "\n",
      "[codecarbon INFO @ 19:44:42] CPU Model on constant consumption mode: Apple M4\n",
      "[codecarbon WARNING @ 19:44:42] No CPU tracking mode found. Falling back on CPU constant mode.\n",
      "[codecarbon INFO @ 19:44:42] [setup] GPU Tracking...\n",
      "[codecarbon INFO @ 19:44:42] No GPU found.\n",
      "[codecarbon INFO @ 19:44:42] The below tracking methods have been set up:\n",
      "                RAM Tracking Method: RAM power estimation model\n",
      "                CPU Tracking Method: global constant\n",
      "                GPU Tracking Method: Unspecified\n",
      "            \n",
      "[codecarbon INFO @ 19:44:42] >>> Tracker's metadata:\n",
      "[codecarbon INFO @ 19:44:42]   Platform system: macOS-15.5-arm64-arm-64bit-Mach-O\n",
      "[codecarbon INFO @ 19:44:42]   Python version: 3.13.5\n",
      "[codecarbon INFO @ 19:44:42]   CodeCarbon version: 3.0.2\n",
      "[codecarbon INFO @ 19:44:42]   Available RAM : 16.000 GB\n",
      "[codecarbon INFO @ 19:44:42]   CPU count: 10 thread(s) in 1 physical CPU(s)\n",
      "[codecarbon INFO @ 19:44:42]   CPU model: Apple M4\n",
      "[codecarbon INFO @ 19:44:42]   GPU count: None\n",
      "[codecarbon INFO @ 19:44:42]   GPU model: None\n",
      "[codecarbon INFO @ 19:44:45] Emissions data (if any) will be saved to file /Users/jgao/github/ECRI-RCDS-Hackathon/emissions.csv\n",
      "[codecarbon INFO @ 19:45:00] Energy consumed for RAM : 0.000013 kWh. RAM Power : 3.0 W\n",
      "[codecarbon INFO @ 19:45:00] Delta energy consumed for CPU with constant : 0.000178 kWh, power : 42.5 W\n",
      "[codecarbon INFO @ 19:45:00] Energy consumed for All CPU : 0.000178 kWh\n",
      "[codecarbon INFO @ 19:45:00] 0.000190 kWh of electricity used since the beginning.\n"
     ]
    },
    {
     "name": "stdout",
     "output_type": "stream",
     "text": [
      "Nodes: 4039\n",
      "Edges: 88234\n",
      "Average Degree: 43.69\n",
      "Density: 0.010820\n",
      "Longest Path: 8\n",
      "Longest Path Nodes: [687, 686, 698, 3437, 567, 414, 594, 3980, 4038]\n",
      "Shortest Path: 4\n",
      "Shortest Path Nodes: [567, 3437, 698, 686, 855]\n",
      "Execution Time: 18.23 seconds\n",
      "Memory Used: -8.08 MB\n",
      "Top 20 Most Connected Nodes:\n",
      "  Node 107: Degree 1045\n",
      "  Node 1684: Degree 792\n",
      "  Node 1912: Degree 755\n",
      "  Node 3437: Degree 547\n",
      "  Node 0: Degree 347\n",
      "  Node 2543: Degree 294\n",
      "  Node 2347: Degree 291\n",
      "  Node 1888: Degree 254\n",
      "  Node 1800: Degree 245\n",
      "  Node 1663: Degree 235\n",
      "  Node 1352: Degree 234\n",
      "  Node 2266: Degree 234\n",
      "  Node 483: Degree 231\n",
      "  Node 348: Degree 229\n",
      "  Node 1730: Degree 226\n",
      "  Node 1985: Degree 224\n",
      "  Node 1941: Degree 223\n",
      "  Node 2233: Degree 222\n",
      "  Node 2142: Degree 221\n",
      "  Node 1431: Degree 220\n"
     ]
    },
    {
     "name": "stderr",
     "output_type": "stream",
     "text": [
      "[codecarbon INFO @ 19:45:05] Energy consumed for RAM : 0.000017 kWh. RAM Power : 3.0 W\n",
      "[codecarbon INFO @ 19:45:05] Delta energy consumed for CPU with constant : 0.000058 kWh, power : 42.5 W\n",
      "[codecarbon INFO @ 19:45:05] Energy consumed for All CPU : 0.000236 kWh\n",
      "[codecarbon INFO @ 19:45:05] 0.000253 kWh of electricity used since the beginning.\n"
     ]
    },
    {
     "data": {
      "text/html": [],
      "text/plain": [
       "<IPython.core.display.HTML object>"
      ]
     },
     "metadata": {},
     "output_type": "display_data"
    },
    {
     "data": {
      "text/html": [
       "<br>    <style><br>        .wandb-row {<br>            display: flex;<br>            flex-direction: row;<br>            flex-wrap: wrap;<br>            justify-content: flex-start;<br>            width: 100%;<br>        }<br>        .wandb-col {<br>            display: flex;<br>            flex-direction: column;<br>            flex-basis: 100%;<br>            flex: 1;<br>            padding: 10px;<br>        }<br>    </style><br><div class=\"wandb-row\"><div class=\"wandb-col\"><h3>Run history:</h3><br/><table class=\"wandb\"><tr><td>Avg CPU Usage (%)</td><td>▁</td></tr><tr><td>Avg Degree</td><td>▁▁▁▁▁</td></tr><tr><td>Avg Emissions (kgCO2)</td><td>▁</td></tr><tr><td>Avg Memory (MB)</td><td>▁</td></tr><tr><td>Avg Time (s)</td><td>▁</td></tr><tr><td>CPU Usage (%)</td><td>▇▃█▃▁</td></tr><tr><td>CPU Usage Std (%)</td><td>▁</td></tr><tr><td>Density</td><td>▁▁▁▁▁</td></tr><tr><td>Edges</td><td>▁▁▁▁▁</td></tr><tr><td>Emissions (kgCO2)</td><td>█▁▂▆█</td></tr><tr><td>Emissions Std (kgCO2)</td><td>▁</td></tr><tr><td>Longest Path</td><td>▁▁▁▁▁</td></tr><tr><td>Memory (MB)</td><td>█▅█▇▁</td></tr><tr><td>Memory Std (MB)</td><td>▁</td></tr><tr><td>Nodes</td><td>▁▁▁▁▁</td></tr><tr><td>Run</td><td>▁▃▅▆█</td></tr><tr><td>Shortest Path</td><td>▁▁▁▁▁</td></tr><tr><td>Time (s)</td><td>▇▁▁▅█</td></tr><tr><td>Time Std (s)</td><td>▁</td></tr></table><br/></div><div class=\"wandb-col\"><h3>Run summary:</h3><br/><table class=\"wandb\"><tr><td>Avg CPU Usage (%)</td><td>13.72</td></tr><tr><td>Avg Degree</td><td>43.69101</td></tr><tr><td>Avg Emissions (kgCO2)</td><td>6e-05</td></tr><tr><td>Avg Memory (MB)</td><td>0.10938</td></tr><tr><td>Avg Time (s)</td><td>17.83327</td></tr><tr><td>CPU Usage (%)</td><td>10.4</td></tr><tr><td>CPU Usage Std (%)</td><td>2.88955</td></tr><tr><td>Density</td><td>0.01082</td></tr><tr><td>Edges</td><td>88234</td></tr><tr><td>Emissions (kgCO2)</td><td>6e-05</td></tr><tr><td>Emissions Std (kgCO2)</td><td>0.0</td></tr><tr><td>Longest Path</td><td>8</td></tr><tr><td>Memory (MB)</td><td>-8.07812</td></tr><tr><td>Memory Std (MB)</td><td>5.03827</td></tr><tr><td>Nodes</td><td>4039</td></tr><tr><td>Run</td><td>5</td></tr><tr><td>Shortest Path</td><td>4</td></tr><tr><td>Time (s)</td><td>18.22556</td></tr><tr><td>Time Std (s)</td><td>0.3815</td></tr></table><br/></div></div>"
      ],
      "text/plain": [
       "<IPython.core.display.HTML object>"
      ]
     },
     "metadata": {},
     "output_type": "display_data"
    },
    {
     "data": {
      "text/html": [
       " View run <strong style=\"color:#cdcd00\">NetworkX_run</strong> at: <a href='https://wandb.ai/jl-liam-gao/network_analysis/runs/kzk2nh3x' target=\"_blank\">https://wandb.ai/jl-liam-gao/network_analysis/runs/kzk2nh3x</a><br> View project at: <a href='https://wandb.ai/jl-liam-gao/network_analysis' target=\"_blank\">https://wandb.ai/jl-liam-gao/network_analysis</a><br>Synced 5 W&B file(s), 1 media file(s), 2 artifact file(s) and 0 other file(s)"
      ],
      "text/plain": [
       "<IPython.core.display.HTML object>"
      ]
     },
     "metadata": {},
     "output_type": "display_data"
    },
    {
     "data": {
      "text/html": [
       "Find logs at: <code>./wandb/run-20250704_194312-kzk2nh3x/logs</code>"
      ],
      "text/plain": [
       "<IPython.core.display.HTML object>"
      ]
     },
     "metadata": {},
     "output_type": "display_data"
    },
    {
     "name": "stdout",
     "output_type": "stream",
     "text": [
      "\n",
      "Running SciPy Sparse analysis (5 runs)\n"
     ]
    },
    {
     "data": {
      "text/html": [
       "Tracking run with wandb version 0.21.0"
      ],
      "text/plain": [
       "<IPython.core.display.HTML object>"
      ]
     },
     "metadata": {},
     "output_type": "display_data"
    },
    {
     "data": {
      "text/html": [
       "Run data is saved locally in <code>/Users/jgao/github/ECRI-RCDS-Hackathon/wandb/run-20250704_194507-x4uj89qj</code>"
      ],
      "text/plain": [
       "<IPython.core.display.HTML object>"
      ]
     },
     "metadata": {},
     "output_type": "display_data"
    },
    {
     "data": {
      "text/html": [
       "Syncing run <strong><a href='https://wandb.ai/jl-liam-gao/network_analysis/runs/x4uj89qj' target=\"_blank\">SciPy Sparse_run</a></strong> to <a href='https://wandb.ai/jl-liam-gao/network_analysis' target=\"_blank\">Weights & Biases</a> (<a href='https://wandb.me/developer-guide' target=\"_blank\">docs</a>)<br>"
      ],
      "text/plain": [
       "<IPython.core.display.HTML object>"
      ]
     },
     "metadata": {},
     "output_type": "display_data"
    },
    {
     "data": {
      "text/html": [
       " View project at <a href='https://wandb.ai/jl-liam-gao/network_analysis' target=\"_blank\">https://wandb.ai/jl-liam-gao/network_analysis</a>"
      ],
      "text/plain": [
       "<IPython.core.display.HTML object>"
      ]
     },
     "metadata": {},
     "output_type": "display_data"
    },
    {
     "data": {
      "text/html": [
       " View run at <a href='https://wandb.ai/jl-liam-gao/network_analysis/runs/x4uj89qj' target=\"_blank\">https://wandb.ai/jl-liam-gao/network_analysis/runs/x4uj89qj</a>"
      ],
      "text/plain": [
       "<IPython.core.display.HTML object>"
      ]
     },
     "metadata": {},
     "output_type": "display_data"
    },
    {
     "name": "stderr",
     "output_type": "stream",
     "text": [
      "[codecarbon WARNING @ 19:45:08] Multiple instances of codecarbon are allowed to run at the same time.\n",
      "[codecarbon WARNING @ 19:45:08] Error while trying to count physical CPUs: [Errno 2] No such file or directory: 'lscpu'. Defaulting to 1.\n",
      "[codecarbon INFO @ 19:45:08] [setup] RAM Tracking...\n",
      "[codecarbon INFO @ 19:45:08] [setup] CPU Tracking...\n",
      "[codecarbon WARNING @ 19:45:08] We saw that you have a Apple M4 but we don't know it. Please contact us.\n",
      "[codecarbon WARNING @ 19:45:08] No CPU tracking mode found. Falling back on estimation based on TDP for CPU. \n",
      " Mac OS detected: Please install Intel Power Gadget or enable PowerMetrics sudo to measure CPU\n",
      "\n",
      "[codecarbon INFO @ 19:45:08] CPU Model on constant consumption mode: Apple M4\n",
      "[codecarbon WARNING @ 19:45:08] No CPU tracking mode found. Falling back on CPU constant mode.\n",
      "[codecarbon INFO @ 19:45:08] [setup] GPU Tracking...\n",
      "[codecarbon INFO @ 19:45:08] No GPU found.\n",
      "[codecarbon INFO @ 19:45:08] The below tracking methods have been set up:\n",
      "                RAM Tracking Method: RAM power estimation model\n",
      "                CPU Tracking Method: global constant\n",
      "                GPU Tracking Method: Unspecified\n",
      "            \n",
      "[codecarbon INFO @ 19:45:08] >>> Tracker's metadata:\n",
      "[codecarbon INFO @ 19:45:08]   Platform system: macOS-15.5-arm64-arm-64bit-Mach-O\n",
      "[codecarbon INFO @ 19:45:08]   Python version: 3.13.5\n",
      "[codecarbon INFO @ 19:45:08]   CodeCarbon version: 3.0.2\n",
      "[codecarbon INFO @ 19:45:08]   Available RAM : 16.000 GB\n",
      "[codecarbon INFO @ 19:45:08]   CPU count: 10 thread(s) in 1 physical CPU(s)\n",
      "[codecarbon INFO @ 19:45:08]   CPU model: Apple M4\n",
      "[codecarbon INFO @ 19:45:08]   GPU count: None\n",
      "[codecarbon INFO @ 19:45:08]   GPU model: None\n",
      "[codecarbon INFO @ 19:45:09] Emissions data (if any) will be saved to file /Users/jgao/github/ECRI-RCDS-Hackathon/emissions.csv\n",
      "[codecarbon INFO @ 19:45:24] Energy consumed for RAM : 0.000013 kWh. RAM Power : 3.0 W\n",
      "[codecarbon INFO @ 19:45:24] Delta energy consumed for CPU with constant : 0.000178 kWh, power : 42.5 W\n",
      "[codecarbon INFO @ 19:45:24] Energy consumed for All CPU : 0.000178 kWh\n",
      "[codecarbon INFO @ 19:45:24] 0.000191 kWh of electricity used since the beginning.\n"
     ]
    },
    {
     "name": "stdout",
     "output_type": "stream",
     "text": [
      "Nodes: 4039\n",
      "Edges: 88234\n",
      "Average Degree: 43.69\n",
      "Density: 0.010820\n",
      "Longest Path: 8\n",
      "Longest Path Nodes: [687, 686, 698, 3437, 567, 414, 594, 3980, 4038]\n",
      "Shortest Path: 4\n",
      "Shortest Path Nodes: [567, 3437, 698, 686, 855]\n",
      "Execution Time: 17.88 seconds\n",
      "Memory Used: 16.08 MB\n",
      "Top 20 Most Connected Nodes:\n",
      "  Node 107: Degree 1045\n",
      "  Node 1684: Degree 792\n",
      "  Node 1912: Degree 755\n",
      "  Node 3437: Degree 547\n",
      "  Node 0: Degree 347\n",
      "  Node 2543: Degree 294\n",
      "  Node 2347: Degree 291\n",
      "  Node 1888: Degree 254\n",
      "  Node 1800: Degree 245\n",
      "  Node 1663: Degree 235\n",
      "  Node 1352: Degree 234\n",
      "  Node 2266: Degree 234\n",
      "  Node 483: Degree 231\n",
      "  Node 348: Degree 229\n",
      "  Node 1730: Degree 226\n",
      "  Node 1985: Degree 224\n",
      "  Node 1941: Degree 223\n",
      "  Node 2233: Degree 222\n",
      "  Node 2142: Degree 221\n",
      "  Node 1431: Degree 220\n"
     ]
    },
    {
     "name": "stderr",
     "output_type": "stream",
     "text": [
      "[codecarbon INFO @ 19:45:29] Energy consumed for RAM : 0.000016 kWh. RAM Power : 3.0 W\n",
      "[codecarbon INFO @ 19:45:29] Delta energy consumed for CPU with constant : 0.000055 kWh, power : 42.5 W\n",
      "[codecarbon INFO @ 19:45:29] Energy consumed for All CPU : 0.000233 kWh\n",
      "[codecarbon INFO @ 19:45:29] 0.000250 kWh of electricity used since the beginning.\n",
      "[codecarbon WARNING @ 19:45:29] Multiple instances of codecarbon are allowed to run at the same time.\n",
      "[codecarbon WARNING @ 19:45:29] Error while trying to count physical CPUs: [Errno 2] No such file or directory: 'lscpu'. Defaulting to 1.\n",
      "[codecarbon INFO @ 19:45:29] [setup] RAM Tracking...\n",
      "[codecarbon INFO @ 19:45:29] [setup] CPU Tracking...\n",
      "[codecarbon WARNING @ 19:45:29] We saw that you have a Apple M4 but we don't know it. Please contact us.\n",
      "[codecarbon WARNING @ 19:45:29] No CPU tracking mode found. Falling back on estimation based on TDP for CPU. \n",
      " Mac OS detected: Please install Intel Power Gadget or enable PowerMetrics sudo to measure CPU\n",
      "\n",
      "[codecarbon INFO @ 19:45:29] CPU Model on constant consumption mode: Apple M4\n",
      "[codecarbon WARNING @ 19:45:29] No CPU tracking mode found. Falling back on CPU constant mode.\n",
      "[codecarbon INFO @ 19:45:29] [setup] GPU Tracking...\n",
      "[codecarbon INFO @ 19:45:29] No GPU found.\n",
      "[codecarbon INFO @ 19:45:29] The below tracking methods have been set up:\n",
      "                RAM Tracking Method: RAM power estimation model\n",
      "                CPU Tracking Method: global constant\n",
      "                GPU Tracking Method: Unspecified\n",
      "            \n",
      "[codecarbon INFO @ 19:45:29] >>> Tracker's metadata:\n",
      "[codecarbon INFO @ 19:45:29]   Platform system: macOS-15.5-arm64-arm-64bit-Mach-O\n",
      "[codecarbon INFO @ 19:45:29]   Python version: 3.13.5\n",
      "[codecarbon INFO @ 19:45:29]   CodeCarbon version: 3.0.2\n",
      "[codecarbon INFO @ 19:45:29]   Available RAM : 16.000 GB\n",
      "[codecarbon INFO @ 19:45:29]   CPU count: 10 thread(s) in 1 physical CPU(s)\n",
      "[codecarbon INFO @ 19:45:29]   CPU model: Apple M4\n",
      "[codecarbon INFO @ 19:45:29]   GPU count: None\n",
      "[codecarbon INFO @ 19:45:29]   GPU model: None\n",
      "[codecarbon INFO @ 19:45:33] Emissions data (if any) will be saved to file /Users/jgao/github/ECRI-RCDS-Hackathon/emissions.csv\n",
      "[codecarbon INFO @ 19:45:48] Energy consumed for RAM : 0.000013 kWh. RAM Power : 3.0 W\n",
      "[codecarbon INFO @ 19:45:48] Delta energy consumed for CPU with constant : 0.000178 kWh, power : 42.5 W\n",
      "[codecarbon INFO @ 19:45:48] Energy consumed for All CPU : 0.000178 kWh\n",
      "[codecarbon INFO @ 19:45:48] 0.000190 kWh of electricity used since the beginning.\n"
     ]
    },
    {
     "name": "stdout",
     "output_type": "stream",
     "text": [
      "Nodes: 4039\n",
      "Edges: 88234\n",
      "Average Degree: 43.69\n",
      "Density: 0.010820\n",
      "Longest Path: 8\n",
      "Longest Path Nodes: [687, 686, 698, 3437, 567, 414, 594, 3980, 4038]\n",
      "Shortest Path: 4\n",
      "Shortest Path Nodes: [567, 3437, 698, 686, 855]\n",
      "Execution Time: 18.11 seconds\n",
      "Memory Used: 2.72 MB\n",
      "Top 20 Most Connected Nodes:\n",
      "  Node 107: Degree 1045\n",
      "  Node 1684: Degree 792\n",
      "  Node 1912: Degree 755\n",
      "  Node 3437: Degree 547\n",
      "  Node 0: Degree 347\n",
      "  Node 2543: Degree 294\n",
      "  Node 2347: Degree 291\n",
      "  Node 1888: Degree 254\n",
      "  Node 1800: Degree 245\n",
      "  Node 1663: Degree 235\n",
      "  Node 1352: Degree 234\n",
      "  Node 2266: Degree 234\n",
      "  Node 483: Degree 231\n",
      "  Node 348: Degree 229\n",
      "  Node 1730: Degree 226\n",
      "  Node 1985: Degree 224\n",
      "  Node 1941: Degree 223\n",
      "  Node 2233: Degree 222\n",
      "  Node 2142: Degree 221\n",
      "  Node 1431: Degree 220\n"
     ]
    },
    {
     "name": "stderr",
     "output_type": "stream",
     "text": [
      "[codecarbon INFO @ 19:45:53] Energy consumed for RAM : 0.000017 kWh. RAM Power : 3.0 W\n",
      "[codecarbon INFO @ 19:45:53] Delta energy consumed for CPU with constant : 0.000058 kWh, power : 42.5 W\n",
      "[codecarbon INFO @ 19:45:53] Energy consumed for All CPU : 0.000235 kWh\n",
      "[codecarbon INFO @ 19:45:53] 0.000252 kWh of electricity used since the beginning.\n",
      "[codecarbon WARNING @ 19:45:53] Multiple instances of codecarbon are allowed to run at the same time.\n",
      "[codecarbon WARNING @ 19:45:53] Error while trying to count physical CPUs: [Errno 2] No such file or directory: 'lscpu'. Defaulting to 1.\n",
      "[codecarbon INFO @ 19:45:53] [setup] RAM Tracking...\n",
      "[codecarbon INFO @ 19:45:53] [setup] CPU Tracking...\n",
      "[codecarbon WARNING @ 19:45:53] We saw that you have a Apple M4 but we don't know it. Please contact us.\n",
      "[codecarbon WARNING @ 19:45:53] No CPU tracking mode found. Falling back on estimation based on TDP for CPU. \n",
      " Mac OS detected: Please install Intel Power Gadget or enable PowerMetrics sudo to measure CPU\n",
      "\n",
      "[codecarbon INFO @ 19:45:53] CPU Model on constant consumption mode: Apple M4\n",
      "[codecarbon WARNING @ 19:45:53] No CPU tracking mode found. Falling back on CPU constant mode.\n",
      "[codecarbon INFO @ 19:45:53] [setup] GPU Tracking...\n",
      "[codecarbon INFO @ 19:45:53] No GPU found.\n",
      "[codecarbon INFO @ 19:45:53] The below tracking methods have been set up:\n",
      "                RAM Tracking Method: RAM power estimation model\n",
      "                CPU Tracking Method: global constant\n",
      "                GPU Tracking Method: Unspecified\n",
      "            \n",
      "[codecarbon INFO @ 19:45:53] >>> Tracker's metadata:\n",
      "[codecarbon INFO @ 19:45:53]   Platform system: macOS-15.5-arm64-arm-64bit-Mach-O\n",
      "[codecarbon INFO @ 19:45:53]   Python version: 3.13.5\n",
      "[codecarbon INFO @ 19:45:53]   CodeCarbon version: 3.0.2\n",
      "[codecarbon INFO @ 19:45:53]   Available RAM : 16.000 GB\n",
      "[codecarbon INFO @ 19:45:53]   CPU count: 10 thread(s) in 1 physical CPU(s)\n",
      "[codecarbon INFO @ 19:45:53]   CPU model: Apple M4\n",
      "[codecarbon INFO @ 19:45:53]   GPU count: None\n",
      "[codecarbon INFO @ 19:45:53]   GPU model: None\n",
      "[codecarbon INFO @ 19:45:54] Emissions data (if any) will be saved to file /Users/jgao/github/ECRI-RCDS-Hackathon/emissions.csv\n",
      "[codecarbon INFO @ 19:46:09] Energy consumed for RAM : 0.000013 kWh. RAM Power : 3.0 W\n",
      "[codecarbon INFO @ 19:46:09] Delta energy consumed for CPU with constant : 0.000178 kWh, power : 42.5 W\n",
      "[codecarbon INFO @ 19:46:09] Energy consumed for All CPU : 0.000178 kWh\n",
      "[codecarbon INFO @ 19:46:09] 0.000191 kWh of electricity used since the beginning.\n"
     ]
    },
    {
     "name": "stdout",
     "output_type": "stream",
     "text": [
      "Nodes: 4039\n",
      "Edges: 88234\n",
      "Average Degree: 43.69\n",
      "Density: 0.010820\n",
      "Longest Path: 8\n",
      "Longest Path Nodes: [687, 686, 698, 3437, 567, 414, 594, 3980, 4038]\n",
      "Shortest Path: 4\n",
      "Shortest Path Nodes: [567, 3437, 698, 686, 855]\n",
      "Execution Time: 18.03 seconds\n",
      "Memory Used: -25.05 MB\n",
      "Top 20 Most Connected Nodes:\n",
      "  Node 107: Degree 1045\n",
      "  Node 1684: Degree 792\n",
      "  Node 1912: Degree 755\n",
      "  Node 3437: Degree 547\n",
      "  Node 0: Degree 347\n",
      "  Node 2543: Degree 294\n",
      "  Node 2347: Degree 291\n",
      "  Node 1888: Degree 254\n",
      "  Node 1800: Degree 245\n",
      "  Node 1663: Degree 235\n",
      "  Node 1352: Degree 234\n",
      "  Node 2266: Degree 234\n",
      "  Node 483: Degree 231\n",
      "  Node 348: Degree 229\n",
      "  Node 1730: Degree 226\n",
      "  Node 1985: Degree 224\n",
      "  Node 1941: Degree 223\n",
      "  Node 2233: Degree 222\n",
      "  Node 2142: Degree 221\n",
      "  Node 1431: Degree 220\n"
     ]
    },
    {
     "name": "stderr",
     "output_type": "stream",
     "text": [
      "[codecarbon INFO @ 19:46:14] Energy consumed for RAM : 0.000017 kWh. RAM Power : 3.0 W\n",
      "[codecarbon INFO @ 19:46:14] Delta energy consumed for CPU with constant : 0.000057 kWh, power : 42.5 W\n",
      "[codecarbon INFO @ 19:46:14] Energy consumed for All CPU : 0.000235 kWh\n",
      "[codecarbon INFO @ 19:46:14] 0.000252 kWh of electricity used since the beginning.\n",
      "[codecarbon WARNING @ 19:46:14] Multiple instances of codecarbon are allowed to run at the same time.\n",
      "[codecarbon WARNING @ 19:46:14] Error while trying to count physical CPUs: [Errno 2] No such file or directory: 'lscpu'. Defaulting to 1.\n",
      "[codecarbon INFO @ 19:46:14] [setup] RAM Tracking...\n",
      "[codecarbon INFO @ 19:46:14] [setup] CPU Tracking...\n",
      "[codecarbon WARNING @ 19:46:15] We saw that you have a Apple M4 but we don't know it. Please contact us.\n",
      "[codecarbon WARNING @ 19:46:15] No CPU tracking mode found. Falling back on estimation based on TDP for CPU. \n",
      " Mac OS detected: Please install Intel Power Gadget or enable PowerMetrics sudo to measure CPU\n",
      "\n",
      "[codecarbon INFO @ 19:46:15] CPU Model on constant consumption mode: Apple M4\n",
      "[codecarbon WARNING @ 19:46:15] No CPU tracking mode found. Falling back on CPU constant mode.\n",
      "[codecarbon INFO @ 19:46:15] [setup] GPU Tracking...\n",
      "[codecarbon INFO @ 19:46:15] No GPU found.\n",
      "[codecarbon INFO @ 19:46:15] The below tracking methods have been set up:\n",
      "                RAM Tracking Method: RAM power estimation model\n",
      "                CPU Tracking Method: global constant\n",
      "                GPU Tracking Method: Unspecified\n",
      "            \n",
      "[codecarbon INFO @ 19:46:15] >>> Tracker's metadata:\n",
      "[codecarbon INFO @ 19:46:15]   Platform system: macOS-15.5-arm64-arm-64bit-Mach-O\n",
      "[codecarbon INFO @ 19:46:15]   Python version: 3.13.5\n",
      "[codecarbon INFO @ 19:46:15]   CodeCarbon version: 3.0.2\n",
      "[codecarbon INFO @ 19:46:15]   Available RAM : 16.000 GB\n",
      "[codecarbon INFO @ 19:46:15]   CPU count: 10 thread(s) in 1 physical CPU(s)\n",
      "[codecarbon INFO @ 19:46:15]   CPU model: Apple M4\n",
      "[codecarbon INFO @ 19:46:15]   GPU count: None\n",
      "[codecarbon INFO @ 19:46:15]   GPU model: None\n",
      "[codecarbon INFO @ 19:46:18] Emissions data (if any) will be saved to file /Users/jgao/github/ECRI-RCDS-Hackathon/emissions.csv\n",
      "[codecarbon INFO @ 19:46:33] Energy consumed for RAM : 0.000013 kWh. RAM Power : 3.0 W\n",
      "[codecarbon INFO @ 19:46:33] Delta energy consumed for CPU with constant : 0.000179 kWh, power : 42.5 W\n",
      "[codecarbon INFO @ 19:46:33] Energy consumed for All CPU : 0.000179 kWh\n",
      "[codecarbon INFO @ 19:46:33] 0.000191 kWh of electricity used since the beginning.\n"
     ]
    },
    {
     "name": "stdout",
     "output_type": "stream",
     "text": [
      "Nodes: 4039\n",
      "Edges: 88234\n",
      "Average Degree: 43.69\n",
      "Density: 0.010820\n",
      "Longest Path: 8\n",
      "Longest Path Nodes: [687, 686, 698, 3437, 567, 414, 594, 3980, 4038]\n",
      "Shortest Path: 4\n",
      "Shortest Path Nodes: [567, 3437, 698, 686, 855]\n",
      "Execution Time: 18.04 seconds\n",
      "Memory Used: 33.88 MB\n",
      "Top 20 Most Connected Nodes:\n",
      "  Node 107: Degree 1045\n",
      "  Node 1684: Degree 792\n",
      "  Node 1912: Degree 755\n",
      "  Node 3437: Degree 547\n",
      "  Node 0: Degree 347\n",
      "  Node 2543: Degree 294\n",
      "  Node 2347: Degree 291\n",
      "  Node 1888: Degree 254\n",
      "  Node 1800: Degree 245\n",
      "  Node 1663: Degree 235\n",
      "  Node 1352: Degree 234\n",
      "  Node 2266: Degree 234\n",
      "  Node 483: Degree 231\n",
      "  Node 348: Degree 229\n",
      "  Node 1730: Degree 226\n",
      "  Node 1985: Degree 224\n",
      "  Node 1941: Degree 223\n",
      "  Node 2233: Degree 222\n",
      "  Node 2142: Degree 221\n",
      "  Node 1431: Degree 220\n"
     ]
    },
    {
     "name": "stderr",
     "output_type": "stream",
     "text": [
      "[codecarbon INFO @ 19:46:38] Energy consumed for RAM : 0.000017 kWh. RAM Power : 3.0 W\n",
      "[codecarbon INFO @ 19:46:38] Delta energy consumed for CPU with constant : 0.000057 kWh, power : 42.5 W\n",
      "[codecarbon INFO @ 19:46:38] Energy consumed for All CPU : 0.000235 kWh\n",
      "[codecarbon INFO @ 19:46:38] 0.000252 kWh of electricity used since the beginning.\n",
      "[codecarbon WARNING @ 19:46:38] Multiple instances of codecarbon are allowed to run at the same time.\n",
      "[codecarbon WARNING @ 19:46:38] Error while trying to count physical CPUs: [Errno 2] No such file or directory: 'lscpu'. Defaulting to 1.\n",
      "[codecarbon INFO @ 19:46:38] [setup] RAM Tracking...\n",
      "[codecarbon INFO @ 19:46:38] [setup] CPU Tracking...\n",
      "[codecarbon WARNING @ 19:46:38] We saw that you have a Apple M4 but we don't know it. Please contact us.\n",
      "[codecarbon WARNING @ 19:46:38] No CPU tracking mode found. Falling back on estimation based on TDP for CPU. \n",
      " Mac OS detected: Please install Intel Power Gadget or enable PowerMetrics sudo to measure CPU\n",
      "\n",
      "[codecarbon INFO @ 19:46:38] CPU Model on constant consumption mode: Apple M4\n",
      "[codecarbon WARNING @ 19:46:38] No CPU tracking mode found. Falling back on CPU constant mode.\n",
      "[codecarbon INFO @ 19:46:38] [setup] GPU Tracking...\n",
      "[codecarbon INFO @ 19:46:38] No GPU found.\n",
      "[codecarbon INFO @ 19:46:38] The below tracking methods have been set up:\n",
      "                RAM Tracking Method: RAM power estimation model\n",
      "                CPU Tracking Method: global constant\n",
      "                GPU Tracking Method: Unspecified\n",
      "            \n",
      "[codecarbon INFO @ 19:46:38] >>> Tracker's metadata:\n",
      "[codecarbon INFO @ 19:46:38]   Platform system: macOS-15.5-arm64-arm-64bit-Mach-O\n",
      "[codecarbon INFO @ 19:46:38]   Python version: 3.13.5\n",
      "[codecarbon INFO @ 19:46:38]   CodeCarbon version: 3.0.2\n",
      "[codecarbon INFO @ 19:46:38]   Available RAM : 16.000 GB\n",
      "[codecarbon INFO @ 19:46:38]   CPU count: 10 thread(s) in 1 physical CPU(s)\n",
      "[codecarbon INFO @ 19:46:38]   CPU model: Apple M4\n",
      "[codecarbon INFO @ 19:46:38]   GPU count: None\n",
      "[codecarbon INFO @ 19:46:38]   GPU model: None\n",
      "[codecarbon INFO @ 19:46:39] Emissions data (if any) will be saved to file /Users/jgao/github/ECRI-RCDS-Hackathon/emissions.csv\n",
      "[codecarbon INFO @ 19:46:54] Energy consumed for RAM : 0.000013 kWh. RAM Power : 3.0 W\n",
      "[codecarbon INFO @ 19:46:55] Delta energy consumed for CPU with constant : 0.000178 kWh, power : 42.5 W\n",
      "[codecarbon INFO @ 19:46:55] Energy consumed for All CPU : 0.000178 kWh\n",
      "[codecarbon INFO @ 19:46:55] 0.000191 kWh of electricity used since the beginning.\n"
     ]
    },
    {
     "name": "stdout",
     "output_type": "stream",
     "text": [
      "Nodes: 4039\n",
      "Edges: 88234\n",
      "Average Degree: 43.69\n",
      "Density: 0.010820\n",
      "Longest Path: 8\n",
      "Longest Path Nodes: [687, 686, 698, 3437, 567, 414, 594, 3980, 4038]\n",
      "Shortest Path: 4\n",
      "Shortest Path Nodes: [567, 3437, 698, 686, 855]\n",
      "Execution Time: 17.98 seconds\n",
      "Memory Used: 14.16 MB\n",
      "Top 20 Most Connected Nodes:\n",
      "  Node 107: Degree 1045\n",
      "  Node 1684: Degree 792\n",
      "  Node 1912: Degree 755\n",
      "  Node 3437: Degree 547\n",
      "  Node 0: Degree 347\n",
      "  Node 2543: Degree 294\n",
      "  Node 2347: Degree 291\n",
      "  Node 1888: Degree 254\n",
      "  Node 1800: Degree 245\n",
      "  Node 1663: Degree 235\n",
      "  Node 1352: Degree 234\n",
      "  Node 2266: Degree 234\n",
      "  Node 483: Degree 231\n",
      "  Node 348: Degree 229\n",
      "  Node 1730: Degree 226\n",
      "  Node 1985: Degree 224\n",
      "  Node 1941: Degree 223\n",
      "  Node 2233: Degree 222\n",
      "  Node 2142: Degree 221\n",
      "  Node 1431: Degree 220\n"
     ]
    },
    {
     "name": "stderr",
     "output_type": "stream",
     "text": [
      "[codecarbon INFO @ 19:46:59] Energy consumed for RAM : 0.000017 kWh. RAM Power : 3.0 W\n",
      "[codecarbon INFO @ 19:46:59] Delta energy consumed for CPU with constant : 0.000056 kWh, power : 42.5 W\n",
      "[codecarbon INFO @ 19:46:59] Energy consumed for All CPU : 0.000235 kWh\n",
      "[codecarbon INFO @ 19:46:59] 0.000251 kWh of electricity used since the beginning.\n"
     ]
    },
    {
     "data": {
      "text/html": [],
      "text/plain": [
       "<IPython.core.display.HTML object>"
      ]
     },
     "metadata": {},
     "output_type": "display_data"
    },
    {
     "data": {
      "text/html": [
       "<br>    <style><br>        .wandb-row {<br>            display: flex;<br>            flex-direction: row;<br>            flex-wrap: wrap;<br>            justify-content: flex-start;<br>            width: 100%;<br>        }<br>        .wandb-col {<br>            display: flex;<br>            flex-direction: column;<br>            flex-basis: 100%;<br>            flex: 1;<br>            padding: 10px;<br>        }<br>    </style><br><div class=\"wandb-row\"><div class=\"wandb-col\"><h3>Run history:</h3><br/><table class=\"wandb\"><tr><td>Avg CPU Usage (%)</td><td>▁</td></tr><tr><td>Avg Degree</td><td>▁▁▁▁▁</td></tr><tr><td>Avg Emissions (kgCO2)</td><td>▁</td></tr><tr><td>Avg Memory (MB)</td><td>▁</td></tr><tr><td>Avg Time (s)</td><td>▁</td></tr><tr><td>CPU Usage (%)</td><td>█▁▅▂▆</td></tr><tr><td>CPU Usage Std (%)</td><td>▁</td></tr><tr><td>Density</td><td>▁▁▁▁▁</td></tr><tr><td>Edges</td><td>▁▁▁▁▁</td></tr><tr><td>Emissions (kgCO2)</td><td>▁▇██▅</td></tr><tr><td>Emissions Std (kgCO2)</td><td>▁</td></tr><tr><td>Longest Path</td><td>▁▁▁▁▁</td></tr><tr><td>Memory (MB)</td><td>▆▄▁█▆</td></tr><tr><td>Memory Std (MB)</td><td>▁</td></tr><tr><td>Nodes</td><td>▁▁▁▁▁</td></tr><tr><td>Run</td><td>▁▃▅▆█</td></tr><tr><td>Shortest Path</td><td>▁▁▁▁▁</td></tr><tr><td>Time (s)</td><td>▁█▆▆▄</td></tr><tr><td>Time Std (s)</td><td>▁</td></tr></table><br/></div><div class=\"wandb-col\"><h3>Run summary:</h3><br/><table class=\"wandb\"><tr><td>Avg CPU Usage (%)</td><td>14.34</td></tr><tr><td>Avg Degree</td><td>43.69101</td></tr><tr><td>Avg Emissions (kgCO2)</td><td>6e-05</td></tr><tr><td>Avg Memory (MB)</td><td>8.35625</td></tr><tr><td>Avg Time (s)</td><td>18.00844</td></tr><tr><td>CPU Usage (%)</td><td>16.75</td></tr><tr><td>CPU Usage Std (%)</td><td>4.23695</td></tr><tr><td>Density</td><td>0.01082</td></tr><tr><td>Edges</td><td>88234</td></tr><tr><td>Emissions (kgCO2)</td><td>6e-05</td></tr><tr><td>Emissions Std (kgCO2)</td><td>0.0</td></tr><tr><td>Longest Path</td><td>8</td></tr><tr><td>Memory (MB)</td><td>14.15625</td></tr><tr><td>Memory Std (MB)</td><td>21.7487</td></tr><tr><td>Nodes</td><td>4039</td></tr><tr><td>Run</td><td>5</td></tr><tr><td>Shortest Path</td><td>4</td></tr><tr><td>Time (s)</td><td>17.98207</td></tr><tr><td>Time Std (s)</td><td>0.08449</td></tr></table><br/></div></div>"
      ],
      "text/plain": [
       "<IPython.core.display.HTML object>"
      ]
     },
     "metadata": {},
     "output_type": "display_data"
    },
    {
     "data": {
      "text/html": [
       " View run <strong style=\"color:#cdcd00\">SciPy Sparse_run</strong> at: <a href='https://wandb.ai/jl-liam-gao/network_analysis/runs/x4uj89qj' target=\"_blank\">https://wandb.ai/jl-liam-gao/network_analysis/runs/x4uj89qj</a><br> View project at: <a href='https://wandb.ai/jl-liam-gao/network_analysis' target=\"_blank\">https://wandb.ai/jl-liam-gao/network_analysis</a><br>Synced 5 W&B file(s), 1 media file(s), 2 artifact file(s) and 0 other file(s)"
      ],
      "text/plain": [
       "<IPython.core.display.HTML object>"
      ]
     },
     "metadata": {},
     "output_type": "display_data"
    },
    {
     "data": {
      "text/html": [
       "Find logs at: <code>./wandb/run-20250704_194507-x4uj89qj/logs</code>"
      ],
      "text/plain": [
       "<IPython.core.display.HTML object>"
      ]
     },
     "metadata": {},
     "output_type": "display_data"
    },
    {
     "data": {
      "text/html": [
       "Tracking run with wandb version 0.21.0"
      ],
      "text/plain": [
       "<IPython.core.display.HTML object>"
      ]
     },
     "metadata": {},
     "output_type": "display_data"
    },
    {
     "data": {
      "text/html": [
       "Run data is saved locally in <code>/Users/jgao/github/ECRI-RCDS-Hackathon/wandb/run-20250704_194701-onwcnvpo</code>"
      ],
      "text/plain": [
       "<IPython.core.display.HTML object>"
      ]
     },
     "metadata": {},
     "output_type": "display_data"
    },
    {
     "data": {
      "text/html": [
       "Syncing run <strong><a href='https://wandb.ai/jl-liam-gao/network_analysis/runs/onwcnvpo' target=\"_blank\">main_comparison</a></strong> to <a href='https://wandb.ai/jl-liam-gao/network_analysis' target=\"_blank\">Weights & Biases</a> (<a href='https://wandb.me/developer-guide' target=\"_blank\">docs</a>)<br>"
      ],
      "text/plain": [
       "<IPython.core.display.HTML object>"
      ]
     },
     "metadata": {},
     "output_type": "display_data"
    },
    {
     "data": {
      "text/html": [
       " View project at <a href='https://wandb.ai/jl-liam-gao/network_analysis' target=\"_blank\">https://wandb.ai/jl-liam-gao/network_analysis</a>"
      ],
      "text/plain": [
       "<IPython.core.display.HTML object>"
      ]
     },
     "metadata": {},
     "output_type": "display_data"
    },
    {
     "data": {
      "text/html": [
       " View run at <a href='https://wandb.ai/jl-liam-gao/network_analysis/runs/onwcnvpo' target=\"_blank\">https://wandb.ai/jl-liam-gao/network_analysis/runs/onwcnvpo</a>"
      ],
      "text/plain": [
       "<IPython.core.display.HTML object>"
      ]
     },
     "metadata": {},
     "output_type": "display_data"
    },
    {
     "name": "stdout",
     "output_type": "stream",
     "text": [
      "\n",
      "Table: Performance Comparison (Averaged over runs)\n",
      "                   Method  Nodes  Edges  Avg Degree  Density  Longest Path  \\\n",
      "0  Naive (Adjacency List)   4039  88234   43.691013  0.01082             3   \n",
      "1         NetworkX (Full)   4039  88234   43.691013  0.01082             8   \n",
      "2     SciPy Sparse (Full)   4039  88234   43.691013  0.01082             8   \n",
      "\n",
      "                                 Longest Path Nodes  Shortest Path  \\\n",
      "0                                   [1, 0, 34, 348]              1   \n",
      "1  [687, 686, 698, 3437, 567, 414, 594, 3980, 4038]              4   \n",
      "2  [687, 686, 698, 3437, 567, 414, 594, 3980, 4038]              4   \n",
      "\n",
      "          Shortest Path Nodes   Time (s)  Time Std (s)  Memory (MB)  \\\n",
      "0                      [0, 1]  44.745766      0.514595   -76.275000   \n",
      "1  [567, 3437, 698, 686, 855]  17.833274      0.381503     0.109375   \n",
      "2  [567, 3437, 698, 686, 855]  18.008440      0.084485     8.356250   \n",
      "\n",
      "   Memory Std (MB)  Emissions (kgCO2)  Emissions Std (kgCO2)  CPU Usage (%)  \\\n",
      "0        59.217246           0.000139               0.000001          17.87   \n",
      "1         5.038269           0.000059               0.000001          13.72   \n",
      "2        21.748702           0.000060               0.000000          14.34   \n",
      "\n",
      "   CPU Usage Std (%)  \n",
      "0           9.684046  \n",
      "1           2.889550  \n",
      "2           4.236951  \n",
      "\n",
      "Results saved to 01-02-graph_analysis_comparison.csv\n",
      "Top 20 nodes saved to 01-02-top_20_nodes.csv\n"
     ]
    },
    {
     "data": {
      "text/html": [],
      "text/plain": [
       "<IPython.core.display.HTML object>"
      ]
     },
     "metadata": {},
     "output_type": "display_data"
    },
    {
     "data": {
      "text/html": [
       " View run <strong style=\"color:#cdcd00\">main_comparison</strong> at: <a href='https://wandb.ai/jl-liam-gao/network_analysis/runs/onwcnvpo' target=\"_blank\">https://wandb.ai/jl-liam-gao/network_analysis/runs/onwcnvpo</a><br> View project at: <a href='https://wandb.ai/jl-liam-gao/network_analysis' target=\"_blank\">https://wandb.ai/jl-liam-gao/network_analysis</a><br>Synced 5 W&B file(s), 2 media file(s), 4 artifact file(s) and 0 other file(s)"
      ],
      "text/plain": [
       "<IPython.core.display.HTML object>"
      ]
     },
     "metadata": {},
     "output_type": "display_data"
    },
    {
     "data": {
      "text/html": [
       "Find logs at: <code>./wandb/run-20250704_194701-onwcnvpo/logs</code>"
      ],
      "text/plain": [
       "<IPython.core.display.HTML object>"
      ]
     },
     "metadata": {},
     "output_type": "display_data"
    }
   ],
   "source": [
    "\n",
    "# Main execution\n",
    "def main():\n",
    "    # Initialize wandb project\n",
    "    # wandb.login()  # Ensure you are logged in or set WANDB_API_KEY environment variable, complete this step before running in terminal\n",
    "    \n",
    "    \n",
    "    file_path = \"data/facebook_combined.txt\"\n",
    "    \n",
    "    if not os.path.exists(file_path):\n",
    "        print(f\"Error: {file_path} not found. Please download from http://snap.stanford.edu/data/egnets-Facebook.html\")\n",
    "        wandb.finish()\n",
    "        return\n",
    "    \n",
    "    num_runs = 5\n",
    "    results, top_nodes_dfs = run_all_analyses(file_path, num_runs)\n",
    "    \n",
    "    wandb.init(project=\"network_analysis\", name=\"main_comparison\")\n",
    "    \n",
    "    # Combine results\n",
    "    print(\"\\nTable: Performance Comparison (Averaged over runs)\")\n",
    "    df = pd.DataFrame(results)\n",
    "    print(df.round(6))\n",
    "    df.to_csv(\"01-02-graph_analysis_comparison.csv\", index=False)\n",
    "    print(\"\\nResults saved to 01-02-graph_analysis_comparison.csv\")\n",
    "    \n",
    "    # Log comparison table to wandb\n",
    "    wandb.log({\"Performance Comparison\": wandb.Table(dataframe=df)})\n",
    "    \n",
    "    # Save top nodes to CSV and log to wandb\n",
    "    top_nodes_combined = pd.concat(top_nodes_dfs, ignore_index=True)\n",
    "    top_nodes_combined.to_csv(\"01-02-top_20_nodes.csv\", index=False)\n",
    "    print(\"Top 20 nodes saved to 01-02-top_20_nodes.csv\")\n",
    "    wandb.log({\"Top 20 Nodes Combined\": wandb.Table(dataframe=top_nodes_combined)})\n",
    "    \n",
    "    wandb.finish()\n",
    "\n",
    "if __name__ == \"__main__\":\n",
    "    main()\n"
   ]
  }
 ],
 "metadata": {
  "kernelspec": {
   "display_name": "Python 3",
   "language": "python",
   "name": "python3"
  },
  "language_info": {
   "codemirror_mode": {
    "name": "ipython",
    "version": 3
   },
   "file_extension": ".py",
   "mimetype": "text/x-python",
   "name": "python",
   "nbconvert_exporter": "python",
   "pygments_lexer": "ipython3",
   "version": "3.13.5"
  }
 },
 "nbformat": 4,
 "nbformat_minor": 5
}
