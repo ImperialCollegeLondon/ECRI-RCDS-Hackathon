{
 "cells": [
  {
   "cell_type": "markdown",
   "id": "5ebe7b40",
   "metadata": {},
   "source": []
  },
  {
   "cell_type": "markdown",
   "id": "1f9251b0",
   "metadata": {},
   "source": [
    "# Feature Selection"
   ]
  },
  {
   "cell_type": "markdown",
   "id": "01c116f8",
   "metadata": {},
   "source": [
    "## Why feature selection?"
   ]
  },
  {
   "cell_type": "markdown",
   "id": "5275fe48",
   "metadata": {},
   "source": [
    "Feature selection, or *variable selection*, is an often used technique in machine learning. It is a process of selecting subset of highly relevant data to benefit modelling in many ways. Such as,\n",
    "\n",
    "- Reduce the complexity, that is, improve the efficiency of training [1].\n",
    "\n",
    "- Improve the prediction accuracy [1,2].\n",
    "\n",
    "\n"
   ]
  },
  {
   "cell_type": "markdown",
   "id": "b5907fe4",
   "metadata": {},
   "source": [
    "## Find the top *k* features most correlated to Saleprice (Naïve method with Parallel)\n"
   ]
  },
  {
   "cell_type": "markdown",
   "id": "4bd7307e",
   "metadata": {},
   "source": [
    "### Data Description\n",
    "\n",
    "(House price data train.csv from https://www.kaggle.com/competitions/house-prices-advanced-regression-techniques/data)\n",
    "\n",
    "The data have 1460 rows and 81 columns. The following code will print out the data description in detail."
   ]
  },
  {
   "cell_type": "markdown",
   "id": "ddeb6765",
   "metadata": {},
   "source": [
    "### Load required libraries"
   ]
  },
  {
   "cell_type": "code",
   "execution_count": 1,
   "id": "d65883b9",
   "metadata": {},
   "outputs": [],
   "source": [
    "import pandas as pd\n",
    "import numpy as np\n",
    "\n",
    "import time\n",
    "import psutil\n",
    "import os,gc\n",
    "import scipy.stats\n",
    "from sklearn.model_selection import train_test_split\n",
    "from sklearn.linear_model import LinearRegression\n",
    "from sklearn.metrics import mean_squared_error\n",
    "from joblib import Parallel, delayed\n"
   ]
  },
  {
   "cell_type": "markdown",
   "id": "469354da",
   "metadata": {},
   "source": [
    "### Define functions for data preprocessing"
   ]
  },
  {
   "cell_type": "code",
   "execution_count": 8,
   "id": "3397b932",
   "metadata": {},
   "outputs": [],
   "source": [
    "\n",
    "def get_memory_usage():\n",
    "    process = psutil.Process(os.getpid())\n",
    "    return process.memory_info().rss / 1024 / 1024  # Memory in MB\n",
    "\n",
    "def compute_correlation(i, X_numeric, y):\n",
    "    \"\"\"Helper function to compute Pearson correlation for a single feature.\"\"\"\n",
    "    valid = (~np.isnan(X_numeric[:, i]) & ~np.isnan(y))\n",
    "    if valid.sum() > 1:\n",
    "        return np.abs(scipy.stats.pearsonr(X_numeric[:, i][valid], y[valid]).statistic)\n",
    "    return 0\n",
    "\n",
    "def parallel_feature_selection(X, y, k=20, n_jobs=2):\n",
    "    \"\"\"\n",
    "    Parallelized feature selection using Pearson correlation.\n",
    "    \n",
    "    Parameters:\n",
    "    - X: DataFrame with features\n",
    "    - y: Target variable (Series or array)\n",
    "    - k: Number of top features to select\n",
    "    - n_jobs: Number of parallel jobs (-1 uses all available cores)\n",
    "    \n",
    "    Returns:\n",
    "    - List of selected feature names\n",
    "    \"\"\"\n",
    "\n",
    "    # Select only numerical columns and fill missing values with median values of the columns\n",
    "    X_numeric = X.select_dtypes(include=[np.number]).fillna(X.select_dtypes(include=[np.number]).median())\n",
    "    # Convert to numpy array for faster processing\n",
    "    X_numeric_array = X_numeric.to_numpy()\n",
    "    y_array = y.to_numpy() if isinstance(y, pd.Series) else y\n",
    "\n",
    "    # Compute correlations for numerical features only\n",
    "    n_features = X_numeric.shape[1]\n",
    "    correlations = Parallel(n_jobs=n_jobs, backend='threading')(\n",
    "        delayed(compute_correlation)(i, X_numeric_array, y_array) for i in range(n_features)\n",
    "    )\n",
    "\n",
    "    # Convert correlations to numpy array and get top k indices\n",
    "    correlations = np.array(correlations)\n",
    "\n",
    "    top_k_indices = np.argsort(correlations)[-k:]\n",
    "    selected_features = X_numeric.columns[top_k_indices].tolist()\n",
    "    #mem_use_after = get_memory_usage()\n",
    "    #print(f\"Memory after naive selection: {mem_use_after:.2f} MB\")\n",
    "    #print(f\"memory use increased {(mem_use_after - mem_use_before):.2f} MB\" )\n",
    "    return selected_features\n",
    "\n",
    "def load_and_evaluate(file_path, k=20, n_runs = 100, n_jobs=2):\n",
    "    # Initialize lists to store metrics\n",
    "    memory_before_list = []\n",
    "    memory_after_list = []\n",
    "    memory_increase_list = []\n",
    "    runtime_list = []\n",
    "    mse_list = []\n",
    "\n",
    "    #load data\n",
    "    data = pd.read_csv(file_path)\n",
    "    # split Sale price and other columns\n",
    "    X = data.drop(columns=['SalePrice', 'Id'])\n",
    "    y = data['SalePrice']\n",
    "    # Handle missing values for numerical columns \n",
    "    X_numeric = X.select_dtypes(include=[np.number]).fillna(X.select_dtypes(include=[np.number]).median())\n",
    "    X_categorical = X.select_dtypes(exclude=[np.number])\n",
    "    # Combine numerical and categorical columns\n",
    "    X = pd.concat([X_numeric, X_categorical], axis=1)\n",
    "    \n",
    "    # Verify no NaNs remain \n",
    "    if X.isna().any().any():\n",
    "        X = X.fillna(0)  # Fill any remaining NaNs with 0 (e.g., for edge cases)\n",
    "    \n",
    "    #X_train, X_test, y_train, y_test = train_test_split(X, y, test_size=0.2, random_state=42)\n",
    "    \n",
    "    # Monte Carlo method for testing mem use and runtime\n",
    "    print(f\"Running naive method {n_runs} times...\")\n",
    "    for run in range(n_runs):\n",
    "        # clear memory before each run\n",
    "        gc.collect() \n",
    "        mem_use_before = get_memory_usage()\n",
    "        #print(f\"Memory before naive selection: {mem_use_before:.2f} MB\")\n",
    "\n",
    "        start_time = time.time()\n",
    "        X_train, X_test, y_train, y_test = train_test_split(X, y, test_size=0.2, random_state=42+run)\n",
    "        selected_features = parallel_feature_selection(X_train, y_train, k, n_jobs)\n",
    "        X_train_selected = X_train[selected_features]\n",
    "        X_test_selected = X_test[selected_features]\n",
    "        model = LinearRegression()\n",
    "        model.fit(X_train_selected, y_train)\n",
    "        y_pred = model.predict(X_test_selected)\n",
    "        mse = mean_squared_error(y_test, y_pred)\n",
    "\n",
    "        mem_use_after = get_memory_usage()\n",
    "        end_time = time.time()\n",
    "        # Store metrics\n",
    "        memory_before_list.append(mem_use_before)\n",
    "        memory_after_list.append(mem_use_after)\n",
    "        memory_increase_list.append(mem_use_after - mem_use_before)\n",
    "        runtime_list.append(end_time - start_time)\n",
    "        mse_list.append(mse)\n",
    "\n",
    "    #print(f\"Memory after naive selection: {mem_use_after:.2f} MB\")\n",
    "\n",
    "    #print(f\"Naive feature selection took {time.time() - start_time} seconds\")\n",
    "    \n",
    "    # Ensure selected features are NaN-free\n",
    "    #X_train_selected = X_train[selected_features]\n",
    "    #X_test_selected = X_test[selected_features]\n",
    "    \n",
    "    #model = LinearRegression()\n",
    "    #model.fit(X_train_selected, y_train)\n",
    "    #y_pred = model.predict(X_test_selected)\n",
    "    #mse = mean_squared_error(y_test, y_pred)\n",
    "    #print(f\"Mean Squared Error with {k} features: {mse}\")\n",
    "\n",
    "    # Compute statistics\n",
    "    stats = {\n",
    "        'memory_before_mean (MB)': np.mean(memory_before_list),\n",
    "        'memory_before_std': np.std(memory_before_list),\n",
    "        'memory_after_mean (MB)': np.mean(memory_after_list),\n",
    "        'memory_after_std': np.std(memory_after_list),\n",
    "        'memory_increase_mean (MB)': np.mean(memory_increase_list),\n",
    "        'memory_increase_std': np.std(memory_increase_list),\n",
    "        'runtime_mean (Seconds)': np.mean(runtime_list),\n",
    "        'runtime_std': np.std(runtime_list),\n",
    "        'MSE_mean': np.mean(mse_list),\n",
    "        'MSE_std': np.std(mse_list)\n",
    "\n",
    "    }\n",
    "    \n",
    "    return selected_features, mse, stats\n",
    "\n",
    "def generate_report(stats, method=\"Naive\"):\n",
    "    report = f\"# {method} Method Statistical Report\\n\\n\"\n",
    "    report += \"## Summary Statistics\\n\\n\"\n",
    "    report += \"| Metric | Mean | Standard Deviation |\\n\"\n",
    "    report += \"|--------|------|--------------------|\\n\"\n",
    "    report += f\"| Memory Before (MB) | {stats['memory_before_mean (MB)']:.2f} | {stats['memory_before_std']:.2f} |\\n\"\n",
    "    report += f\"| Memory After (MB) | {stats['memory_after_mean (MB)']:.2f} | {stats['memory_after_std']:.2f} |\\n\"\n",
    "    report += f\"| Memory Increase (MB) | {stats['memory_increase_mean (MB)']:.2f} | {stats['memory_increase_std']:.2f} |\\n\"\n",
    "    report += f\"| Runtime (seconds) | {stats['runtime_mean (Seconds)']:.6f} | {stats['runtime_std']:.6f} |\\n\"\n",
    "    report += f\"| MSE | {stats['MSE_mean']:.2f} | {stats['MSE_std']:.2f} |\\n\"\n",
    "\n",
    "    return report"
   ]
  },
  {
   "cell_type": "markdown",
   "id": "0a36ec3d",
   "metadata": {},
   "source": [
    "### Main process of evaluation with Monte Carlo"
   ]
  },
  {
   "cell_type": "code",
   "execution_count": 10,
   "id": "87cee4f7",
   "metadata": {},
   "outputs": [
    {
     "name": "stdout",
     "output_type": "stream",
     "text": [
      "Running naive method 500 times...\n",
      "Naive method report generated: naive_stats_report.md\n",
      "\n",
      "Summary Statistics:\n",
      "memory_before_mean (MB): 188.491328\n",
      "memory_before_std: 6.470636\n",
      "memory_after_mean (MB): 188.565937\n",
      "memory_after_std: 6.373005\n",
      "memory_increase_mean (MB): 0.074609\n",
      "memory_increase_std: 0.242563\n",
      "runtime_mean (Seconds): 0.062643\n",
      "runtime_std: 0.005848\n",
      "MSE_mean: 1495907264.707669\n",
      "MSE_std: 668916768.381671\n",
      "Selected features: ['LotArea', 'HalfBath', '2ndFlrSF', 'WoodDeckSF', 'LotFrontage', 'OpenPorchSF', 'BsmtFinSF1', 'Fireplaces', 'MasVnrArea', 'GarageYrBlt', 'YearRemodAdd', 'YearBuilt', 'TotRmsAbvGrd', 'FullBath', '1stFlrSF', 'TotalBsmtSF', 'GarageArea', 'GarageCars', 'GrLivArea', 'OverallQual']\n"
     ]
    }
   ],
   "source": [
    "\n",
    "if __name__ == \"__main__\":\n",
    "    gc.collect()\n",
    "    file_path = \"data/train.csv\"\n",
    "    n_runs = 500\n",
    "    n_jobs=2\n",
    "    selected_features, mse, stats = load_and_evaluate(file_path,  k=20, n_runs=n_runs, n_jobs=n_jobs)\n",
    "    #print(f\"Selected features (last run): {selected_features}\")\n",
    "    report = generate_report(stats, method=\"Naive\")\n",
    "    with open(\"naive_stats_report.md\", \"w\") as f:\n",
    "        f.write(report)\n",
    "    print(\"Naive method report generated: naive_stats_report.md\")\n",
    "    print(\"\\nSummary Statistics:\")\n",
    "    for key, value in stats.items():\n",
    "        print(f\"{key}: {value:.6f}\")\n",
    "    #mem_use_after = get_memory_usage()\n",
    "    #print(f\"Memory after naive selection: {mem_use_after:.2f} MB\")\n",
    "    #print(f\"memory use increased {(mem_use_after - mem_use_before):.2f} MB\" )\n",
    "    print(f\"Selected features: {selected_features}\")"
   ]
  },
  {
   "cell_type": "markdown",
   "id": "675008e9",
   "metadata": {},
   "source": [
    "### Discussion\n",
    "\n",
    "Parallel method with Monte Carlo introduces overhead for \n",
    "\n",
    "- parallelization: process creation and communication\n",
    "\n",
    "- Monte Carlo method introduces cumulative parallelization overhead\n",
    "\n",
    "Therefore, for small tasks like this, parallel method does not necessarily faster than the loop-based single thread job."
   ]
  },
  {
   "cell_type": "markdown",
   "id": "5806df5c",
   "metadata": {},
   "source": [
    "## Reference\n",
    "\n",
    "1. Gareth James; Daniela Witten; Trevor Hastie; Robert Tibshirani (2013). \"An Introduction to Statistical Learning\". *Springer*. p. 204.\n",
    "2. Kratsios, Anastasis; Hyndman, Cody (2021). \"NEU: A Meta-Algorithm for Universal UAP-Invariant Feature Representation\". *Journal of Machine Learning Research*. 22 (92): 1–51"
   ]
  }
 ],
 "metadata": {
  "kernelspec": {
   "display_name": "Python 3",
   "language": "python",
   "name": "python3"
  },
  "language_info": {
   "codemirror_mode": {
    "name": "ipython",
    "version": 3
   },
   "file_extension": ".py",
   "mimetype": "text/x-python",
   "name": "python",
   "nbconvert_exporter": "python",
   "pygments_lexer": "ipython3",
   "version": "3.12.3"
  }
 },
 "nbformat": 4,
 "nbformat_minor": 5
}
