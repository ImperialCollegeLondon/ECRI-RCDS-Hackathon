{
 "cells": [
  {
   "cell_type": "markdown",
   "id": "1f9251b0",
   "metadata": {},
   "source": [
    "# Basic Profiling\n",
    "\n",
    "A simple way to estimate the environmental impact of our code is to make use of functions from python's `time`, `psutil` and `os` modules. \n",
    "\n",
    "We can easily measure the total runtime. \n",
    "\n",
    "Although memory allocation in python is handled by the garbage collector, we can still get a very rough idea of the memory used for the operation by recording the total memory before and after.\n"
   ]
  },
  {
   "cell_type": "code",
   "execution_count": null,
   "id": "3f8fbff0",
   "metadata": {},
   "outputs": [],
   "source": [
    "import psutil, gc, os, time\n",
    "\n",
    "# Function to get memory usage\n",
    "def get_memory_usage():\n",
    "    process = psutil.Process(os.getpid())\n",
    "    mem_info = process.memory_info()\n",
    "    return mem_info.rss / 1024 / 1024  # Memory in MB\n",
    "\n",
    "def fib(n):\n",
    "    if(n == 0):\n",
    "        return 0\n",
    "    if(n == 1):\n",
    "        return 1\n",
    "    return fib(n - 1) + fib(n - 2)\n",
    "\n",
    "def fibs(n):\n",
    "    return [fib(i) for i in range(n)]\n",
    "\n",
    "mem_before = get_memory_usage()\n",
    "time_before = time.time()\n",
    "\n",
    "print(fibs(35))\n",
    "\n",
    "time_after = time.time()\n",
    "mem_after = get_memory_usage()\n",
    "\n",
    "print(f\"execution time: {(time_after - time_before):,.4f}s\")\n",
    "print(f\"memory diff: {(mem_after - mem_before):,.4f}M\")\n"
   ]
  },
  {
   "cell_type": "markdown",
   "id": "c087e2c3",
   "metadata": {},
   "source": [
    "## Task 1: Memoization\n",
    "\n",
    "[Memoization](https://en.wikipedia.org/wiki/Memoization) is a simple technique to avoid repeated calculations.\n",
    "\n",
    "A memoised version of the `fib()` function would massively reduce the required runtime.\n",
    "\n",
    "Write one below (call it `fib_memo()`) and see how it changes the runtime and memory usage."
   ]
  },
  {
   "cell_type": "code",
   "execution_count": null,
   "id": "16e0629f",
   "metadata": {},
   "outputs": [],
   "source": [
    "_fib = {0: 0, 1: 1}\n",
    "\n",
    "def fib_memo(n):\n",
    "    if n in _fib:\n",
    "        return _fib[n]\n",
    "    else:\n",
    "        result = fib_memo(n - 1) + fib_memo(n - 2)\n",
    "        _fib[n] = result\n",
    "        return result\n",
    "    \n",
    "def fibs_memo(n):\n",
    "    return [fib_memo(i) for i in range(n)]\n"
   ]
  },
  {
   "cell_type": "code",
   "execution_count": null,
   "id": "cbcbe5b1",
   "metadata": {},
   "outputs": [],
   "source": [
    "gc.collect() \n",
    "\n",
    "mem_before = get_memory_usage()\n",
    "time_before = time.time()\n",
    "\n",
    "print(fibs_memo(35))\n",
    "\n",
    "mem_after = get_memory_usage()\n",
    "time_after = time.time()\n",
    "\n",
    "print(f\"execution time: {(time_after - time_before):,.4f}s\")\n",
    "print(f\"memory diff: {(mem_after - mem_before):,.4f}M\")"
   ]
  },
  {
   "cell_type": "markdown",
   "id": "b9563770",
   "metadata": {},
   "source": [
    "## Task 2: Pathfinding\n",
    "\n",
    "Here we will use a graph theory problem as an example of a task that can be accomplished in different ways.\n",
    "\n",
    "A *[graph](https://en.wikipedia.org/wiki/Graph_(discrete_mathematics)#Undirected_graph)* is a set of *vertices* plus a set of *edges* (vertex pairs) that connect some of the vertices.\n",
    "We will consider only undirected graphs.\n",
    "\n",
    "The file `data/facebook.txt` contains a graph of friends taken from Facebook (4,039 nodes and 88,234 edges). Each person is a vertex, labelled with a number. (You can find more information about this dataset at https://snap.stanford.edu/data/ego-Facebook.html)\n",
    "\n",
    "The graph is provided in the [adjacency list](https://networkx.org/documentation/stable/reference/readwrite/adjlist.html) format.\n",
    "\n",
    "Find the shortest path from person 0 to person 4038.\n",
    "\n",
    "You will probably find the package [NetworkX](https://networkx.org/documentation/stable/index.html) useful.\n",
    "\n"
   ]
  },
  {
   "cell_type": "code",
   "execution_count": null,
   "id": "1a38e86f",
   "metadata": {},
   "outputs": [],
   "source": [
    "import networkx as nx\n",
    "\n",
    "file_path = \"data/facebook.txt\"\n",
    "G = nx.read_adjlist(file_path, nodetype=int)"
   ]
  },
  {
   "cell_type": "markdown",
   "id": "a1c10836",
   "metadata": {},
   "source": [
    "### (1) Using a brute force method"
   ]
  },
  {
   "cell_type": "code",
   "execution_count": null,
   "id": "622072c3",
   "metadata": {},
   "outputs": [],
   "source": [
    "# function to find all the possible extensions of a path\n",
    "def extend(G, path):\n",
    "    ex = []\n",
    "    for v in G.neighbors(path[-1]):\n",
    "        if v not in path:\n",
    "            ex.append( path + [v] )\n",
    "    return ex\n",
    "\n",
    "# brute force pathfinding\n",
    "def path_brute(G, start, end):\n",
    "\n",
    "    # initialise paths\n",
    "    P = [ [start] ]   # stores all candidate paths originating at `start`\n",
    "\n",
    "    # loop\n",
    "    finished = False\n",
    "    while(not finished):\n",
    "        finished = True\n",
    "        P_next = []\n",
    "        for p in P:\n",
    "            ex = extend(G, p)\n",
    "            for p2 in ex:\n",
    "                \n",
    "                if p2[-1] == end:\n",
    "                    return p2                  # we have a solution!\n",
    "                else:\n",
    "                    finished = False           # this path needs to be processed further\n",
    "                    P_next.append(p2)\n",
    "        P = P_next\n",
    "\n",
    "\n",
    "path_brute(G, 0, 4038)"
   ]
  },
  {
   "cell_type": "markdown",
   "id": "e7682b52",
   "metadata": {},
   "source": [
    "### (2) Using a more efficient algorithm"
   ]
  },
  {
   "cell_type": "code",
   "execution_count": null,
   "id": "6a7b1e72",
   "metadata": {},
   "outputs": [],
   "source": [
    "# Using the Dijkstra algorithm implemented in NetworkX\n",
    "nx.shortest_path(G, 0, 4038)  "
   ]
  },
  {
   "cell_type": "markdown",
   "id": "638273b1",
   "metadata": {},
   "source": [
    "### Compare the runtime and memory usage of your two versions."
   ]
  },
  {
   "cell_type": "code",
   "execution_count": null,
   "id": "0100f83b",
   "metadata": {},
   "outputs": [],
   "source": [
    "def task_brute():\n",
    "    return path_brute(G, 0, 4038)\n",
    "\n",
    "def task_alg():\n",
    "    return nx.shortest_path(G, 0, 4038)\n",
    "\n",
    "def report(desc, task):\n",
    "\n",
    "    print(desc)\n",
    "\n",
    "    mem_before = get_memory_usage()\n",
    "    time_before = time.time()\n",
    "\n",
    "    print(task())\n",
    "\n",
    "    time_after = time.time()\n",
    "    mem_after = get_memory_usage()\n",
    "\n",
    "    print(f\"execution time: {(time_after - time_before):,.4f}s\")\n",
    "    print(f\"memory diff: {(mem_after - mem_before):,.4f}M\")\n",
    "    print()\n"
   ]
  },
  {
   "cell_type": "code",
   "execution_count": null,
   "id": "b1d2dad1",
   "metadata": {},
   "outputs": [],
   "source": [
    "report(\"brute force\", task_brute)"
   ]
  },
  {
   "cell_type": "code",
   "execution_count": null,
   "id": "cebd50b9",
   "metadata": {},
   "outputs": [],
   "source": [
    "report(\"dijkstra algorithm\", task_alg)"
   ]
  },
  {
   "cell_type": "markdown",
   "id": "3b1c92f4",
   "metadata": {},
   "source": [
    "## Task 3: More robust estimates\n",
    "\n",
    "You will have noticed that there can be big variations in both the runtime and the memory usage.\n",
    "\n",
    "Write a wrapper function `report_stats()` that accepts a function (the operation to be profiled) and an integer (the number of times to repeat the profiling). \n",
    "\n",
    "Your function should report appropriate averages and dispersion measures for the runtime and the memory usage."
   ]
  },
  {
   "cell_type": "code",
   "execution_count": null,
   "id": "0475868b",
   "metadata": {},
   "outputs": [],
   "source": [
    "import numpy as np\n",
    "\n",
    "def report_stats(desc, task, n_iter):\n",
    "\n",
    "    print(desc)\n",
    "\n",
    "    results = []\n",
    "    runtimes = []\n",
    "    mem_usages = []\n",
    "\n",
    "    for i in range(n_iter):\n",
    "\n",
    "        mem_before = get_memory_usage()\n",
    "        time_before = time.time()\n",
    "\n",
    "        results.append(task())\n",
    "\n",
    "        time_after = time.time()\n",
    "        mem_after = get_memory_usage()\n",
    "\n",
    "        runtimes.append(time_after - time_before)\n",
    "        mem_usages.append(mem_after - mem_before)\n",
    "\n",
    "    # Both the runtime and the memory usage distributions can contain extreme outliers.\n",
    "    # Hence the median and IQR are probably the most informative summaries.\n",
    "    print(f\"median execution time: {np.median(runtimes):,.4f}s\")\n",
    "    print(f\"IQR execution time: {np.quantile(runtimes, 0.75) - np.quantile(runtimes, 0.25):,.4f}s\")\n",
    "    print(f\"median memory usage: {np.median(mem_usages):,.4f}M\") \n",
    "    print(f\"IQR memory usages: {np.quantile(mem_usages, 0.75) - np.quantile(mem_usages, 0.25):,.4f}M\")\n",
    "    print()\n",
    "\n",
    "    return results\n"
   ]
  },
  {
   "cell_type": "code",
   "execution_count": null,
   "id": "84e5536a",
   "metadata": {},
   "outputs": [],
   "source": [
    "report_stats(\"brute force\", task_brute, 10)"
   ]
  },
  {
   "cell_type": "code",
   "execution_count": null,
   "id": "63f69517",
   "metadata": {},
   "outputs": [],
   "source": [
    "report_stats(\"dijkstra algorithm\", task_alg, 10)"
   ]
  },
  {
   "cell_type": "markdown",
   "id": "b05ddc4d",
   "metadata": {},
   "source": [
    "## Task 4: More detailed profiling\n",
    "\n",
    "\n",
    "Profiling by function gives us a high-level idea of how often functions are called and how long those calls last. \n",
    "\n",
    "One way to do this is to import the `cProfile` module and run a function using the `cProfile.run()` function, providing a string argument which is the command used to invoke the function. \n",
    "\n",
    "`cProfile` is part of the Python standard library and so is available without installing any additional packages. For example:"
   ]
  },
  {
   "cell_type": "code",
   "execution_count": null,
   "id": "b0b0f08d",
   "metadata": {},
   "outputs": [],
   "source": [
    "import cProfile\n",
    "\n",
    "# Call the cProfile.run() method with a string argument that is the call to the function you want to profile\n",
    "cProfile.run('fibs(35)', sort='tottime')"
   ]
  },
  {
   "cell_type": "markdown",
   "id": "71547a49",
   "metadata": {},
   "source": [
    "The output shows the total time spent running the code and the total number of function calls. Then, for each function, it shows:\n",
    "* ```ncalls```: the number of times the function was called.\n",
    "* ```tottime```: the total time spent in the function, excluding time spent in functions called by the function.\n",
    "* ```percall```: the time spent in the function per call, excluding time spent in functions called by the function.\n",
    "* ```cumtime```: the total time spent in the function, including time spent in functions called by the function.\n",
    "* ```percall```: the time spent in the function per call, including time spent in functions called by the function.\n",
    "* ```filename:lineno(function)```: the filename, line number and function name.\n",
    "\n",
    "In the output you will see a number of functions which you have neither written nor explicitly called. \n",
    "\n",
    "These are often called as part of how Python internally executes your code. \n",
    "\n",
    "They are normally not very consequential in terms of run-time and can often be ignored."
   ]
  },
  {
   "cell_type": "markdown",
   "id": "58ccdde0",
   "metadata": {},
   "source": [
    "Try using `cProfile.run()` to evaluate your pathfinding code."
   ]
  },
  {
   "cell_type": "code",
   "execution_count": null,
   "id": "ccd95d2c",
   "metadata": {},
   "outputs": [],
   "source": [
    "cProfile.run('task_brute()', sort='tottime')"
   ]
  },
  {
   "cell_type": "code",
   "execution_count": null,
   "id": "626249ad",
   "metadata": {},
   "outputs": [],
   "source": [
    "cProfile.run('task_alg()', sort='tottime')"
   ]
  },
  {
   "cell_type": "markdown",
   "id": "0f648095",
   "metadata": {},
   "source": [
    "---"
   ]
  }
 ],
 "metadata": {
  "kernelspec": {
   "display_name": "hack25_2",
   "language": "python",
   "name": "python3"
  },
  "language_info": {
   "codemirror_mode": {
    "name": "ipython",
    "version": 3
   },
   "file_extension": ".py",
   "mimetype": "text/x-python",
   "name": "python",
   "nbconvert_exporter": "python",
   "pygments_lexer": "ipython3",
   "version": "3.13.5"
  }
 },
 "nbformat": 4,
 "nbformat_minor": 5
}
