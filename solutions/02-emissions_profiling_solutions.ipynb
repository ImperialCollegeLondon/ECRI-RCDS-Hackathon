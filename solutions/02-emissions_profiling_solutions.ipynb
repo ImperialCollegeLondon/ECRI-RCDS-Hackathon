{
 "cells": [
  {
   "cell_type": "markdown",
   "id": "1f9251b0",
   "metadata": {},
   "source": [
    "# Estimating Carbon Emissions\n",
    "\n",
    "In this notebooK, we will use [CodeCarbon](https://codecarbon.io) to track CO~2~ emissions during the execution of the code.\n",
    "\n",
    "*\"CodeCarbon is a lightweight software package that seamlessly integrates into your Python codebase. It estimates the amount of carbon dioxide (CO~2~) produced by the cloud or personal computing resources used to execute the code.\"*"
   ]
  },
  {
   "cell_type": "markdown",
   "id": "77a8aa39",
   "metadata": {},
   "source": [
    "A brief description of how CodeCarbon estimates CO~2~ emissions is given in [this article](https://medium.com/bcggamma/ai-computing-emits-co₂-we-started-measuring-how-much-807dec8c35e3), with a fuller explanation available in [the documentation](https://mlco2.github.io/codecarbon/methodology.html)."
   ]
  },
  {
   "cell_type": "markdown",
   "id": "a8f44fd2",
   "metadata": {},
   "source": [
    "### Example:"
   ]
  },
  {
   "cell_type": "code",
   "execution_count": null,
   "id": "761b3b33",
   "metadata": {},
   "outputs": [],
   "source": [
    "def fib(n):\n",
    "    if(n == 0):\n",
    "        return 0\n",
    "    if(n == 1):\n",
    "        return 1\n",
    "    return fib(n - 1) + fib(n - 2)\n",
    "\n",
    "def fibs(n):\n",
    "    return [fib(i) for i in range(n)]\n"
   ]
  },
  {
   "cell_type": "code",
   "execution_count": null,
   "id": "dafe45da",
   "metadata": {},
   "outputs": [],
   "source": [
    "from codecarbon import EmissionsTracker\n",
    "\n",
    "# Initialize the EmissionsTracker\n",
    "tracker = EmissionsTracker()\n",
    "\n",
    "# Start tracking emissions\n",
    "tracker.start()\n",
    "try:\n",
    "    # Do the task\n",
    "    print(fibs(35))\n",
    "except Exception as e:\n",
    "    # Handle exceptions\n",
    "    print(f\"An error occurred: {e}\")\n",
    "finally:\n",
    "    # Stop tracking and get emissions (in kgCO2)\n",
    "    emissions: float = tracker.stop()\n",
    "\n",
    "# Print results\n",
    "print(f\"Emissions: {emissions:,.6f} kgCO2\")\n",
    "\n"
   ]
  },
  {
   "cell_type": "markdown",
   "id": "2d630a3f",
   "metadata": {},
   "source": [
    "Note that the CodeCarbon tracker reports a lot of information about the system on which the code is running, as well as an estimate of the carbon mix at the machine's geographical location.\n",
    "\n",
    "The tracker's output is written to a CSV file `emissions.csv` in the current directory. You can find the list of fields [here](https://mlco2.github.io/codecarbon/output.html)."
   ]
  },
  {
   "cell_type": "markdown",
   "id": "4cee24d3",
   "metadata": {},
   "source": [
    "### Decorator mode\n",
    "\n",
    "Another way to use the CodeCarbon tracker is to use the decorator `@track_emissions` on the function(s) of interest. This will also write output to `emissions.csv`."
   ]
  },
  {
   "cell_type": "code",
   "execution_count": null,
   "id": "0c0198ce",
   "metadata": {},
   "outputs": [],
   "source": [
    "from codecarbon import track_emissions\n",
    "from time import time\n",
    "\n",
    "@track_emissions\n",
    "def fibs2(n):\n",
    "    return [fib(i) for i in range(n)]"
   ]
  },
  {
   "cell_type": "code",
   "execution_count": null,
   "id": "a211e020",
   "metadata": {},
   "outputs": [],
   "source": [
    "fibs2(35)"
   ]
  },
  {
   "cell_type": "markdown",
   "id": "e4f789f1",
   "metadata": {},
   "source": [
    "## Task: C0~2~ estimates\n",
    "\n",
    "Try using the CodeCarbon tracker on your pathfinding code."
   ]
  },
  {
   "cell_type": "code",
   "execution_count": null,
   "id": "7479b68b",
   "metadata": {},
   "outputs": [],
   "source": [
    "# (from solutions to notebook 01)\n",
    "import networkx as nx\n",
    "\n",
    "# function to find all the possible extensions of a path\n",
    "def extend(G, path):\n",
    "    ex = []\n",
    "    for v in G.neighbors(path[-1]):\n",
    "        if v not in path:\n",
    "            ex.append( path + [v] )\n",
    "    return ex\n",
    "\n",
    "# brute force pathfinding\n",
    "def path_brute(G, start, end):\n",
    "\n",
    "    # initialise paths\n",
    "    P = [ [start] ]   # stores all candidate paths originating at `start`\n",
    "\n",
    "    # loop\n",
    "    finished = False\n",
    "    while(not finished):\n",
    "        finished = True\n",
    "        P_next = []\n",
    "        for p in P:\n",
    "            ex = extend(G, p)\n",
    "            for p2 in ex:\n",
    "                \n",
    "                if p2[-1] == end:\n",
    "                    return p2                  # we have a solution!\n",
    "                else:\n",
    "                    finished = False           # this path needs to be processed further\n",
    "                    P_next.append(p2)\n",
    "        P = P_next\n",
    "\n"
   ]
  },
  {
   "cell_type": "code",
   "execution_count": null,
   "id": "e5e07b10",
   "metadata": {},
   "outputs": [],
   "source": [
    "# Load the data\n",
    "file_path = \"data/facebook.txt\"\n",
    "G = nx.read_adjlist(file_path, nodetype=int)\n",
    "\n",
    "\n",
    "# task to be profiled\n",
    "def task_brute():\n",
    "    return path_brute(G, 0, 4038)\n"
   ]
  },
  {
   "cell_type": "code",
   "execution_count": 12,
   "id": "7d40416d",
   "metadata": {},
   "outputs": [
    {
     "name": "stderr",
     "output_type": "stream",
     "text": [
      "[codecarbon INFO @ 11:38:38] Codecarbon is taking the configuration from the local file /Users/jpinney/Documents/GitHub/ECRI-RCDS-Hackathon/.codecarbon.config\n",
      "[codecarbon WARNING @ 11:38:38] Multiple instances of codecarbon are allowed to run at the same time.\n",
      "[codecarbon WARNING @ 11:38:38] Error while trying to count physical CPUs: [Errno 2] No such file or directory: 'lscpu'. Defaulting to 1.\n",
      "[codecarbon INFO @ 11:38:38] [setup] RAM Tracking...\n",
      "[codecarbon INFO @ 11:38:38] [setup] CPU Tracking...\n",
      "[codecarbon WARNING @ 11:38:38] We saw that you have a Apple M3 but we don't know it. Please contact us.\n",
      "[codecarbon DEBUG @ 11:38:38] is_psutil_available() : psutil.cpu_times().nice is too small : 0.0 !\n",
      "[codecarbon DEBUG @ 11:38:38] Not using PowerGadget, an exception occurred while instantiating IntelPowerGadget : Intel Power Gadget executable not found on darwin\n",
      "[codecarbon DEBUG @ 11:38:38] Not using the RAPL interface, an exception occurred while instantiating IntelRAPL : Platform not supported by Intel RAPL Interface\n",
      "[codecarbon DEBUG @ 11:38:39] Not using PowerMetrics, sudo password prompt detected.\n",
      "                    If you want to enable Powermetrics please modify your sudoers file\n",
      "                    as described in :\n",
      "                    https://mlco2.github.io/codecarbon/methodology.html#power-usage\n",
      "                \n",
      "[codecarbon WARNING @ 11:38:39] No CPU tracking mode found. Falling back on estimation based on TDP for CPU. \n",
      " Mac OS and ARM processor detected: Please enable PowerMetrics sudo to measure CPU\n",
      "\n",
      "[codecarbon INFO @ 11:38:39] CPU Model on constant consumption mode: Apple M3\n",
      "[codecarbon DEBUG @ 11:38:39] is_psutil_available() : psutil.cpu_times().nice is too small : 0.0 !\n",
      "[codecarbon WARNING @ 11:38:39] No CPU tracking mode found. Falling back on CPU constant mode.\n",
      "[codecarbon INFO @ 11:38:39] [setup] GPU Tracking...\n",
      "[codecarbon INFO @ 11:38:39] No GPU found.\n",
      "[codecarbon INFO @ 11:38:39] The below tracking methods have been set up:\n",
      "                RAM Tracking Method: RAM power estimation model\n",
      "                CPU Tracking Method: global constant\n",
      "                GPU Tracking Method: Unspecified\n",
      "            \n",
      "[codecarbon INFO @ 11:38:39] >>> Tracker's metadata:\n",
      "[codecarbon INFO @ 11:38:39]   Platform system: macOS-13.7.6-arm64-arm-64bit-Mach-O\n",
      "[codecarbon INFO @ 11:38:39]   Python version: 3.13.5\n",
      "[codecarbon INFO @ 11:38:39]   CodeCarbon version: 3.0.1\n",
      "[codecarbon INFO @ 11:38:39]   Available RAM : 8.000 GB\n",
      "[codecarbon INFO @ 11:38:39]   CPU count: 8 thread(s) in 1 physical CPU(s)\n",
      "[codecarbon INFO @ 11:38:39]   CPU model: Apple M3\n",
      "[codecarbon INFO @ 11:38:39]   GPU count: None\n",
      "[codecarbon INFO @ 11:38:39]   GPU model: None\n",
      "[codecarbon DEBUG @ 11:38:40] Not running on AWS\n",
      "[codecarbon DEBUG @ 11:38:40] Not running on Azure\n",
      "[codecarbon DEBUG @ 11:38:40] Not running on GCP\n",
      "[codecarbon INFO @ 11:38:40] Emissions data (if any) will be saved to file /Users/jpinney/Documents/GitHub/ECRI-RCDS-Hackathon/emissions.csv\n",
      "[codecarbon DEBUG @ 11:38:57] RAM power estimation: 3.00W for 8.00GB\n",
      "[codecarbon INFO @ 11:38:57] Energy consumed for RAM : 0.000014 kWh. RAM Power : 3.0 W\n",
      "[codecarbon DEBUG @ 11:38:57] Done measure for RAM - measurement time: 0.1077 s - last call 17.15 s\n",
      "[codecarbon INFO @ 11:38:57] Delta energy consumed for CPU with constant : 0.000205 kWh, power : 42.5 W\n",
      "[codecarbon INFO @ 11:38:57] Energy consumed for All CPU : 0.000205 kWh\n",
      "[codecarbon DEBUG @ 11:38:57] Done measure for CPU - measurement time: 0.0887 s - last call 17.33 s\n",
      "[codecarbon INFO @ 11:38:57] 0.000219 kWh of electricity used since the beginning.\n",
      "[codecarbon DEBUG @ 11:38:57] last_duration=17.14844633299799\n",
      "------------------------\n",
      "[codecarbon DEBUG @ 11:38:59] RAM power estimation: 3.00W for 8.00GB\n",
      "[codecarbon INFO @ 11:38:59] Energy consumed for RAM : 0.000015 kWh. RAM Power : 3.0 W\n",
      "[codecarbon DEBUG @ 11:38:59] Done measure for RAM - measurement time: 0.0005 s - last call 1.19 s\n",
      "[codecarbon INFO @ 11:38:59] Delta energy consumed for CPU with constant : 0.000014 kWh, power : 42.5 W\n",
      "[codecarbon INFO @ 11:38:59] Energy consumed for All CPU : 0.000219 kWh\n",
      "[codecarbon DEBUG @ 11:38:59] Done measure for CPU - measurement time: 0.0004 s - last call 1.19 s\n",
      "[codecarbon INFO @ 11:38:59] 0.000234 kWh of electricity used since the beginning.\n",
      "[codecarbon DEBUG @ 11:38:59] last_duration=1.187336332994164\n",
      "------------------------\n",
      "[codecarbon DEBUG @ 11:38:59] We apply an energy mix of 417 g.CO2eq/kWh for Estonia\n",
      "[codecarbon DEBUG @ 11:38:59] EmissionsData(timestamp='2025-07-20T11:38:59', project_name='codecarbon', run_id='ac199be5-ab7a-4ae9-b678-828b6fef0502', experiment_id='d960f128-b0b6-4eb2-a1e1-d2bbc81bbbe0', duration=18.697210792000988, emissions=9.744169943052134e-05, emissions_rate=5.211563399189397e-06, cpu_power=42.5, gpu_power=0.0, ram_power=3.0, cpu_energy=0.00021858005442700236, gpu_energy=0, ram_energy=1.5279837118335612e-05, energy_consumed=0.000233859891545338, country_name='Estonia', country_iso_code='EST', region='harjumaa', cloud_provider='', cloud_region='', os='macOS-13.7.6-arm64-arm-64bit-Mach-O', python_version='3.13.5', codecarbon_version='3.0.1', cpu_count=8, cpu_model='Apple M3', gpu_count=None, gpu_model=None, longitude=24.7369, latitude=59.4381, ram_total_size=8.0, tracking_mode='machine', on_cloud='N', pue=1.0)\n"
     ]
    },
    {
     "name": "stdout",
     "output_type": "stream",
     "text": [
      "[0, 34, 414, 594, 3980, 4038]\n",
      "Emissions: 0.000097 kgCO2\n"
     ]
    }
   ],
   "source": [
    "from codecarbon import EmissionsTracker\n",
    "\n",
    "# Initialize the EmissionsTracker\n",
    "tracker = EmissionsTracker()\n",
    "\n",
    "# Start tracking emissions\n",
    "tracker.start()\n",
    "try:\n",
    "    # Do the task\n",
    "    print(task_brute())\n",
    "except Exception as e:\n",
    "    # Handle exceptions\n",
    "    print(f\"An error occurred: {e}\")\n",
    "finally:\n",
    "    # Stop tracking and get emissions (in kgCO2)\n",
    "    emissions: float = tracker.stop()\n",
    "\n",
    "# Print results\n",
    "print(f\"Emissions: {emissions:,.6f} kgCO2\")"
   ]
  }
 ],
 "metadata": {
  "kernelspec": {
   "display_name": "hack25_2",
   "language": "python",
   "name": "python3"
  },
  "language_info": {
   "codemirror_mode": {
    "name": "ipython",
    "version": 3
   },
   "file_extension": ".py",
   "mimetype": "text/x-python",
   "name": "python",
   "nbconvert_exporter": "python",
   "pygments_lexer": "ipython3",
   "version": "3.13.5"
  }
 },
 "nbformat": 4,
 "nbformat_minor": 5
}
