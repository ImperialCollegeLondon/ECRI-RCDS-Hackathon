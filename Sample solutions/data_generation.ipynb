{
 "cells": [
  {
   "cell_type": "markdown",
   "id": "42bf14c2",
   "metadata": {},
   "source": [
    "## Generate graph datasets\n",
    "\n",
    "Using NetworkX to generate graphs.\n",
    "\n",
    "Each graph has 50000 vertices.\n",
    "\n",
    "Each dataset is created using a different graph generation recipe. (see https://networkx.org/documentation/stable/reference/generators.html)\n",
    "\n",
    "The task will be to distinguish between graphs of two types.\n"
   ]
  },
  {
   "cell_type": "code",
   "execution_count": 4,
   "id": "d02047d8",
   "metadata": {},
   "outputs": [],
   "source": [
    "import networkx as nx\n",
    "import os\n",
    "import random\n",
    "\n",
    "# number of graphs per generator\n",
    "nG = 20\n",
    "\n"
   ]
  },
  {
   "cell_type": "code",
   "execution_count": 26,
   "id": "d21293e4",
   "metadata": {},
   "outputs": [],
   "source": [
    "# Make a demo graph\n",
    "\n",
    "G = nx.erdos_renyi_graph(nv, 0.0001)\n",
    "nx.write_adjlist(G, \"demo_graph.txt\")"
   ]
  },
  {
   "cell_type": "code",
   "execution_count": 5,
   "id": "8f7d51a8",
   "metadata": {},
   "outputs": [],
   "source": [
    "# Erdos-Renyi random graph dataset\n",
    "\n",
    "dir_ER = \"ER4\"\n",
    "if not os.path.exists(dir_ER):\n",
    "    os.makedirs(dir_ER)\n",
    "\n",
    "for gi in range(nG):\n",
    "\n",
    "    # number of vertices\n",
    "    nv = int(50000 * random.random())\n",
    "\n",
    "    # edge probability\n",
    "    p_ER = 0.01 * random.random()\n",
    "\n",
    "    G = nx.erdos_renyi_graph(nv, p_ER)\n",
    "    path = dir_ER + \"/\" + str(gi) + \".txt\"\n",
    "    nx.write_adjlist(G, path)\n"
   ]
  },
  {
   "cell_type": "code",
   "execution_count": null,
   "id": "5d28b58d",
   "metadata": {},
   "outputs": [],
   "source": [
    "# Geometric random graph dataset\n",
    "\n",
    "dir_GEOM = \"GEOM4\"\n",
    "if not os.path.exists(dir_GEOM):\n",
    "    os.makedirs(dir_GEOM)\n",
    "\n",
    "for gi in range(nG):\n",
    "\n",
    "    # number of vertices\n",
    "    nv = int(50000 * random.random())\n",
    "\n",
    "    # edge radius\n",
    "    r_GEOM = 0.1 * random.random()\n",
    "\n",
    "    G = nx.random_geometric_graph(nv, r_GEOM)\n",
    "    path = dir_GEOM + \"/\" + str(gi) + \".txt\"\n",
    "    nx.write_adjlist(G, path)\n"
   ]
  }
 ],
 "metadata": {
  "kernelspec": {
   "display_name": "hack25",
   "language": "python",
   "name": "python3"
  },
  "language_info": {
   "codemirror_mode": {
    "name": "ipython",
    "version": 3
   },
   "file_extension": ".py",
   "mimetype": "text/x-python",
   "name": "python",
   "nbconvert_exporter": "python",
   "pygments_lexer": "ipython3",
   "version": "3.12.11"
  }
 },
 "nbformat": 4,
 "nbformat_minor": 5
}
