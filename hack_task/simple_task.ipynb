{
 "cells": [
  {
   "cell_type": "markdown",
   "id": "606ce95e",
   "metadata": {},
   "source": [
    " ## Simple task to demonstrate carbon estimate\n",
    "\n",
    "Given a [graph](https://en.wikipedia.org/wiki/Graph_(discrete_mathematics)) G, we can apply the following procedure:\n",
    "\n",
    "1) remove all vertices with degree 0 (i.e. unconnected vertices)\n",
    "2) remove all vertices with degree 1 (i.e. those connected to only one other vertex)\n",
    "3) keep repeating (2) until there are no more vertices with degree 1\n",
    "4) output the resulting graph, known as the [2-core](https://en.wikipedia.org/wiki/Degeneracy_(graph_theory)) of the original graph G.\n",
    "\n",
    "You are provided with a file `demo_graph.txt` containing an example graph in the [adjacency list](https://networkx.org/documentation/stable/reference/readwrite/adjlist.html) format."
   ]
  },
  {
   "cell_type": "code",
   "execution_count": 99,
   "id": "7dd83917",
   "metadata": {},
   "outputs": [
    {
     "name": "stdout",
     "output_type": "stream",
     "text": [
      "original graph has 50000 vertices and 62820 edges\n"
     ]
    }
   ],
   "source": [
    "import networkx as nx\n",
    "\n",
    "# load a graph\n",
    "G = nx.read_adjlist(\"demo_graph.txt\", nodetype=int)\n",
    "\n",
    "print(f\"original graph has {len(G.nodes):d} vertices and {len(G.edges):d} edges\")\n"
   ]
  },
  {
   "cell_type": "markdown",
   "id": "48cbb7fc",
   "metadata": {},
   "source": [
    "Here's a function to extract the 2-core of a given graph:"
   ]
  },
  {
   "cell_type": "code",
   "execution_count": 100,
   "id": "c6e22018",
   "metadata": {},
   "outputs": [],
   "source": [
    "def two_core(G):\n",
    "    # make a copy\n",
    "    H = G.copy()\n",
    "\n",
    "    # remove vertices with degree 0\n",
    "    degree_0 = [v for v in H.nodes if H.degree[v] == 0]\n",
    "    H.remove_nodes_from(degree_0)\n",
    "\n",
    "    # repeatedly remove vertices with degree 1 until there are none\n",
    "    degree_1 = [v for v in H.nodes if H.degree[v] == 1]\n",
    "    while(len(degree_1) > 0):\n",
    "        H.remove_nodes_from(degree_1)\n",
    "        degree_1 = [v for v in H.nodes if H.degree[v] == 1]\n",
    "\n",
    "    return H"
   ]
  },
  {
   "cell_type": "markdown",
   "id": "2d711de0",
   "metadata": {},
   "source": [
    "Let's try it out:"
   ]
  },
  {
   "cell_type": "code",
   "execution_count": 101,
   "id": "f3896f8f",
   "metadata": {},
   "outputs": [
    {
     "name": "stdout",
     "output_type": "stream",
     "text": [
      "2-core has 32988 vertices and 50260 edges\n"
     ]
    }
   ],
   "source": [
    "H = two_core(G)\n",
    "\n",
    "print(f\"2-core has {len(H.nodes):d} vertices and {len(H.edges):d} edges\")"
   ]
  },
  {
   "cell_type": "markdown",
   "id": "2a5dff03",
   "metadata": {},
   "source": [
    "Nice. But how can we assess the environmental impact of this code? ..."
   ]
  },
  {
   "cell_type": "code",
   "execution_count": 102,
   "id": "c1bd2b4d",
   "metadata": {},
   "outputs": [
    {
     "name": "stdout",
     "output_type": "stream",
     "text": [
      "2-core has 32988 vertices and 50260 edges\n",
      "Execution Time: 0.2362 seconds\n"
     ]
    }
   ],
   "source": [
    "import time\n",
    "\n",
    "start_time = time.time() \n",
    "H = two_core(G)\n",
    "print(f\"2-core has {len(H.nodes):d} vertices and {len(H.edges):d} edges\")\n",
    "end_time = time.time()\n",
    "\n",
    "print(f\"Execution Time: {end_time - start_time:,.4f} seconds\")\n"
   ]
  }
 ],
 "metadata": {
  "kernelspec": {
   "display_name": "hack25",
   "language": "python",
   "name": "python3"
  },
  "language_info": {
   "codemirror_mode": {
    "name": "ipython",
    "version": 3
   },
   "file_extension": ".py",
   "mimetype": "text/x-python",
   "name": "python",
   "nbconvert_exporter": "python",
   "pygments_lexer": "ipython3",
   "version": "3.12.11"
  }
 },
 "nbformat": 4,
 "nbformat_minor": 5
}
