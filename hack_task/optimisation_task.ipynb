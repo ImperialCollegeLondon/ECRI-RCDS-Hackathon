{
 "cells": [
  {
   "cell_type": "markdown",
   "id": "606ce95e",
   "metadata": {},
   "source": [
    " ## Sustainability optimisation task: classifying graphs\n",
    "\n",
    "The [onion decomposition](https://networkx.org/documentation/stable/reference/algorithms/generated/networkx.algorithms.core.onion_layers.html#networkx.algorithms.core.onion_layers) of a graph G is based on the k-core algorithm explained earlier, but records the vertices removed in each step."
   ]
  },
  {
   "cell_type": "code",
   "execution_count": 26,
   "id": "7dd83917",
   "metadata": {},
   "outputs": [
    {
     "name": "stdout",
     "output_type": "stream",
     "text": [
      "original graph has 50000 vertices and 125005 edges\n",
      "layer 1 contains 326 vertices\n",
      "layer 2 contains 1693 vertices\n",
      "layer 3 contains 68 vertices\n",
      "layer 4 contains 4284 vertices\n",
      "layer 5 contains 754 vertices\n",
      "layer 6 contains 153 vertices\n",
      "layer 7 contains 37 vertices\n",
      "layer 8 contains 9 vertices\n",
      "layer 9 contains 2 vertices\n",
      "layer 10 contains 7732 vertices\n",
      "layer 11 contains 4155 vertices\n",
      "layer 12 contains 2604 vertices\n",
      "layer 13 contains 1854 vertices\n",
      "layer 14 contains 1480 vertices\n",
      "layer 15 contains 1299 vertices\n",
      "layer 16 contains 1183 vertices\n",
      "layer 17 contains 1101 vertices\n",
      "layer 18 contains 1065 vertices\n",
      "layer 19 contains 1085 vertices\n",
      "layer 20 contains 1185 vertices\n"
     ]
    }
   ],
   "source": [
    "import networkx as nx\n",
    "\n",
    "# load a graph\n",
    "G = nx.read_adjlist(\"demo_graph.txt\", nodetype=int)\n",
    "\n",
    "print(f\"original graph has {len(G.nodes):d} vertices and {len(G.edges):d} edges\")\n",
    "\n",
    "od = nx.onion_layers(G)\n",
    "\n",
    "for i in range(1, 21):\n",
    "    layer_i = [v for v in od.keys() if od[v] == i]\n",
    "    print(f\"layer {i:d} contains {len(layer_i):d} vertices\")\n"
   ]
  },
  {
   "cell_type": "markdown",
   "id": "48cbb7fc",
   "metadata": {},
   "source": [
    "The sequence of layer sizes contains a lot of information about the local structure of the graph. \n",
    "\n",
    "It might make a useful set of features for distinguishing between graphs of different types."
   ]
  },
  {
   "cell_type": "markdown",
   "id": "9f95e774",
   "metadata": {},
   "source": [
    "## The task\n",
    "\n",
    "You are given the directory `data`, which contains subdirectories containing examples of graphs built with two different generator functions.\n",
    "\n",
    "All the graphs have different numbers of vertices and are built using different parameter values.\n",
    "\n",
    "Your job is to build a workflow that will \n",
    "1. calculate the sizes of the first 50 onion layers of the graphs provided\n",
    "2. use these as features to build a machine learning classifier to distinguish between these two types of graph.\n",
    "\n",
    "We are interested in the *total sustainability* of the solution (i.e. the development, training and usage of the resulting model).\n",
    "\n",
    "### development cost\n",
    "You will make an estimate of the development cost, including any use of GenAI for coding.\n",
    "\n",
    "### training cost\n",
    "Your workflow will be applied to an UNSEEN training dataset (containing different types of graph to the ones you have been given!). \n",
    "\n",
    "We will record the mean training cost over 100 repetitions.\n",
    "\n",
    "### usage cost\n",
    "The resulting model will be used to classify a balanced testing set of 100 graphs, and the total cost of testing will be recorded.\n",
    "\n",
    "### performance\n",
    "The accuracy on the test dataset will be recorded.\n",
    "\n",
    "Solutions will be ranked by their accuracy and their total carbon cost.\n",
    "\n",
    "\n",
    "\n",
    "Good luck!\n"
   ]
  },
  {
   "cell_type": "markdown",
   "id": "c43fd739",
   "metadata": {},
   "source": []
  }
 ],
 "metadata": {
  "kernelspec": {
   "display_name": "hack25",
   "language": "python",
   "name": "python3"
  },
  "language_info": {
   "codemirror_mode": {
    "name": "ipython",
    "version": 3
   },
   "file_extension": ".py",
   "mimetype": "text/x-python",
   "name": "python",
   "nbconvert_exporter": "python",
   "pygments_lexer": "ipython3",
   "version": "3.12.11"
  }
 },
 "nbformat": 4,
 "nbformat_minor": 5
}
